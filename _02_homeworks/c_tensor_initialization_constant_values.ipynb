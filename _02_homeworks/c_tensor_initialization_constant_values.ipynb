{
  "nbformat": 4,
  "nbformat_minor": 0,
  "metadata": {
    "colab": {
      "provenance": []
    },
    "kernelspec": {
      "name": "python3",
      "display_name": "Python 3"
    },
    "language_info": {
      "name": "python"
    }
  },
  "cells": [
    {
      "cell_type": "code",
      "execution_count": 1,
      "metadata": {
        "colab": {
          "base_uri": "https://localhost:8080/"
        },
        "id": "Erzwy6BKP8OT",
        "outputId": "a8705001-5022-4cad-aadb-4b3d39d0a753"
      },
      "outputs": [
        {
          "output_type": "stream",
          "name": "stdout",
          "text": [
            "tensor([1., 1., 1., 1., 1.])\n",
            "tensor([1., 1., 1., 1., 1.])\n",
            "tensor([0., 0., 0., 0., 0., 0.])\n",
            "tensor([0., 0., 0., 0., 0., 0.])\n",
            "tensor([1.5414e-44, 0.0000e+00, 1.5414e-44, 1.9618e-44])\n",
            "tensor([0., 0., 0., 0.])\n",
            "tensor([[1., 0., 0.],\n",
            "        [0., 1., 0.],\n",
            "        [0., 0., 1.]])\n"
          ]
        }
      ],
      "source": [
        "import torch\n",
        "\n",
        "t1 = torch.ones(size=(5,))\n",
        "t1_like = torch.ones_like(input=t1) # t1과 같은 shape과 데이터 타입을 가지고 모든 값이 1인 텐서를 생성\n",
        "print(t1)\n",
        "print(t1_like)\n",
        "\n",
        "t2 = torch.zeros(size=(6,))\n",
        "t2_like = torch.zeros_like(input=t2) # t2와 같은 shape과 데이터 타입을 가지고 모든 값이 0인 텐서를 생성\n",
        "print(t2)\n",
        "print(t2_like)\n",
        "\n",
        "t3 = torch.empty(size=(4,))\n",
        "t3_like = torch.empty_like(input=t3) # t3와 같은 shape과 데이터 타입을 가지고 초기화 되지 않은 값을 가지는 텐서 생성\n",
        "print(t3)\n",
        "print(t3_like)\n",
        "\n",
        "t4 = torch.eye(n=3) # indentity matrix생성\n",
        "print(t4)\n"
      ]
    },
    {
      "cell_type": "code",
      "source": [],
      "metadata": {
        "id": "pC9jlMskQPCH"
      },
      "execution_count": null,
      "outputs": []
    }
  ]
}