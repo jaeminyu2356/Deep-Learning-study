{
  "nbformat": 4,
  "nbformat_minor": 0,
  "metadata": {
    "colab": {
      "provenance": []
    },
    "kernelspec": {
      "name": "python3",
      "display_name": "Python 3"
    },
    "language_info": {
      "name": "python"
    }
  },
  "cells": [
    {
      "cell_type": "code",
      "execution_count": 2,
      "metadata": {
        "colab": {
          "base_uri": "https://localhost:8080/"
        },
        "id": "KMnCPe6TSb2f",
        "outputId": "a42776fa-39cf-41df-f773-48961d6dd720"
      },
      "outputs": [
        {
          "output_type": "stream",
          "name": "stdout",
          "text": [
            "tensor([[17, 12]])\n",
            "tensor([[0.0453, 0.5035, 0.9978]])\n",
            "tensor([[0.7419, 0.5923, 0.2908]])\n",
            "tensor([[ 9.2270, 10.0961],\n",
            "        [ 9.4067,  9.5878],\n",
            "        [10.0763, 11.1161]])\n",
            "tensor([0.0000, 2.5000, 5.0000])\n",
            "tensor([0, 1, 2, 3, 4])\n",
            "tensor([[0.3126, 0.3791, 0.3087],\n",
            "        [0.0736, 0.4216, 0.0691]])\n",
            "tensor([[0.2332, 0.4047, 0.2162],\n",
            "        [0.9927, 0.4128, 0.5938]])\n",
            "\n",
            "tensor([[0.3126, 0.3791, 0.3087],\n",
            "        [0.0736, 0.4216, 0.0691]])\n",
            "tensor([[0.2332, 0.4047, 0.2162],\n",
            "        [0.9927, 0.4128, 0.5938]])\n"
          ]
        }
      ],
      "source": [
        "import torch\n",
        "\n",
        "# 10~ 20중 랜덤으로 1,2 matrix 값을 채워 생성\n",
        "t1 = torch.randint(low=10, high=20, size=(1, 2))\n",
        "print(t1)\n",
        "\n",
        "# 랜덤한 수로 1,3 matrix 생성\n",
        "t2 = torch.rand(size=(1, 3))\n",
        "print(t2)\n",
        "\n",
        "# 평균이 0이고 분산이 1인 정규 분포를 따르는 랜덤한 수로 1,3 matrix 생성\n",
        "t3 = torch.randn(size=(1, 3))\n",
        "print(t3)\n",
        "\n",
        "# 평균이 10.0이고 분산이 1.0인 정규 분포를 따르는 랜덤한 수로 (3,2) matrix 생성\n",
        "t4 = torch.normal(mean=10.0, std=1.0, size=(3, 2))\n",
        "print(t4)\n",
        "\n",
        "# 0.0에서 5.0까지 3번에 걸친 수(동일한 간격)로 matrix 생성\n",
        "t5 = torch.linspace(start=0.0, end=5.0, steps=3)\n",
        "print(t5)\n",
        "\n",
        "# 시작 default 0, 마지막 5, step default 1\n",
        "t6 = torch.arange(5)\n",
        "print(t6)\n",
        "\n",
        "# 난수 생성 시드 고정\n",
        "torch.manual_seed(1729)\n",
        "random1 = torch.rand(2, 3)\n",
        "print(random1)\n",
        "\n",
        "random2 = torch.rand(2, 3)\n",
        "print(random2)\n",
        "\n",
        "print()\n",
        "\n",
        "torch.manual_seed(1729)\n",
        "random3 = torch.rand(2, 3)\n",
        "print(random3)\n",
        "\n",
        "random4 = torch.rand(2, 3)\n",
        "print(random4)\n"
      ]
    },
    {
      "cell_type": "code",
      "source": [],
      "metadata": {
        "id": "bzYgY0N9Sekg"
      },
      "execution_count": null,
      "outputs": []
    }
  ]
}