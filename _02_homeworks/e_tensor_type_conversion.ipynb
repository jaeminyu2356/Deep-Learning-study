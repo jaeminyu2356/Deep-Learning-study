{
  "cells": [
    {
      "cell_type": "code",
      "execution_count": 1,
      "metadata": {
        "colab": {
          "base_uri": "https://localhost:8080/"
        },
        "id": "T-Pr-7UGaXU2",
        "outputId": "880260e8-0596-402f-bec2-fd00b6b1a904"
      },
      "outputs": [
        {
          "name": "stdout",
          "output_type": "stream",
          "text": [
            "torch.float32\n",
            "tensor([[1, 1, 1],\n",
            "        [1, 1, 1]], dtype=torch.int16)\n",
            "tensor([[ 5.9940,  1.5436, 11.1582],\n",
            "        [ 3.3226, 11.7254, 12.3198]], dtype=torch.float64)\n",
            "tensor([[1, 1, 1],\n",
            "        [1, 1, 1]], dtype=torch.int32)\n",
            "torch.float64\n",
            "torch.int16\n",
            "torch.float64\n"
          ]
        }
      ],
      "source": [
        "import torch\n",
        "\n",
        "# 1로 채워진 2*3 matrix\n",
        "a = torch.ones((2, 3))\n",
        "# default float32\n",
        "print(a.dtype)\n",
        "\n",
        "# int16 타입으로 1로 채워진 2*3 matrix 생성\n",
        "b = torch.ones((2, 3), dtype=torch.int16)\n",
        "print(b)\n",
        "\n",
        "# 랜덤 변수에 20씩 곱한값을 2*3 matrix를 float64로 생성\n",
        "c = torch.rand((2, 3), dtype=torch.float64) * 20.\n",
        "print(c)\n",
        "\n",
        "# int32타입으로 변경한 matrix b를d에 복사\n",
        "d = b.to(torch.int32)\n",
        "print(d)\n",
        "\n",
        "# double타입 1로 채워진 10*2 matrix 생성\n",
        "double_d = torch.ones(10, 2, dtype=torch.double)\n",
        "# short타입으로 생성된 1*2 matrix 생성\n",
        "short_e = torch.tensor([[1, 2]], dtype=torch.short)\n",
        "\n",
        "# double타입 0으로 채워진 10*2 matrix 생성\n",
        "double_d = torch.zeros(10, 2).double()\n",
        "# short타입 1로 채워진 10*2 matrix 생성\n",
        "short_e = torch.ones(10, 2).short()\n",
        "\n",
        "# 0으로 채워진 10*2 matrix를 double 타입으로 변환\n",
        "double_d = torch.zeros(10, 2).to(torch.double)\n",
        "# 1로 채워진 10*2 matrix를 short 타입으로 변환\n",
        "short_e = torch.ones(10, 2).to(dtype=torch.short)\n",
        "\n",
        "# 0으로 채워진 10*2 matrix를 double 타입으로 변환\n",
        "double_d = torch.zeros(10, 2).type(torch.double)\n",
        "# 1로 채워진 10*2 matrix를 short 타입으로 변환\n",
        "short_e = torch.ones(10, 2). type(dtype=torch.short)\n",
        "\n",
        "print(double_d.dtype)\n",
        "print(short_e.dtype)\n",
        "\n",
        "double_f = torch.rand(5, dtype=torch.double)\n",
        "short_g = double_f.to(torch.short)\n",
        "# 더 큰 자료형 따라감\n",
        "print((double_f * short_g).dtype)\n"
      ]
    },
    {
      "cell_type": "code",
      "execution_count": null,
      "metadata": {
        "id": "1AnLR8fEaZW0"
      },
      "outputs": [],
      "source": []
    }
  ],
  "metadata": {
    "colab": {
      "provenance": []
    },
    "kernelspec": {
      "display_name": "Python 3",
      "name": "python3"
    },
    "language_info": {
      "name": "python"
    }
  },
  "nbformat": 4,
  "nbformat_minor": 0
}
