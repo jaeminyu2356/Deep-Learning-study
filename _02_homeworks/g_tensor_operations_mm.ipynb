{
  "nbformat": 4,
  "nbformat_minor": 0,
  "metadata": {
    "colab": {
      "provenance": []
    },
    "kernelspec": {
      "name": "python3",
      "display_name": "Python 3"
    },
    "language_info": {
      "name": "python"
    }
  },
  "cells": [
    {
      "cell_type": "code",
      "execution_count": 1,
      "metadata": {
        "colab": {
          "base_uri": "https://localhost:8080/"
        },
        "id": "5H6uJQoNehuJ",
        "outputId": "97135ab6-6336-406a-b808-502b2c883e60"
      },
      "outputs": [
        {
          "output_type": "stream",
          "name": "stdout",
          "text": [
            "tensor(7) torch.Size([])\n",
            "tensor([[0.8175, 0.4457],\n",
            "        [3.3948, 2.1531]]) torch.Size([2, 2])\n",
            "torch.Size([10, 3, 5])\n"
          ]
        }
      ],
      "source": [
        "import torch\n",
        "\n",
        "# 2*2 + 3*1 = 7\n",
        "t1 = torch.dot(\n",
        "  torch.tensor([2, 3]), torch.tensor([2, 1])\n",
        ")\n",
        "print(t1, t1.size())\n",
        "\n",
        "# dot product와 역할 같음\n",
        "t2 = torch.randn(2, 3)\n",
        "t3 = torch.randn(3, 2)\n",
        "t4 = torch.mm(t2, t3)\n",
        "print(t4, t4.size())\n",
        "\n",
        "# 배치 단위 dot product\n",
        "t5 = torch.randn(10, 3, 4)\n",
        "t6 = torch.randn(10, 4, 5)\n",
        "t7 = torch.bmm(t5, t6)\n",
        "print(t7.size())\n"
      ]
    },
    {
      "cell_type": "code",
      "source": [],
      "metadata": {
        "id": "mptvbimnezpM"
      },
      "execution_count": null,
      "outputs": []
    }
  ]
}