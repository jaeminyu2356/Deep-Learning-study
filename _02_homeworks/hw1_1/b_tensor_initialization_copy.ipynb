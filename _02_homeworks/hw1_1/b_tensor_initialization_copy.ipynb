{
  "nbformat": 4,
  "nbformat_minor": 0,
  "metadata": {
    "colab": {
      "provenance": []
    },
    "kernelspec": {
      "name": "python3",
      "display_name": "Python 3"
    },
    "language_info": {
      "name": "python"
    }
  },
  "cells": [
    {
      "cell_type": "code",
      "execution_count": 2,
      "metadata": {
        "colab": {
          "base_uri": "https://localhost:8080/"
        },
        "id": "K6bB5xvFON-t",
        "outputId": "70f4112f-b353-43f3-96cb-ce43b2520a2e"
      },
      "outputs": [
        {
          "output_type": "stream",
          "name": "stdout",
          "text": [
            "tensor([1., 2., 3.])\n",
            "tensor([1, 2, 3])\n",
            "tensor([1, 2, 3])\n"
          ]
        }
      ],
      "source": [
        "import torch\n",
        "import numpy as np\n",
        "\n",
        "# array 생성 후 torch.Tensor type으로 t1에 복사\n",
        "l1= [1,2,3]\n",
        "t1=torch.Tensor(l1)\n",
        "\n",
        "# array 생성 후 torch.tensor type으로 t2에 복사\n",
        "l2=[1,2,3]\n",
        "t2=torch.tensor(l2)\n",
        "\n",
        "# array 생성 후 torch.as_tensor type으로 t3에 복사\n",
        "l3=[1,2,3]\n",
        "t3=torch.as_tensor(l3)\n",
        "\n",
        "l1[0]=100\n",
        "l2[0]=100\n",
        "l3[0]=100\n",
        "\n",
        "print(t1)\n",
        "print(t2)\n",
        "print(t3)"
      ]
    },
    {
      "cell_type": "code",
      "source": [
        "# numpy array 생성 후 torch.Tensor으로 t4에 복사\n",
        "l4 = np.array([1, 2, 3])\n",
        "t4 = torch.Tensor(l4)\n",
        "\n",
        "# numpy array 생성 후 torch.tensor으로 t5에 복사\n",
        "l5 = np.array([1, 2, 3])\n",
        "t5 = torch.tensor(l5)\n",
        "\n",
        "# numpy array 생성 후 torch.as_tensor으로 l6에 복사\n",
        "# 파이썬 list와 ndarray의 구조적 차이로 오는 현상 재현\n",
        "# l6을 변경시 tensor로 타입변환하는 과정에 있어\n",
        "# t6는 l6을 참고하여 값을 표현\n",
        "l6 = np.array([1, 2, 3])\n",
        "t6 = torch.as_tensor(l6)\n",
        "\n",
        "l4[0] = 100\n",
        "l5[0] = 100\n",
        "l6[0] = 100\n",
        "\n",
        "print(t4)\n",
        "print(t5)\n",
        "print(t6)\n"
      ],
      "metadata": {
        "colab": {
          "base_uri": "https://localhost:8080/"
        },
        "id": "VRJ21fNlOzeL",
        "outputId": "af9ca25f-4421-4573-b3e7-7e8586078a93"
      },
      "execution_count": 3,
      "outputs": [
        {
          "output_type": "stream",
          "name": "stdout",
          "text": [
            "tensor([1., 2., 3.])\n",
            "tensor([1, 2, 3])\n",
            "tensor([100,   2,   3])\n"
          ]
        }
      ]
    },
    {
      "cell_type": "code",
      "source": [],
      "metadata": {
        "id": "lPTDkPC3PQeN"
      },
      "execution_count": null,
      "outputs": []
    }
  ]
}