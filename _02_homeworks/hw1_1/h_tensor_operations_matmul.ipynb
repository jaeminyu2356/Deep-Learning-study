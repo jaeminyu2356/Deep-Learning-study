{
  "nbformat": 4,
  "nbformat_minor": 0,
  "metadata": {
    "colab": {
      "provenance": []
    },
    "kernelspec": {
      "name": "python3",
      "display_name": "Python 3"
    },
    "language_info": {
      "name": "python"
    }
  },
  "cells": [
    {
      "cell_type": "code",
      "execution_count": 1,
      "metadata": {
        "colab": {
          "base_uri": "https://localhost:8080/"
        },
        "id": "KlLlHaQjg7R6",
        "outputId": "eee7b545-ef26-4daa-ffdf-b55b58ac610f"
      },
      "outputs": [
        {
          "output_type": "stream",
          "name": "stdout",
          "text": [
            "torch.Size([])\n",
            "torch.Size([3])\n",
            "torch.Size([10, 3])\n",
            "torch.Size([10, 3, 5])\n",
            "torch.Size([10, 3, 5])\n"
          ]
        }
      ],
      "source": [
        "import torch\n",
        "\n",
        "# [a,b,c] * [d,f,g] 형태의 랜덤한 벡터들의 곱\n",
        "t1 = torch.randn(3)\n",
        "t2 = torch.randn(3)\n",
        "print(torch.matmul(t1, t2).size())\n",
        "\n",
        "# matrix와 벡터의 곱\n",
        "t3 = torch.randn(3, 4)\n",
        "t4 = torch.randn(4)\n",
        "print(torch.matmul(t3, t4).size())\n",
        "\n",
        "# 3차원 matrix와 벡터의 곱\n",
        "t5 = torch.randn(10, 3, 4)\n",
        "t6 = torch.randn(4)\n",
        "print(torch.matmul(t5, t6).size())\n",
        "\n",
        "# 3차원 matrix와 3차원 matrix의 곱\n",
        "t7 = torch.randn(10, 3, 4)\n",
        "t8 = torch.randn(10, 4, 5)\n",
        "print(torch.matmul(t7, t8).size())\n",
        "\n",
        "# 3차원 벡터와 2차원 벡터의 곱\n",
        "t9 = torch.randn(10, 3, 4)\n",
        "t10 = torch.randn(4, 5)\n",
        "print(torch.matmul(t9, t10).size())\n"
      ]
    },
    {
      "cell_type": "code",
      "source": [],
      "metadata": {
        "id": "uLnW6NY-g9UM"
      },
      "execution_count": null,
      "outputs": []
    }
  ]
}