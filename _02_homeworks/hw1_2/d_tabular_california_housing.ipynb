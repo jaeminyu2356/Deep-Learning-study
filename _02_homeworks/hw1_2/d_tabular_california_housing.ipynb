{
 "cells": [
  {
   "cell_type": "code",
   "execution_count": 4,
   "metadata": {},
   "outputs": [
    {
     "name": "stdout",
     "output_type": "stream",
     "text": [
      "dict_keys(['data', 'target', 'frame', 'target_names', 'feature_names', 'DESCR'])\n",
      "<class 'numpy.ndarray'>\n",
      "float64\n",
      "(20640, 8)\n",
      "['MedInc', 'HouseAge', 'AveRooms', 'AveBedrms', 'Population', 'AveOccup', 'Latitude', 'Longitude']\n",
      "(20640,)\n",
      "['MedHouseVal']\n",
      "################################################## 1\n",
      "-124.35 35682.0\n",
      "-2.3859923416733877 119.41910318829312\n",
      "################################################## 2\n",
      "torch.Size([16512, 8])\n",
      "torch.Size([16512])\n",
      "torch.Size([4128, 8])\n",
      "torch.Size([4128])\n"
     ]
    }
   ],
   "source": [
    "# https://medium.com/analytics-vidhya/implement-linear-regression-on-boston-housing-dataset-by-pytorch-c5d29546f938\n",
    "# https://scikit-learn.org/stable/datasets/real_world.html#california-housing-dataset\n",
    "import torch\n",
    "from sklearn.datasets import fetch_california_housing\n",
    "\n",
    "\n",
    "# 캘리포니아 하우스 데이터셋 로드\n",
    "housing = fetch_california_housing()\n",
    "print(housing.keys())\n",
    "\n",
    "print(type(housing.data))\n",
    "print(housing.data.dtype)\n",
    "print(housing.data.shape)\n",
    "print(housing.feature_names)\n",
    "\n",
    "print(housing.target.shape)\n",
    "print(housing.target_names)\n",
    "\n",
    "print(\"#\" * 50, 1)\n",
    "\n",
    "import numpy as np\n",
    "# 특징 데이터의 최솟값과 최댓값 출력\n",
    "print(housing.data.min(), housing.data.max())\n",
    "\n",
    "# 열에 대한 평균 계산\n",
    "data_mean = np.mean(housing.data, axis=0)\n",
    "# 열에 대한 분산 계산\n",
    "data_var = np.var(housing.data, axis=0)\n",
    "# 정규화\n",
    "data = (housing.data - data_mean) / np.sqrt(data_var)\n",
    "target = housing.target\n",
    "\n",
    "print(data.min(), data.max())\n",
    "\n",
    "print(\"#\" * 50, 2)\n",
    "\n",
    "from sklearn.model_selection import train_test_split\n",
    "\n",
    "# 데이터 8:2로 스플릿\n",
    "X_train, X_test, y_train, y_test = train_test_split(data, target, test_size=0.2)\n",
    "\n",
    "# 넘파이 배열에서 텐서로 변환\n",
    "X_train = torch.from_numpy(X_train)\n",
    "X_test = torch.from_numpy(X_test)\n",
    "y_train = torch.from_numpy(y_train)\n",
    "y_test = torch.from_numpy(y_test)\n",
    "\n",
    "print(X_train.shape)\n",
    "print(y_train.shape)\n",
    "\n",
    "print(X_test.shape)\n",
    "print(y_test.shape)\n"
   ]
  },
  {
   "cell_type": "code",
   "execution_count": null,
   "metadata": {},
   "outputs": [],
   "source": []
  }
 ],
 "metadata": {
  "kernelspec": {
   "display_name": "base",
   "language": "python",
   "name": "python3"
  },
  "language_info": {
   "codemirror_mode": {
    "name": "ipython",
    "version": 3
   },
   "file_extension": ".py",
   "mimetype": "text/x-python",
   "name": "python",
   "nbconvert_exporter": "python",
   "pygments_lexer": "ipython3",
   "version": "3.11.9"
  }
 },
 "nbformat": 4,
 "nbformat_minor": 2
}
