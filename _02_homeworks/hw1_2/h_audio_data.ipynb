{
 "cells": [
  {
   "cell_type": "code",
   "execution_count": 1,
   "metadata": {},
   "outputs": [
    {
     "name": "stdout",
     "output_type": "stream",
     "text": [
      "44100\n",
      "<class 'numpy.ndarray'>\n",
      "220500\n",
      "[ -388 -3387 -4634 ...  2289  1327    90]\n",
      "torch.Size([2, 1, 220500])\n",
      "################################################## 1\n",
      "torch.Size([129, 984])\n",
      "torch.Size([129, 984])\n",
      "torch.Size([129, 984])\n",
      "torch.Size([129, 984])\n",
      "torch.Size([1, 2, 129, 984])\n"
     ]
    }
   ],
   "source": [
    "import torch\n",
    "import os\n",
    "import scipy.io.wavfile as wavfile\n",
    "\n",
    "# 오디오 파일 경로\n",
    "audio_1_path = os.path.join(os.path.pardir, os.path.pardir, \"_00_data\", \"f_audio-chirp\", \"1-100038-A-14.wav\")\n",
    "audio_2_path = os.path.join(os.path.pardir, os.path.pardir, \"_00_data\", \"f_audio-chirp\", \"1-100210-A-36.wav\")\n",
    "\n",
    "# 오디오 파일 읽기\n",
    "freq_1, waveform_arr_1 = wavfile.read(audio_1_path)\n",
    "# 주파수 출력\n",
    "print(freq_1)\n",
    "# 파형 데이터 타입 출력\n",
    "print(type(waveform_arr_1))\n",
    "# 파형 데이터 길이 출력\n",
    "print(len(waveform_arr_1))\n",
    "# 파형 데이터 출력\n",
    "print(waveform_arr_1)\n",
    "\n",
    "freq_2, waveform_arr_2 = wavfile.read(audio_2_path)\n",
    "\n",
    "# 두개 파형을 하나의 텐서로 병합\n",
    "waveform = torch.empty(2, 1, 220_500)\n",
    "waveform[0, 0] = torch.from_numpy(waveform_arr_1).float()\n",
    "waveform[1, 0] = torch.from_numpy(waveform_arr_2).float()\n",
    "print(waveform.shape)\n",
    "\n",
    "print(\"#\" * 50, 1)\n",
    "\n",
    "from scipy import signal\n",
    "\n",
    "\n",
    "# 첫번째 오디오 파일 스펙트로그램 생성\n",
    "_, _, sp_arr_1 = signal.spectrogram(waveform_arr_1, freq_1)\n",
    "# 첫번째 오디오 파일 스펙트로그램 생성\n",
    "_, _, sp_arr_2 = signal.spectrogram(waveform_arr_2, freq_2)\n",
    "\n",
    "# 배열을 텐서로 변환\n",
    "sp_1 = torch.from_numpy(sp_arr_1)\n",
    "sp_2 = torch.from_numpy(sp_arr_2)\n",
    "print(sp_1.shape)\n",
    "print(sp_2.shape)\n",
    "\n",
    "sp_left_t = torch.from_numpy(sp_arr_1)\n",
    "sp_right_t = torch.from_numpy(sp_arr_2)\n",
    "print(sp_left_t.shape)\n",
    "print(sp_right_t.shape)\n",
    "\n",
    "# 두개 스펙트로그램 하나로 병합\n",
    "sp_t = torch.stack((sp_left_t, sp_right_t), dim=0).unsqueeze(dim=0)\n",
    "print(sp_t.shape)\n"
   ]
  },
  {
   "cell_type": "code",
   "execution_count": null,
   "metadata": {},
   "outputs": [],
   "source": []
  }
 ],
 "metadata": {
  "kernelspec": {
   "display_name": "base",
   "language": "python",
   "name": "python3"
  },
  "language_info": {
   "codemirror_mode": {
    "name": "ipython",
    "version": 3
   },
   "file_extension": ".py",
   "mimetype": "text/x-python",
   "name": "python",
   "nbconvert_exporter": "python",
   "pygments_lexer": "ipython3",
   "version": "3.11.9"
  }
 },
 "nbformat": 4,
 "nbformat_minor": 2
}
