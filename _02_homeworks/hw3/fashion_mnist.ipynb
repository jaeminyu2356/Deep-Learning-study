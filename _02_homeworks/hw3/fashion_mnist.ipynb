{
 "cells": [
  {
   "cell_type": "code",
   "execution_count": 56,
   "metadata": {},
   "outputs": [],
   "source": [
    "import os\n",
    "from pathlib import Path\n",
    "import torch\n",
    "import wandb\n",
    "from torch import nn\n",
    "import random\n",
    "import numpy as np\n",
    "import torchvision.models as models\n",
    "from torchinfo import summary\n",
    "from torch.utils.data import DataLoader, random_split\n",
    "from torchvision import datasets\n",
    "from torchvision.transforms import transforms\n",
    "import matplotlib.pyplot as plt\n",
    "\n",
    "# 상수 정의 부분에 추가\n",
    "class_names = [\n",
    "    'T-shirt/top',\n",
    "    'Trouser',\n",
    "    'Pullover',\n",
    "    'Dress',\n",
    "    'Coat',\n",
    "    'Sandal',\n",
    "    'Shirt',\n",
    "    'Sneaker',\n",
    "    'Bag',\n",
    "    'Ankle boot'\n",
    "]\n"
   ]
  },
  {
   "cell_type": "code",
   "execution_count": 57,
   "metadata": {},
   "outputs": [],
   "source": [
    "import os\n",
    "import sys\n",
    "\n",
    "# 본 과제 제출자는 현재 우분투 도커 환경에서 작업중이므로 다음과 같이 경로 설정\n",
    "BASE_PATH=\"/home/Deep-Learning-study\"\n",
    "import sys\n",
    "sys.path.append(BASE_PATH)\n",
    "\n",
    "from _01_code._99_common_utils.utils import get_num_cpu_cores, is_linux, is_windows\n",
    "num_data_loading_workers = 4"
   ]
  },
  {
   "cell_type": "code",
   "execution_count": 58,
   "metadata": {},
   "outputs": [],
   "source": [
    "def calculate_mean_std(train_loader):\n",
    "    \"\"\"\n",
    "    데이터셋의 mean과 std를 계산하는 함수\n",
    "    \"\"\"\n",
    "    mean = 0.\n",
    "    std = 0.\n",
    "    total_images = 0\n",
    "    \n",
    "    print(\"Calculating dataset statistics...\")\n",
    "    print(\"This may take a moment...\")\n",
    "    \n",
    "    # 평균 계산\n",
    "    for images, _ in train_loader:\n",
    "        batch_samples = images.size(0)\n",
    "        images = images.view(batch_samples, images.size(1), -1)\n",
    "        mean += images.mean(2).sum(0)\n",
    "        total_images += batch_samples\n",
    "    \n",
    "    mean /= total_images\n",
    "    \n",
    "    # 분산 계산\n",
    "    var = 0.\n",
    "    for images, _ in train_loader:\n",
    "        batch_samples = images.size(0)\n",
    "        images = images.view(batch_samples, images.size(1), -1)\n",
    "        var += ((images - mean.unsqueeze(1))**2).sum([0,2])\n",
    "    \n",
    "    std = torch.sqrt(var / (total_images * 28 * 28))  # 28x28은 이미지 크기\n",
    "    \n",
    "    print(\"\\nDataset Statistics:\")\n",
    "    print(f\"Number of training images: {total_images}\")\n",
    "    print(f\"Mean: {mean.item():.4f}\")\n",
    "    print(f\"Std: {std.item():.4f}\")\n",
    "    print(f\"Var: {std.item()**2:.4f}\")\n",
    "    \n",
    "    # wandb에도 기록\n",
    "    if wandb.run is not None:\n",
    "        wandb.run.summary.update({\n",
    "            \"dataset_mean\": mean.item(),\n",
    "            \"dataset_std\": std.item(),\n",
    "            \"dataset_variance\": std.item()**2\n",
    "        })\n",
    "    \n",
    "    return mean.item(), std.item()"
   ]
  },
  {
   "cell_type": "code",
   "execution_count": 59,
   "metadata": {},
   "outputs": [],
   "source": [
    "def get_fashion_mnist_data():\n",
    "    \"\"\"\n",
    "    학습 및 검증 데이터셋을 위한 데이터 로더를 반환하는 함수\n",
    "    \"\"\"\n",
    "    data_path = os.path.join(BASE_PATH, \"_00_data\", \"j_fashion_mnist\")\n",
    "\n",
    "    print(\"\\nLoading Fashion MNIST dataset...\")\n",
    "    \n",
    "    # 기본 ToTensor transform으로 데이터 로드\n",
    "    f_mnist_train = datasets.FashionMNIST(\n",
    "        data_path,\n",
    "        train=True,\n",
    "        download=True,\n",
    "        transform=transforms.ToTensor()\n",
    "    )\n",
    "\n",
    "    # mean과 std 계산을 위한 임시 데이터 로더\n",
    "    temp_loader = DataLoader(\n",
    "        dataset=f_mnist_train,\n",
    "        batch_size=1000,\n",
    "        shuffle=False,\n",
    "        num_workers=num_data_loading_workers\n",
    "    )\n",
    "    \n",
    "    # mean과 std 계산\n",
    "    mean, std = calculate_mean_std(temp_loader)\n",
    "    \n",
    "    print(\"\\nApplying calculated normalization values:\")\n",
    "    print(f\"Mean: {mean:.4f}\")\n",
    "    print(f\"Std: {std:.4f}\")\n",
    "    \n",
    "    # 계산된 mean과 std로 transform 재정의\n",
    "    transform = transforms.Compose([\n",
    "        transforms.ToTensor(),\n",
    "        transforms.Normalize(mean=mean, std=std)\n",
    "    ])\n",
    "\n",
    "    # 새로운 transform으로 데이터셋 재로드\n",
    "    f_mnist_train = datasets.FashionMNIST(\n",
    "        data_path,\n",
    "        train=True,\n",
    "        download=True,\n",
    "        transform=transform\n",
    "    )\n",
    "\n",
    "    f_mnist_validation = datasets.FashionMNIST(\n",
    "        data_path,\n",
    "        train=True,\n",
    "        download=True,\n",
    "        transform=transform\n",
    "    )\n",
    "\n",
    "    # 학습/검증 데이터 분할 (55,000 / 5,000)\n",
    "    train_indices = range(0, 55_000)\n",
    "    validation_indices = range(55_000, 60_000)\n",
    "\n",
    "    f_mnist_train = torch.utils.data.Subset(f_mnist_train, train_indices)\n",
    "    f_mnist_validation = torch.utils.data.Subset(f_mnist_validation, validation_indices)\n",
    "\n",
    "    # 데이터 로더 생성\n",
    "    train_data_loader = DataLoader(\n",
    "        dataset=f_mnist_train,\n",
    "        batch_size=wandb.config.batch_size,\n",
    "        shuffle=True,\n",
    "        pin_memory=True,\n",
    "        num_workers=num_data_loading_workers\n",
    "    )\n",
    "\n",
    "    validation_data_loader = DataLoader(\n",
    "        dataset=f_mnist_validation,\n",
    "        batch_size=wandb.config.batch_size,\n",
    "        pin_memory=True,\n",
    "        num_workers=num_data_loading_workers\n",
    "    )\n",
    "\n",
    "    return train_data_loader, validation_data_loader, transform"
   ]
  },
  {
   "cell_type": "code",
   "execution_count": 60,
   "metadata": {},
   "outputs": [],
   "source": [
    "def get_fashion_mnist_test_data():\n",
    "    # Fashion MNIST 테스트 데이터셋의 경로 설정\n",
    "    data_path = os.path.join(BASE_PATH, \"_00_data\", \"j_fashion_mnist\")\n",
    "\n",
    "    # 원본 이미지를 위한 테스트 데이터셋 로드 (변환 없음)\n",
    "    f_mnist_test_images = datasets.FashionMNIST(data_path, train=False, download=True)\n",
    "    # 텐서로 변환된 테스트 데이터셋 로드\n",
    "    f_mnist_test = datasets.FashionMNIST(data_path, train=False, download=True, transform=transforms.ToTensor())\n",
    "\n",
    "    # 테스트 데이터셋 정보 출력\n",
    "    print(\"Num Test Samples: \", len(f_mnist_test))\n",
    "    print(\"Sample Shape: \", f_mnist_test[0][0].shape)  # torch.Size([1, 28, 28])\n",
    "\n",
    "    # 테스트 데이터로더 설정 (전체 데이터셋을 한 번에 처리하도록 batch_size 설정)\n",
    "    test_data_loader = DataLoader(dataset=f_mnist_test, batch_size=len(f_mnist_test))\n",
    "\n",
    "    # 이미지 전처리를 위한 변환 파이프라인 설정\n",
    "    # - ConvertImageDtype: 이미지를 float 타입으로 변환\n",
    "    f_mnist_transforms = nn.Sequential(\n",
    "        transforms.ConvertImageDtype(torch.float),\n",
    "        transforms.Normalize(mean=0.0, std=0.1),\n",
    "    )\n",
    "\n",
    "    return f_mnist_test_images, test_data_loader, f_mnist_transforms"
   ]
  },
  {
   "cell_type": "code",
   "execution_count": 61,
   "metadata": {},
   "outputs": [],
   "source": [
    "# 랜덤 시드 고정\n",
    "def set_seed(seed=42):\n",
    "    torch.manual_seed(seed)\n",
    "    torch.cuda.manual_seed_all(seed)\n",
    "    np.random.seed(seed)\n",
    "    random.seed(seed)\n",
    "\n",
    "class FashionMNISTResNet(nn.Module):\n",
    "    def __init__(self):\n",
    "        super().__init__()\n",
    "        # ResNet18을 기반으로 수정\n",
    "        self.model = models.resnet18(pretrained=True)\n",
    "        \n",
    "        # 입력 채널을 1로 수정 (Fashion MNIST는 그레이스케일)\n",
    "        self.model.conv1 = nn.Conv2d(1, 64, kernel_size=3, stride=1, padding=1, bias=False)\n",
    "        self.model.maxpool = nn.Identity()  # 작은 이미지 크기를 고려하여 maxpool 제거\n",
    "        \n",
    "        # 출력 레이어를 10개 클래스로 수정\n",
    "        self.model.fc = nn.Sequential(\n",
    "            nn.Dropout(0.5),\n",
    "            nn.Linear(self.model.fc.in_features, 10)\n",
    "        )\n",
    "        \n",
    "    def forward(self, x):\n",
    "        return self.model(x)"
   ]
  },
  {
   "cell_type": "code",
   "execution_count": 62,
   "metadata": {},
   "outputs": [],
   "source": [
    "def train_epoch(model, train_loader, criterion, optimizer, device):\n",
    "    model.train()\n",
    "    running_loss = 0.0\n",
    "    correct = 0\n",
    "    total = 0\n",
    "    \n",
    "    for inputs, labels in train_loader:\n",
    "        inputs, labels = inputs.to(device), labels.to(device)\n",
    "        \n",
    "        optimizer.zero_grad()\n",
    "        outputs = model(inputs)\n",
    "        loss = criterion(outputs, labels)\n",
    "        \n",
    "        loss.backward()\n",
    "        optimizer.step()\n",
    "        \n",
    "        running_loss += loss.item()\n",
    "        _, predicted = outputs.max(1)\n",
    "        total += labels.size(0)\n",
    "        correct += predicted.eq(labels).sum().item()\n",
    "    \n",
    "    return running_loss / len(train_loader), 100. * correct / total"
   ]
  },
  {
   "cell_type": "code",
   "execution_count": 63,
   "metadata": {},
   "outputs": [],
   "source": [
    "def validate(model, val_loader, criterion, device):\n",
    "    model.eval()\n",
    "    running_loss = 0.0\n",
    "    correct = 0\n",
    "    total = 0\n",
    "    \n",
    "    with torch.no_grad():\n",
    "        for inputs, labels in val_loader:\n",
    "            inputs, labels = inputs.to(device), labels.to(device)\n",
    "            outputs = model(inputs)\n",
    "            loss = criterion(outputs, labels)\n",
    "            \n",
    "            running_loss += loss.item()\n",
    "            _, predicted = outputs.max(1)\n",
    "            total += labels.size(0)\n",
    "            correct += predicted.eq(labels).sum().item()\n",
    "    \n",
    "    return running_loss / len(val_loader), 100. * correct / total"
   ]
  },
  {
   "cell_type": "code",
   "execution_count": 67,
   "metadata": {},
   "outputs": [],
   "source": [
    "def test_model(model, device):\n",
    "    \"\"\"\n",
    "    테스트 데이터셋에서 모델의 성능을 평가하는 함수\n",
    "    \"\"\"\n",
    "    model.eval()  # 평가 모드로 설정\n",
    "    test_images, test_loader, _ = get_fashion_mnist_test_data()\n",
    "    \n",
    "    correct = 0\n",
    "    total = 0\n",
    "    \n",
    "    with torch.no_grad():  # 그래디언트 계산 비활성화\n",
    "        for images, labels in test_loader:\n",
    "            images, labels = images.to(device), labels.to(device)\n",
    "            outputs = model(images)\n",
    "            _, predicted = torch.max(outputs.data, 1)\n",
    "            total += labels.size(0)\n",
    "            correct += (predicted == labels).sum().item()\n",
    "    \n",
    "    test_accuracy = 100 * correct / total\n",
    "    print(f\"Test Accuracy: {test_accuracy:.2f}%\")\n",
    "    \n",
    "    # wandb에 테스트 결과 기록\n",
    "    if wandb.run is not None:\n",
    "        wandb.run.summary[\"test_accuracy\"] = test_accuracy\n",
    "    \n",
    "    return test_accuracy"
   ]
  },
  {
   "cell_type": "code",
   "execution_count": 71,
   "metadata": {},
   "outputs": [],
   "source": [
    "def main():\n",
    "    set_seed()\n",
    "    device = torch.device(\"cuda\" if torch.cuda.is_available() else \"cpu\")\n",
    "    \n",
    "    # wandb 초기화\n",
    "    wandb.login()\n",
    "    \n",
    "    wandb.init(\n",
    "        project=\"fashion-mnist-resnet\",\n",
    "        name=\"resnet18_fashion_mnist\",\n",
    "        config={\n",
    "            \"architecture\": \"ResNet18\",\n",
    "            \"learning_rate\": 1e-3,\n",
    "            \"batch_size\": 128,\n",
    "            \"epochs\": 50,\n",
    "            \"weight_decay\": 1e-4,\n",
    "            \"early_stop_patience\": 7,\n",
    "            \"optimizer\": \"AdamW\",\n",
    "            \"scheduler\": \"ReduceLROnPlateau\",\n",
    "            \"dataset\": \"Fashion MNIST\"\n",
    "        }\n",
    "    )\n",
    "    \n",
    "    config = wandb.config\n",
    "    \n",
    "    # 데이터 로더 가져오기\n",
    "    train_loader, val_loader, transforms = get_fashion_mnist_data()\n",
    "    \n",
    "    # 모델 초기화를 wandb.watch() 전으로 이동\n",
    "    model = FashionMNISTResNet().to(device)\n",
    "    \n",
    "    # 모델 구조 출력\n",
    "    summary(model, input_size=(1, 1, 28, 28))\n",
    "    \n",
    "    # wandb에 모델 기록\n",
    "    wandb.watch(model, log=\"all\", log_freq=100)\n",
    "    \n",
    "    # 손실 함수와 옵티마이저 설정\n",
    "    criterion = nn.CrossEntropyLoss()\n",
    "    optimizer = torch.optim.AdamW(\n",
    "        model.parameters(),\n",
    "        lr=config.learning_rate,\n",
    "        weight_decay=config.weight_decay\n",
    "    )\n",
    "    scheduler = torch.optim.lr_scheduler.ReduceLROnPlateau(\n",
    "        optimizer, mode='max', factor=0.1, patience=3, verbose=True\n",
    "    )\n",
    "    \n",
    "    # 학습 진행 상황을 표시할 테이블 생성\n",
    "    columns = [\"epoch\", \"train_loss\", \"train_acc\", \"val_loss\", \"val_acc\", \"learning_rate\"]\n",
    "    progress_table = wandb.Table(columns=columns)\n",
    "    \n",
    "    # Early Stopping 설정\n",
    "    best_val_acc = 0\n",
    "    patience_counter = 0\n",
    "    \n",
    "    # 학습 루프\n",
    "    for epoch in range(config.epochs):\n",
    "        # 학습\n",
    "        train_loss, train_acc = train_epoch(model, train_loader, criterion, optimizer, device)\n",
    "        \n",
    "        # 검증\n",
    "        val_loss, val_acc = validate(model, val_loader, criterion, device)\n",
    "        \n",
    "        # Learning rate 조정\n",
    "        current_lr = optimizer.param_groups[0]['lr']\n",
    "        scheduler.step(val_acc)\n",
    "        \n",
    "        # wandb 로깅\n",
    "        wandb.log({\n",
    "            \"epoch\": epoch,\n",
    "            \"train_loss\": train_loss,\n",
    "            \"train_accuracy\": train_acc,\n",
    "            \"val_loss\": val_loss,\n",
    "            \"val_accuracy\": val_acc,\n",
    "            \"learning_rate\": current_lr\n",
    "        })\n",
    "        \n",
    "        print(f\"Epoch {epoch+1}/{config.epochs}\")\n",
    "        print(f\"Train Loss: {train_loss:.4f}, Train Acc: {train_acc:.2f}%\")\n",
    "        print(f\"Val Loss: {val_loss:.4f}, Val Acc: {val_acc:.2f}%\")\n",
    "        print(f\"Learning Rate: {current_lr}\")\n",
    "        \n",
    "        # Early Stopping 체크 및 모델 저장\n",
    "        if val_acc > best_val_acc:\n",
    "            best_val_acc = val_acc\n",
    "            model_path = os.path.join(wandb.run.dir, 'best_model.pth')\n",
    "            torch.save({\n",
    "                'epoch': epoch,\n",
    "                'model_state_dict': model.state_dict(),\n",
    "                'optimizer_state_dict': optimizer.state_dict(),\n",
    "                'best_val_acc': best_val_acc,\n",
    "            }, model_path)\n",
    "            wandb.save('best_model.pth')\n",
    "            patience_counter = 0\n",
    "        else:\n",
    "            patience_counter += 1\n",
    "            \n",
    "        if patience_counter >= config.early_stop_patience:\n",
    "            print(\"Early stopping triggered\")\n",
    "            break\n",
    "    \n",
    "    # 최종 결과 기록\n",
    "    wandb.run.summary[\"best_validation_accuracy\"] = best_val_acc\n",
    "    \n",
    "    # 테스트 세트 평가\n",
    "    print(\"\\nEvaluating on test set...\")\n",
    "    test_acc = test_model(model, device)  # 여기를 수정\n",
    "    wandb.run.summary[\"test_accuracy\"] = test_acc\n",
    "    \n",
    "    wandb.finish()\n",
    "    \n",
    "    return model"
   ]
  },
  {
   "cell_type": "code",
   "execution_count": 72,
   "metadata": {},
   "outputs": [],
   "source": [
    "def visualize_predictions(model, device, num_samples=10):\n",
    "    test_images, test_loader, _ = get_fashion_mnist_test_data()\n",
    "    model.eval()\n",
    "    \n",
    "    # 랜덤하게 10개 샘플 선택\n",
    "    indices = random.sample(range(len(test_images)), num_samples)\n",
    "    fig, axes = plt.subplots(2, 5, figsize=(15, 6))\n",
    "    axes = axes.ravel()\n",
    "    \n",
    "    for idx, sample_idx in enumerate(indices):\n",
    "        image, label = test_images[sample_idx]\n",
    "        image_tensor = transforms.ToTensor()(image).unsqueeze(0).to(device)\n",
    "        \n",
    "        with torch.no_grad():\n",
    "            output = model(image_tensor)\n",
    "            pred = output.argmax(dim=1).item()\n",
    "        \n",
    "        axes[idx].imshow(image, cmap='gray')\n",
    "        axes[idx].axis('off')\n",
    "        axes[idx].set_title(f'True: {class_names[label]}\\nPred: {class_names[pred]}',\n",
    "                          color='green' if pred == label else 'red')\n",
    "    \n",
    "    plt.tight_layout()\n",
    "    plt.show()"
   ]
  },
  {
   "cell_type": "code",
   "execution_count": 73,
   "metadata": {},
   "outputs": [
    {
     "name": "stderr",
     "output_type": "stream",
     "text": [
      "\u001b[34m\u001b[1mwandb\u001b[0m: \u001b[33mWARNING\u001b[0m Calling wandb.login() after wandb.init() has no effect.\n"
     ]
    },
    {
     "data": {
      "text/html": [
       "Finishing last run (ID:48i8t4ff) before initializing another..."
      ],
      "text/plain": [
       "<IPython.core.display.HTML object>"
      ]
     },
     "metadata": {},
     "output_type": "display_data"
    },
    {
     "data": {
      "text/html": [
       "<style>\n",
       "    table.wandb td:nth-child(1) { padding: 0 10px; text-align: left ; width: auto;} td:nth-child(2) {text-align: left ; width: 100%}\n",
       "    .wandb-row { display: flex; flex-direction: row; flex-wrap: wrap; justify-content: flex-start; width: 100% }\n",
       "    .wandb-col { display: flex; flex-direction: column; flex-basis: 100%; flex: 1; padding: 10px; }\n",
       "    </style>\n",
       "<div class=\"wandb-row\"><div class=\"wandb-col\"><h3>Run history:</h3><br/><table class=\"wandb\"><tr><td>epoch</td><td>▁▂▃▅▆▇█</td></tr><tr><td>learning_rate</td><td>▁▁▁▁▁▁▁</td></tr><tr><td>train_loss</td><td>█▅▃▃▂▁▁</td></tr><tr><td>val_acc</td><td>▁▅▆▃█▅█</td></tr><tr><td>val_loss</td><td>█▅▃▆▁▅▇</td></tr></table><br/></div><div class=\"wandb-col\"><h3>Run summary:</h3><br/><table class=\"wandb\"><tr><td>dataset_mean</td><td>0.28604</td></tr><tr><td>dataset_std</td><td>0.35302</td></tr><tr><td>dataset_variance</td><td>0.12463</td></tr><tr><td>epoch</td><td>6</td></tr><tr><td>learning_rate</td><td>0.001</td></tr><tr><td>train_loss</td><td>0.08075</td></tr><tr><td>val_acc</td><td>93.7</td></tr><tr><td>val_loss</td><td>0.20986</td></tr></table><br/></div></div>"
      ],
      "text/plain": [
       "<IPython.core.display.HTML object>"
      ]
     },
     "metadata": {},
     "output_type": "display_data"
    },
    {
     "data": {
      "text/html": [
       " View run <strong style=\"color:#cdcd00\">resnet18_fashion_mnist</strong> at: <a href='https://wandb.ai/jaeminyu2356-korea-university-of-technology-and-education/fashion-mnist-resnet/runs/48i8t4ff' target=\"_blank\">https://wandb.ai/jaeminyu2356-korea-university-of-technology-and-education/fashion-mnist-resnet/runs/48i8t4ff</a><br/> View project at: <a href='https://wandb.ai/jaeminyu2356-korea-university-of-technology-and-education/fashion-mnist-resnet' target=\"_blank\">https://wandb.ai/jaeminyu2356-korea-university-of-technology-and-education/fashion-mnist-resnet</a><br/>Synced 5 W&B file(s), 0 media file(s), 2 artifact file(s) and 1 other file(s)"
      ],
      "text/plain": [
       "<IPython.core.display.HTML object>"
      ]
     },
     "metadata": {},
     "output_type": "display_data"
    },
    {
     "data": {
      "text/html": [
       "Find logs at: <code>./wandb/run-20241121_062222-48i8t4ff/logs</code>"
      ],
      "text/plain": [
       "<IPython.core.display.HTML object>"
      ]
     },
     "metadata": {},
     "output_type": "display_data"
    },
    {
     "data": {
      "text/html": [
       "Successfully finished last run (ID:48i8t4ff). Initializing new run:<br/>"
      ],
      "text/plain": [
       "<IPython.core.display.HTML object>"
      ]
     },
     "metadata": {},
     "output_type": "display_data"
    },
    {
     "data": {
      "text/html": [
       "Tracking run with wandb version 0.18.5"
      ],
      "text/plain": [
       "<IPython.core.display.HTML object>"
      ]
     },
     "metadata": {},
     "output_type": "display_data"
    },
    {
     "data": {
      "text/html": [
       "Run data is saved locally in <code>/home/Deep-Learning-study/_02_homeworks/hw3/wandb/run-20241121_062642-qxox3j3p</code>"
      ],
      "text/plain": [
       "<IPython.core.display.HTML object>"
      ]
     },
     "metadata": {},
     "output_type": "display_data"
    },
    {
     "data": {
      "text/html": [
       "Syncing run <strong><a href='https://wandb.ai/jaeminyu2356-korea-university-of-technology-and-education/fashion-mnist-resnet/runs/qxox3j3p' target=\"_blank\">resnet18_fashion_mnist</a></strong> to <a href='https://wandb.ai/jaeminyu2356-korea-university-of-technology-and-education/fashion-mnist-resnet' target=\"_blank\">Weights & Biases</a> (<a href='https://wandb.me/run' target=\"_blank\">docs</a>)<br/>"
      ],
      "text/plain": [
       "<IPython.core.display.HTML object>"
      ]
     },
     "metadata": {},
     "output_type": "display_data"
    },
    {
     "data": {
      "text/html": [
       " View project at <a href='https://wandb.ai/jaeminyu2356-korea-university-of-technology-and-education/fashion-mnist-resnet' target=\"_blank\">https://wandb.ai/jaeminyu2356-korea-university-of-technology-and-education/fashion-mnist-resnet</a>"
      ],
      "text/plain": [
       "<IPython.core.display.HTML object>"
      ]
     },
     "metadata": {},
     "output_type": "display_data"
    },
    {
     "data": {
      "text/html": [
       " View run at <a href='https://wandb.ai/jaeminyu2356-korea-university-of-technology-and-education/fashion-mnist-resnet/runs/qxox3j3p' target=\"_blank\">https://wandb.ai/jaeminyu2356-korea-university-of-technology-and-education/fashion-mnist-resnet/runs/qxox3j3p</a>"
      ],
      "text/plain": [
       "<IPython.core.display.HTML object>"
      ]
     },
     "metadata": {},
     "output_type": "display_data"
    },
    {
     "name": "stdout",
     "output_type": "stream",
     "text": [
      "\n",
      "Loading Fashion MNIST dataset...\n",
      "Calculating dataset statistics...\n",
      "This may take a moment...\n",
      "\n",
      "Dataset Statistics:\n",
      "Number of training images: 60000\n",
      "Mean: 0.2860\n",
      "Std: 0.3530\n",
      "Var: 0.1246\n",
      "\n",
      "Applying calculated normalization values:\n",
      "Mean: 0.2860\n",
      "Std: 0.3530\n"
     ]
    },
    {
     "name": "stderr",
     "output_type": "stream",
     "text": [
      "/opt/conda/lib/python3.11/site-packages/torchvision/models/_utils.py:208: UserWarning: The parameter 'pretrained' is deprecated since 0.13 and may be removed in the future, please use 'weights' instead.\n",
      "  warnings.warn(\n",
      "/opt/conda/lib/python3.11/site-packages/torchvision/models/_utils.py:223: UserWarning: Arguments other than a weight enum or `None` for 'weights' are deprecated since 0.13 and may be removed in the future. The current behavior is equivalent to passing `weights=ResNet18_Weights.IMAGENET1K_V1`. You can also use `weights=ResNet18_Weights.DEFAULT` to get the most up-to-date weights.\n",
      "  warnings.warn(msg)\n",
      "/opt/conda/lib/python3.11/site-packages/torch/optim/lr_scheduler.py:60: UserWarning: The verbose parameter is deprecated. Please use get_last_lr() to access the learning rate.\n",
      "  warnings.warn(\n"
     ]
    },
    {
     "name": "stdout",
     "output_type": "stream",
     "text": [
      "Epoch 1/50\n",
      "Train Loss: 0.3285, Train Acc: 88.46%\n",
      "Val Loss: 0.2074, Val Acc: 92.48%\n",
      "Learning Rate: 0.001\n",
      "Epoch 2/50\n",
      "Train Loss: 0.2055, Train Acc: 92.64%\n",
      "Val Loss: 0.1860, Val Acc: 93.30%\n",
      "Learning Rate: 0.001\n",
      "Epoch 3/50\n",
      "Train Loss: 0.1717, Train Acc: 93.84%\n",
      "Val Loss: 0.1866, Val Acc: 92.90%\n",
      "Learning Rate: 0.001\n",
      "Epoch 4/50\n",
      "Train Loss: 0.1432, Train Acc: 94.88%\n",
      "Val Loss: 0.1646, Val Acc: 94.04%\n",
      "Learning Rate: 0.001\n",
      "Epoch 5/50\n",
      "Train Loss: 0.1187, Train Acc: 95.69%\n",
      "Val Loss: 0.1749, Val Acc: 93.90%\n",
      "Learning Rate: 0.001\n",
      "Epoch 6/50\n",
      "Train Loss: 0.0962, Train Acc: 96.49%\n",
      "Val Loss: 0.1632, Val Acc: 94.24%\n",
      "Learning Rate: 0.001\n",
      "Epoch 7/50\n",
      "Train Loss: 0.0781, Train Acc: 97.19%\n",
      "Val Loss: 0.1888, Val Acc: 94.16%\n",
      "Learning Rate: 0.001\n",
      "Epoch 8/50\n",
      "Train Loss: 0.0652, Train Acc: 97.67%\n",
      "Val Loss: 0.2085, Val Acc: 93.42%\n",
      "Learning Rate: 0.001\n",
      "Epoch 9/50\n",
      "Train Loss: 0.0561, Train Acc: 98.03%\n",
      "Val Loss: 0.2381, Val Acc: 93.86%\n",
      "Learning Rate: 0.001\n",
      "Epoch 10/50\n",
      "Train Loss: 0.0429, Train Acc: 98.51%\n",
      "Val Loss: 0.2688, Val Acc: 93.48%\n",
      "Learning Rate: 0.001\n",
      "Epoch 11/50\n",
      "Train Loss: 0.0149, Train Acc: 99.58%\n",
      "Val Loss: 0.2254, Val Acc: 94.34%\n",
      "Learning Rate: 0.0001\n",
      "Epoch 12/50\n",
      "Train Loss: 0.0044, Train Acc: 99.92%\n",
      "Val Loss: 0.2506, Val Acc: 94.44%\n",
      "Learning Rate: 0.0001\n",
      "Epoch 13/50\n",
      "Train Loss: 0.0021, Train Acc: 99.96%\n",
      "Val Loss: 0.2666, Val Acc: 94.66%\n",
      "Learning Rate: 0.0001\n",
      "Epoch 14/50\n",
      "Train Loss: 0.0012, Train Acc: 99.99%\n",
      "Val Loss: 0.2862, Val Acc: 94.62%\n",
      "Learning Rate: 0.0001\n",
      "Epoch 15/50\n",
      "Train Loss: 0.0007, Train Acc: 99.99%\n",
      "Val Loss: 0.3031, Val Acc: 94.52%\n",
      "Learning Rate: 0.0001\n",
      "Epoch 16/50\n",
      "Train Loss: 0.0004, Train Acc: 100.00%\n",
      "Val Loss: 0.3104, Val Acc: 94.68%\n",
      "Learning Rate: 0.0001\n",
      "Epoch 17/50\n",
      "Train Loss: 0.0003, Train Acc: 100.00%\n",
      "Val Loss: 0.3208, Val Acc: 94.72%\n",
      "Learning Rate: 0.0001\n",
      "Epoch 18/50\n",
      "Train Loss: 0.0002, Train Acc: 100.00%\n",
      "Val Loss: 0.3286, Val Acc: 94.64%\n",
      "Learning Rate: 0.0001\n",
      "Epoch 19/50\n",
      "Train Loss: 0.0002, Train Acc: 100.00%\n",
      "Val Loss: 0.3385, Val Acc: 94.64%\n",
      "Learning Rate: 0.0001\n",
      "Epoch 20/50\n",
      "Train Loss: 0.0001, Train Acc: 100.00%\n",
      "Val Loss: 0.3463, Val Acc: 94.70%\n",
      "Learning Rate: 0.0001\n",
      "Epoch 21/50\n",
      "Train Loss: 0.0001, Train Acc: 100.00%\n",
      "Val Loss: 0.3641, Val Acc: 94.68%\n",
      "Learning Rate: 0.0001\n",
      "Epoch 22/50\n",
      "Train Loss: 0.0001, Train Acc: 100.00%\n",
      "Val Loss: 0.3640, Val Acc: 94.74%\n",
      "Learning Rate: 1e-05\n",
      "Epoch 23/50\n",
      "Train Loss: 0.0001, Train Acc: 100.00%\n",
      "Val Loss: 0.3652, Val Acc: 94.72%\n",
      "Learning Rate: 1e-05\n",
      "Epoch 24/50\n",
      "Train Loss: 0.0001, Train Acc: 100.00%\n",
      "Val Loss: 0.3613, Val Acc: 94.70%\n",
      "Learning Rate: 1e-05\n",
      "Epoch 25/50\n",
      "Train Loss: 0.0001, Train Acc: 100.00%\n",
      "Val Loss: 0.3637, Val Acc: 94.72%\n",
      "Learning Rate: 1e-05\n",
      "Epoch 26/50\n",
      "Train Loss: 0.0001, Train Acc: 100.00%\n",
      "Val Loss: 0.3635, Val Acc: 94.76%\n",
      "Learning Rate: 1e-05\n",
      "Epoch 27/50\n",
      "Train Loss: 0.0001, Train Acc: 100.00%\n",
      "Val Loss: 0.3677, Val Acc: 94.68%\n",
      "Learning Rate: 1e-05\n",
      "Epoch 28/50\n",
      "Train Loss: 0.0001, Train Acc: 100.00%\n",
      "Val Loss: 0.3724, Val Acc: 94.62%\n",
      "Learning Rate: 1e-05\n",
      "Epoch 29/50\n",
      "Train Loss: 0.0001, Train Acc: 100.00%\n",
      "Val Loss: 0.3704, Val Acc: 94.62%\n",
      "Learning Rate: 1e-05\n",
      "Epoch 30/50\n",
      "Train Loss: 0.0001, Train Acc: 100.00%\n",
      "Val Loss: 0.3712, Val Acc: 94.72%\n",
      "Learning Rate: 1e-05\n",
      "Epoch 31/50\n",
      "Train Loss: 0.0000, Train Acc: 100.00%\n",
      "Val Loss: 0.3734, Val Acc: 94.82%\n",
      "Learning Rate: 1.0000000000000002e-06\n",
      "Epoch 32/50\n",
      "Train Loss: 0.0000, Train Acc: 100.00%\n",
      "Val Loss: 0.3737, Val Acc: 94.72%\n",
      "Learning Rate: 1.0000000000000002e-06\n",
      "Epoch 33/50\n",
      "Train Loss: 0.0001, Train Acc: 100.00%\n",
      "Val Loss: 0.3730, Val Acc: 94.74%\n",
      "Learning Rate: 1.0000000000000002e-06\n",
      "Epoch 34/50\n",
      "Train Loss: 0.0000, Train Acc: 100.00%\n",
      "Val Loss: 0.3754, Val Acc: 94.82%\n",
      "Learning Rate: 1.0000000000000002e-06\n",
      "Epoch 35/50\n",
      "Train Loss: 0.0001, Train Acc: 100.00%\n",
      "Val Loss: 0.3756, Val Acc: 94.78%\n",
      "Learning Rate: 1.0000000000000002e-06\n",
      "Epoch 36/50\n",
      "Train Loss: 0.0000, Train Acc: 100.00%\n",
      "Val Loss: 0.3792, Val Acc: 94.64%\n",
      "Learning Rate: 1.0000000000000002e-07\n",
      "Epoch 37/50\n",
      "Train Loss: 0.0000, Train Acc: 100.00%\n",
      "Val Loss: 0.3760, Val Acc: 94.72%\n",
      "Learning Rate: 1.0000000000000002e-07\n",
      "Epoch 38/50\n",
      "Train Loss: 0.0000, Train Acc: 100.00%\n",
      "Val Loss: 0.3708, Val Acc: 94.72%\n",
      "Learning Rate: 1.0000000000000002e-07\n",
      "Early stopping triggered\n",
      "\n",
      "Evaluating on test set...\n",
      "Num Test Samples:  10000\n",
      "Sample Shape:  torch.Size([1, 28, 28])\n",
      "Test Accuracy: 82.25%\n"
     ]
    },
    {
     "data": {
      "text/html": [
       "<style>\n",
       "    table.wandb td:nth-child(1) { padding: 0 10px; text-align: left ; width: auto;} td:nth-child(2) {text-align: left ; width: 100%}\n",
       "    .wandb-row { display: flex; flex-direction: row; flex-wrap: wrap; justify-content: flex-start; width: 100% }\n",
       "    .wandb-col { display: flex; flex-direction: column; flex-basis: 100%; flex: 1; padding: 10px; }\n",
       "    </style>\n",
       "<div class=\"wandb-row\"><div class=\"wandb-col\"><h3>Run history:</h3><br/><table class=\"wandb\"><tr><td>epoch</td><td>▁▁▁▂▂▂▂▂▃▃▃▃▃▃▄▄▄▄▄▅▅▅▅▅▆▆▆▆▆▆▇▇▇▇▇███</td></tr><tr><td>learning_rate</td><td>██████████▂▂▂▂▂▂▂▂▂▂▂▁▁▁▁▁▁▁▁▁▁▁▁▁▁▁▁▁</td></tr><tr><td>train_accuracy</td><td>▁▄▄▅▅▆▆▇▇▇████████████████████████████</td></tr><tr><td>train_loss</td><td>█▅▅▄▄▃▃▂▂▂▁▁▁▁▁▁▁▁▁▁▁▁▁▁▁▁▁▁▁▁▁▁▁▁▁▁▁▁</td></tr><tr><td>val_accuracy</td><td>▁▃▂▆▅▆▆▄▅▄▇▇█▇▇██▇▇████████▇▇██████▇██</td></tr><tr><td>val_loss</td><td>▂▂▂▁▁▁▂▂▃▄▃▄▄▅▆▆▆▆▇▇███▇▇▇████████████</td></tr></table><br/></div><div class=\"wandb-col\"><h3>Run summary:</h3><br/><table class=\"wandb\"><tr><td>best_validation_accuracy</td><td>94.82</td></tr><tr><td>dataset_mean</td><td>0.28604</td></tr><tr><td>dataset_std</td><td>0.35302</td></tr><tr><td>dataset_variance</td><td>0.12463</td></tr><tr><td>epoch</td><td>37</td></tr><tr><td>learning_rate</td><td>0.0</td></tr><tr><td>test_accuracy</td><td>82.25</td></tr><tr><td>train_accuracy</td><td>100</td></tr><tr><td>train_loss</td><td>4e-05</td></tr><tr><td>val_accuracy</td><td>94.72</td></tr><tr><td>val_loss</td><td>0.37084</td></tr></table><br/></div></div>"
      ],
      "text/plain": [
       "<IPython.core.display.HTML object>"
      ]
     },
     "metadata": {},
     "output_type": "display_data"
    },
    {
     "data": {
      "text/html": [
       " View run <strong style=\"color:#cdcd00\">resnet18_fashion_mnist</strong> at: <a href='https://wandb.ai/jaeminyu2356-korea-university-of-technology-and-education/fashion-mnist-resnet/runs/qxox3j3p' target=\"_blank\">https://wandb.ai/jaeminyu2356-korea-university-of-technology-and-education/fashion-mnist-resnet/runs/qxox3j3p</a><br/> View project at: <a href='https://wandb.ai/jaeminyu2356-korea-university-of-technology-and-education/fashion-mnist-resnet' target=\"_blank\">https://wandb.ai/jaeminyu2356-korea-university-of-technology-and-education/fashion-mnist-resnet</a><br/>Synced 5 W&B file(s), 0 media file(s), 2 artifact file(s) and 1 other file(s)"
      ],
      "text/plain": [
       "<IPython.core.display.HTML object>"
      ]
     },
     "metadata": {},
     "output_type": "display_data"
    },
    {
     "data": {
      "text/html": [
       "Find logs at: <code>./wandb/run-20241121_062642-qxox3j3p/logs</code>"
      ],
      "text/plain": [
       "<IPython.core.display.HTML object>"
      ]
     },
     "metadata": {},
     "output_type": "display_data"
    },
    {
     "name": "stdout",
     "output_type": "stream",
     "text": [
      "Num Test Samples:  10000\n",
      "Sample Shape:  torch.Size([1, 28, 28])\n",
      "Test Accuracy: 82.25%\n",
      "Num Test Samples:  10000\n",
      "Sample Shape:  torch.Size([1, 28, 28])\n"
     ]
    },
    {
     "data": {
      "image/png": "[encoded data removed]",
      "text/plain": [
       "<Figure size 1500x600 with 10 Axes>"
      ]
     },
     "metadata": {},
     "output_type": "display_data"
    }
   ],
   "source": [
    "if __name__ == \"__main__\":\n",
    "    model = main()\n",
    "    test_model(model, torch.device(\"cuda\" if torch.cuda.is_available() else \"cpu\"))\n",
    "    visualize_predictions(model, torch.device(\"cuda\" if torch.cuda.is_available() else \"cpu\"))"
   ]
  },
  {
   "cell_type": "code",
   "execution_count": null,
   "metadata": {},
   "outputs": [],
   "source": [
    " https://wandb.ai/jaeminyu2356-korea-university-of-technology-and-education/fashion-mnist-resnet/runs/48i8t4ff"
   ]
  }
 ],
 "metadata": {
  "kernelspec": {
   "display_name": "base",
   "language": "python",
   "name": "python3"
  },
  "language_info": {
   "codemirror_mode": {
    "name": "ipython",
    "version": 3
   },
   "file_extension": ".py",
   "mimetype": "text/x-python",
   "name": "python",
   "nbconvert_exporter": "python",
   "pygments_lexer": "ipython3",
   "version": "3.11.9"
  }
 },
 "nbformat": 4,
 "nbformat_minor": 2
}
