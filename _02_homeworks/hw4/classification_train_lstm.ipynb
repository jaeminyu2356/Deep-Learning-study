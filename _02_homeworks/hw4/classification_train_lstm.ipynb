{
 "cells": [
  {
   "cell_type": "code",
   "execution_count": 6,
   "metadata": {},
   "outputs": [],
   "source": [
    "import torch\n",
    "from torch import nn, optim\n",
    "from torch.utils.data import DataLoader\n",
    "from datetime import datetime\n",
    "import os\n",
    "import wandb\n",
    "from pathlib import Path\n",
    "\n",
    "# 본 과제 제출자는 현재 우분투 도커 환경에서 작업중이므로 다음과 같이 경로 설정\n",
    "BASE_PATH=\"/home/Deep-Learning-study\"\n",
    "import sys\n",
    "sys.path.append(BASE_PATH)\n",
    "\n",
    "CURRENT_FILE_PATH = os.getcwd()\n",
    "CHECKPOINT_FILE_PATH = os.path.join(CURRENT_FILE_PATH, \"checkpoints\")\n",
    "\n",
    "if not os.path.isdir(CHECKPOINT_FILE_PATH):\n",
    "  os.makedirs(os.path.join(CURRENT_FILE_PATH, \"checkpoints\"))"
   ]
  },
  {
   "cell_type": "code",
   "execution_count": 7,
   "metadata": {},
   "outputs": [],
   "source": [
    "from _01_code._08_fcn_best_practice.c_trainer import ClassificationTrainer\n",
    "from _01_code._15_lstm_and_its_application.f_arg_parser import get_parser\n",
    "from _01_code._15_lstm_and_its_application.g_crypto_currency_regression_train_lstm import get_btc_krw_data"
   ]
  },
  {
   "cell_type": "code",
   "execution_count": 8,
   "metadata": {},
   "outputs": [],
   "source": [
    "def get_model():\n",
    "  class MyModel(nn.Module):\n",
    "    def __init__(self, n_input, n_output):\n",
    "      super().__init__()\n",
    "\n",
    "      self.lstm = nn.LSTM(input_size=n_input, hidden_size=256, num_layers=3, batch_first=True)\n",
    "      self.fcn = nn.Linear(in_features=256, out_features=n_output)\n",
    "\n",
    "    def forward(self, x):\n",
    "      x, hidden = self.lstm(x)\n",
    "      x = x[:, -1, :]  # x.shape: [32, 128]\n",
    "      x = self.fcn(x)\n",
    "      return x\n",
    "\n",
    "  my_model = MyModel(n_input=5, n_output=2)\n",
    "\n",
    "  return my_model"
   ]
  },
  {
   "cell_type": "code",
   "execution_count": 9,
   "metadata": {},
   "outputs": [],
   "source": [
    "def main(args):\n",
    "  run_time_str = datetime.now().astimezone().strftime('%Y-%m-%d_%H-%M-%S')\n",
    "\n",
    "  config = {\n",
    "    'epochs': args.epochs,\n",
    "    'batch_size': args.batch_size,\n",
    "    'validation_intervals': args.validation_intervals,\n",
    "    'learning_rate': args.learning_rate,\n",
    "    'early_stop_patience': args.early_stop_patience,\n",
    "    'early_stop_delta': args.early_stop_delta,\n",
    "    'weight_decay': args.weight_decay\n",
    "  }\n",
    "\n",
    "  project_name = \"lstm_classification_btc_krw\"\n",
    "  wandb.init(\n",
    "    mode=\"online\" if args.wandb else \"disabled\",\n",
    "    project=project_name,\n",
    "    notes=\"btc_krw experiment with lstm\",\n",
    "    tags=[\"lstm\", \"classification\", \"btc_krw\"],\n",
    "    name=run_time_str,\n",
    "    config=config\n",
    "  )\n",
    "  print(args)\n",
    "  print(wandb.config)\n",
    "\n",
    "  train_data_loader, validation_data_loader, _ = get_btc_krw_data(is_regression=False)\n",
    "  device = torch.device(\"cuda:0\" if torch.cuda.is_available() else \"cpu\")\n",
    "  print(f\"Training on device {device}.\")\n",
    "\n",
    "  model = get_model()\n",
    "  model.to(device)\n",
    "\n",
    "  optimizer = optim.Adam(model.parameters(), lr=wandb.config.learning_rate, weight_decay=wandb.config.weight_decay)\n",
    "\n",
    "  classification_trainer = ClassificationTrainer(\n",
    "    project_name, model, optimizer, train_data_loader, validation_data_loader, None,\n",
    "    run_time_str, wandb, device, CHECKPOINT_FILE_PATH\n",
    "  )\n",
    "  classification_trainer.train_loop()\n",
    "\n",
    "  wandb.finish()"
   ]
  },
  {
   "cell_type": "code",
   "execution_count": 12,
   "metadata": {},
   "outputs": [
    {
     "data": {
      "text/html": [
       "Tracking run with wandb version 0.18.5"
      ],
      "text/plain": [
       "<IPython.core.display.HTML object>"
      ]
     },
     "metadata": {},
     "output_type": "display_data"
    },
    {
     "data": {
      "text/html": [
       "Run data is saved locally in <code>/home/Deep-Learning-study/_02_homeworks/hw4/wandb/run-20241207_074902-zzit4s0t</code>"
      ],
      "text/plain": [
       "<IPython.core.display.HTML object>"
      ]
     },
     "metadata": {},
     "output_type": "display_data"
    },
    {
     "data": {
      "text/html": [
       "Syncing run <strong><a href='https://wandb.ai/jaeminyu2356-korea-university-of-technology-and-education/lstm_classification_btc_krw/runs/zzit4s0t' target=\"_blank\">2024-12-07_07-49-02</a></strong> to <a href='https://wandb.ai/jaeminyu2356-korea-university-of-technology-and-education/lstm_classification_btc_krw' target=\"_blank\">Weights & Biases</a> (<a href='https://wandb.me/run' target=\"_blank\">docs</a>)<br/>"
      ],
      "text/plain": [
       "<IPython.core.display.HTML object>"
      ]
     },
     "metadata": {},
     "output_type": "display_data"
    },
    {
     "data": {
      "text/html": [
       " View project at <a href='https://wandb.ai/jaeminyu2356-korea-university-of-technology-and-education/lstm_classification_btc_krw' target=\"_blank\">https://wandb.ai/jaeminyu2356-korea-university-of-technology-and-education/lstm_classification_btc_krw</a>"
      ],
      "text/plain": [
       "<IPython.core.display.HTML object>"
      ]
     },
     "metadata": {},
     "output_type": "display_data"
    },
    {
     "data": {
      "text/html": [
       " View run at <a href='https://wandb.ai/jaeminyu2356-korea-university-of-technology-and-education/lstm_classification_btc_krw/runs/zzit4s0t' target=\"_blank\">https://wandb.ai/jaeminyu2356-korea-university-of-technology-and-education/lstm_classification_btc_krw/runs/zzit4s0t</a>"
      ],
      "text/plain": [
       "<IPython.core.display.HTML object>"
      ]
     },
     "metadata": {},
     "output_type": "display_data"
    },
    {
     "name": "stdout",
     "output_type": "stream",
     "text": [
      "<__main__.Args object at 0x7744bb0ed4d0>\n",
      "{'epochs': 200, 'batch_size': 64, 'validation_intervals': 1, 'learning_rate': 0.0001, 'early_stop_patience': 10, 'early_stop_delta': 0.001, 'weight_decay': 1e-05}\n",
      "Training on device cuda:0.\n",
      "[Epoch   1] T_loss: 0.69205, T_accuracy: 51.8293 | V_loss: 0.69065, V_accuracy: 55.0000 | Early stopping is stated! | T_time: 00:00:00, T_speed: 0.000\n",
      "[Epoch   2] T_loss: 0.69105, T_accuracy: 53.6863 | V_loss: 0.69643, V_accuracy: 44.0000 | Early stopping counter: 1 out of 10 | T_time: 00:00:00, T_speed: 0.000\n",
      "[Epoch   3] T_loss: 0.69078, T_accuracy: 53.2982 | V_loss: 0.69525, V_accuracy: 44.0000 | Early stopping counter: 2 out of 10 | T_time: 00:00:00, T_speed: 0.000\n",
      "[Epoch   4] T_loss: 0.69145, T_accuracy: 53.2151 | V_loss: 0.69714, V_accuracy: 44.0000 | Early stopping counter: 3 out of 10 | T_time: 00:00:00, T_speed: 0.000\n",
      "[Epoch   5] T_loss: 0.69120, T_accuracy: 53.0488 | V_loss: 0.69689, V_accuracy: 44.0000 | Early stopping counter: 4 out of 10 | T_time: 00:00:00, T_speed: 0.000\n",
      "[Epoch   6] T_loss: 0.69104, T_accuracy: 53.3814 | V_loss: 0.69928, V_accuracy: 44.0000 | Early stopping counter: 5 out of 10 | T_time: 00:00:01, T_speed: 6.000\n",
      "[Epoch   7] T_loss: 0.69118, T_accuracy: 52.7439 | V_loss: 0.69512, V_accuracy: 44.0000 | Early stopping counter: 6 out of 10 | T_time: 00:00:01, T_speed: 7.000\n",
      "[Epoch   8] T_loss: 0.69103, T_accuracy: 53.1042 | V_loss: 0.69764, V_accuracy: 44.0000 | Early stopping counter: 7 out of 10 | T_time: 00:00:01, T_speed: 8.000\n",
      "[Epoch   9] T_loss: 0.69100, T_accuracy: 53.2982 | V_loss: 0.69642, V_accuracy: 44.0000 | Early stopping counter: 8 out of 10 | T_time: 00:00:01, T_speed: 9.000\n",
      "[Epoch  10] T_loss: 0.69094, T_accuracy: 53.2151 | V_loss: 0.69540, V_accuracy: 44.0000 | Early stopping counter: 9 out of 10 | T_time: 00:00:01, T_speed: 10.000\n",
      "[Epoch  11] T_loss: 0.69093, T_accuracy: 53.0765 | V_loss: 0.69543, V_accuracy: 44.0000 | Early stopping counter: 10 out of 10 *** TRAIN EARLY STOPPED! *** | T_time: 00:00:01, T_speed: 11.000\n",
      "Final training time: 00:00:01\n"
     ]
    },
    {
     "data": {
      "text/html": [
       "<style>\n",
       "    table.wandb td:nth-child(1) { padding: 0 10px; text-align: left ; width: auto;} td:nth-child(2) {text-align: left ; width: 100%}\n",
       "    .wandb-row { display: flex; flex-direction: row; flex-wrap: wrap; justify-content: flex-start; width: 100% }\n",
       "    .wandb-col { display: flex; flex-direction: column; flex-basis: 100%; flex: 1; padding: 10px; }\n",
       "    </style>\n",
       "<div class=\"wandb-row\"><div class=\"wandb-col\"><h3>Run history:</h3><br/><table class=\"wandb\"><tr><td>Epoch</td><td>▁▂▂▃▄▅▅▆▇▇█</td></tr><tr><td>Training accuracy (%)</td><td>▁█▇▆▆▇▄▆▇▆▆</td></tr><tr><td>Training loss</td><td>█▃▁▅▃▂▃▂▂▂▂</td></tr><tr><td>Training speed (epochs/sec.)</td><td>▁▁▁▁▁▅▅▆▇▇█</td></tr><tr><td>Validation accuracy (%)</td><td>█▁▁▁▁▁▁▁▁▁▁</td></tr><tr><td>Validation loss</td><td>▁▆▅▆▆█▅▇▆▅▅</td></tr></table><br/></div><div class=\"wandb-col\"><h3>Run summary:</h3><br/><table class=\"wandb\"><tr><td>Epoch</td><td>11</td></tr><tr><td>Training accuracy (%)</td><td>53.0765</td></tr><tr><td>Training loss</td><td>0.69093</td></tr><tr><td>Training speed (epochs/sec.)</td><td>11</td></tr><tr><td>Validation accuracy (%)</td><td>44</td></tr><tr><td>Validation loss</td><td>0.69543</td></tr></table><br/></div></div>"
      ],
      "text/plain": [
       "<IPython.core.display.HTML object>"
      ]
     },
     "metadata": {},
     "output_type": "display_data"
    },
    {
     "data": {
      "text/html": [
       " View run <strong style=\"color:#cdcd00\">2024-12-07_07-49-02</strong> at: <a href='https://wandb.ai/jaeminyu2356-korea-university-of-technology-and-education/lstm_classification_btc_krw/runs/zzit4s0t' target=\"_blank\">https://wandb.ai/jaeminyu2356-korea-university-of-technology-and-education/lstm_classification_btc_krw/runs/zzit4s0t</a><br/> View project at: <a href='https://wandb.ai/jaeminyu2356-korea-university-of-technology-and-education/lstm_classification_btc_krw' target=\"_blank\">https://wandb.ai/jaeminyu2356-korea-university-of-technology-and-education/lstm_classification_btc_krw</a><br/>Synced 5 W&B file(s), 0 media file(s), 0 artifact file(s) and 0 other file(s)"
      ],
      "text/plain": [
       "<IPython.core.display.HTML object>"
      ]
     },
     "metadata": {},
     "output_type": "display_data"
    },
    {
     "data": {
      "text/html": [
       "Find logs at: <code>./wandb/run-20241207_074902-zzit4s0t/logs</code>"
      ],
      "text/plain": [
       "<IPython.core.display.HTML object>"
      ]
     },
     "metadata": {},
     "output_type": "display_data"
    }
   ],
   "source": [
    "if __name__ == \"__main__\":\n",
    "    import sys\n",
    "    if 'ipykernel' in sys.modules:  # Jupyter Notebook에서 실행 중인지 확인\n",
    "        # Jupyter에서 실행할 때는 기본값 사용\n",
    "        class Args:\n",
    "            def __init__(self):\n",
    "                self.wandb = True\n",
    "                self.batch_size = 64\n",
    "                self.epochs = 200\n",
    "                self.learning_rate = 0.0001\n",
    "                self.weight_decay = 0.00001\n",
    "                self.validation_intervals = 1\n",
    "                self.early_stop_patience = 10\n",
    "                self.early_stop_delta = 0.001\n",
    "        args = Args()\n",
    "    else:\n",
    "        # 일반 Python 스크립트로 실행할 때는 argparse 사용\n",
    "        parser = get_parser()\n",
    "        args = parser.parse_args()\n",
    "    \n",
    "    main(args)"
   ]
  },
  {
   "cell_type": "code",
   "execution_count": null,
   "metadata": {},
   "outputs": [],
   "source": []
  }
 ],
 "metadata": {
  "kernelspec": {
   "display_name": "base",
   "language": "python",
   "name": "python3"
  },
  "language_info": {
   "codemirror_mode": {
    "name": "ipython",
    "version": 3
   },
   "file_extension": ".py",
   "mimetype": "text/x-python",
   "name": "python",
   "nbconvert_exporter": "python",
   "pygments_lexer": "ipython3",
   "version": "3.11.9"
  }
 },
 "nbformat": 4,
 "nbformat_minor": 2
}
