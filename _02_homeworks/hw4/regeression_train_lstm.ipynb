{
 "cells": [
  {
   "cell_type": "code",
   "execution_count": 13,
   "metadata": {},
   "outputs": [],
   "source": [
    "import torch\n",
    "from torch import nn, optim\n",
    "from torch.utils.data import DataLoader\n",
    "from datetime import datetime\n",
    "import os\n",
    "import wandb\n",
    "from pathlib import Path\n",
    "\n",
    "# 본 과제 제출자는 현재 우분투 도커 환경에서 작업중이므로 다음과 같이 경로 설정\n",
    "BASE_PATH=\"/home/Deep-Learning-study\"\n",
    "import sys\n",
    "sys.path.append(BASE_PATH)\n",
    "\n",
    "CURRENT_FILE_PATH = os.getcwd()\n",
    "CHECKPOINT_FILE_PATH = os.path.join(CURRENT_FILE_PATH, \"checkpoints\")\n",
    "\n",
    "if not os.path.isdir(CHECKPOINT_FILE_PATH):\n",
    "  os.makedirs(os.path.join(CURRENT_FILE_PATH, \"checkpoints\"))"
   ]
  },
  {
   "cell_type": "code",
   "execution_count": 14,
   "metadata": {},
   "outputs": [],
   "source": [
    "from _01_code._15_lstm_and_its_application.f_arg_parser import get_parser\n",
    "from _01_code._14_rnn.g_rnn_trainer import RegressionTrainer\n",
    "from _01_code._03_real_world_data_to_tensors.p_cryptocurrency_dataset_dataloader import get_cryptocurrency_data, \\\n",
    "  CryptoCurrencyDataset"
   ]
  },
  {
   "cell_type": "code",
   "execution_count": 15,
   "metadata": {},
   "outputs": [],
   "source": [
    "def get_btc_krw_data(sequence_size=10, validation_size=100, test_size=10, is_regression=True):\n",
    "  X_train, X_validation, X_test, y_train, y_validation, y_test, y_train_date, y_validation_date, y_test_date \\\n",
    "    = get_cryptocurrency_data(\n",
    "      sequence_size=sequence_size, validation_size=validation_size, test_size=test_size,\n",
    "      target_column='Close', y_normalizer=1.0e7, is_regression=is_regression\n",
    "  )\n",
    "\n",
    "  train_crypto_currency_dataset = CryptoCurrencyDataset(X=X_train, y=y_train)\n",
    "  validation_crypto_currency_dataset = CryptoCurrencyDataset(X=X_validation, y=y_validation)\n",
    "  test_crypto_currency_dataset = CryptoCurrencyDataset(X=X_test, y=y_test)\n",
    "\n",
    "  train_data_loader = DataLoader(\n",
    "    dataset=train_crypto_currency_dataset, batch_size=wandb.config.batch_size, shuffle=True\n",
    "  )\n",
    "  validation_data_loader = DataLoader(\n",
    "    dataset=validation_crypto_currency_dataset, batch_size=wandb.config.batch_size, shuffle=True\n",
    "  )\n",
    "  test_data_loader = DataLoader(\n",
    "    dataset=test_crypto_currency_dataset, batch_size=len(test_crypto_currency_dataset), shuffle=True\n",
    "  )\n",
    "\n",
    "  return train_data_loader, validation_data_loader, test_data_loader"
   ]
  },
  {
   "cell_type": "code",
   "execution_count": 16,
   "metadata": {},
   "outputs": [],
   "source": [
    "def get_model():\n",
    "  class MyModel(nn.Module):\n",
    "    def __init__(self, n_input, n_output):\n",
    "      super().__init__()\n",
    "\n",
    "      self.lstm = nn.LSTM(input_size=n_input, hidden_size=128, num_layers=2, batch_first=True)\n",
    "      self.fcn = nn.Linear(in_features=128, out_features=n_output)\n",
    "\n",
    "    def forward(self, x):\n",
    "      x, hidden = self.lstm(x)\n",
    "      x = x[:, -1, :]  # x.shape: [32, 128]\n",
    "      x = self.fcn(x)\n",
    "      return x\n",
    "\n",
    "  my_model = MyModel(n_input=5, n_output=1)\n",
    "\n",
    "  return my_model"
   ]
  },
  {
   "cell_type": "code",
   "execution_count": 17,
   "metadata": {},
   "outputs": [],
   "source": [
    "def main(args):\n",
    "  run_time_str = datetime.now().astimezone().strftime('%Y-%m-%d_%H-%M-%S')\n",
    "\n",
    "  config = {\n",
    "    'epochs': args.epochs,\n",
    "    'batch_size': args.batch_size,\n",
    "    'validation_intervals': args.validation_intervals,\n",
    "    'learning_rate': args.learning_rate,\n",
    "    'early_stop_patience': args.early_stop_patience,\n",
    "    'early_stop_delta': args.early_stop_delta,\n",
    "    'weight_decay': args.weight_decay\n",
    "  }\n",
    "\n",
    "  project_name = \"lstm_regression_btc_krw\"\n",
    "  wandb.init(\n",
    "    mode=\"online\" if args.wandb else \"disabled\",\n",
    "    project=project_name,\n",
    "    notes=\"btc_krw experiment with lstm\",\n",
    "    tags=[\"lstm\", \"regression\", \"btc_krw\"],\n",
    "    name=run_time_str,\n",
    "    config=config\n",
    "  )\n",
    "  print(args)\n",
    "  print(wandb.config)\n",
    "\n",
    "  train_data_loader, validation_data_loader, _ = get_btc_krw_data()\n",
    "  device = torch.device(\"cuda:0\" if torch.cuda.is_available() else \"cpu\")\n",
    "  print(f\"Training on device {device}.\")\n",
    "\n",
    "  model = get_model()\n",
    "  model.to(device)\n",
    "  wandb.watch(model)\n",
    "\n",
    "  optimizer = optim.Adam(model.parameters(), lr=wandb.config.learning_rate, weight_decay=wandb.config.weight_decay)\n",
    "\n",
    "  regression_trainer = RegressionTrainer(\n",
    "    project_name, model, optimizer, train_data_loader, validation_data_loader, None,\n",
    "    run_time_str, wandb, device, CHECKPOINT_FILE_PATH\n",
    "  )\n",
    "  regression_trainer.train_loop()\n",
    "\n",
    "  wandb.finish()"
   ]
  },
  {
   "cell_type": "code",
   "execution_count": 18,
   "metadata": {},
   "outputs": [
    {
     "data": {
      "text/html": [
       "Tracking run with wandb version 0.18.5"
      ],
      "text/plain": [
       "<IPython.core.display.HTML object>"
      ]
     },
     "metadata": {},
     "output_type": "display_data"
    },
    {
     "data": {
      "text/html": [
       "Run data is saved locally in <code>/home/Deep-Learning-study/_02_homeworks/hw4/wandb/run-20241207_073132-fp1mmbbr</code>"
      ],
      "text/plain": [
       "<IPython.core.display.HTML object>"
      ]
     },
     "metadata": {},
     "output_type": "display_data"
    },
    {
     "data": {
      "text/html": [
       "Syncing run <strong><a href='https://wandb.ai/jaeminyu2356-korea-university-of-technology-and-education/lstm_regression_btc_krw/runs/fp1mmbbr' target=\"_blank\">2024-12-07_07-31-32</a></strong> to <a href='https://wandb.ai/jaeminyu2356-korea-university-of-technology-and-education/lstm_regression_btc_krw' target=\"_blank\">Weights & Biases</a> (<a href='https://wandb.me/run' target=\"_blank\">docs</a>)<br/>"
      ],
      "text/plain": [
       "<IPython.core.display.HTML object>"
      ]
     },
     "metadata": {},
     "output_type": "display_data"
    },
    {
     "data": {
      "text/html": [
       " View project at <a href='https://wandb.ai/jaeminyu2356-korea-university-of-technology-and-education/lstm_regression_btc_krw' target=\"_blank\">https://wandb.ai/jaeminyu2356-korea-university-of-technology-and-education/lstm_regression_btc_krw</a>"
      ],
      "text/plain": [
       "<IPython.core.display.HTML object>"
      ]
     },
     "metadata": {},
     "output_type": "display_data"
    },
    {
     "data": {
      "text/html": [
       " View run at <a href='https://wandb.ai/jaeminyu2356-korea-university-of-technology-and-education/lstm_regression_btc_krw/runs/fp1mmbbr' target=\"_blank\">https://wandb.ai/jaeminyu2356-korea-university-of-technology-and-education/lstm_regression_btc_krw/runs/fp1mmbbr</a>"
      ],
      "text/plain": [
       "<IPython.core.display.HTML object>"
      ]
     },
     "metadata": {},
     "output_type": "display_data"
    },
    {
     "name": "stdout",
     "output_type": "stream",
     "text": [
      "<__main__.Args object at 0x7755e8f37910>\n",
      "{'epochs': 100, 'batch_size': 32, 'validation_intervals': 1, 'learning_rate': 0.001, 'early_stop_patience': 5, 'early_stop_delta': 0.001, 'weight_decay': 0.0001}\n",
      "Training on device cuda:0.\n",
      "[Epoch   1] T_loss: 1.40876, V_loss: 1.63254, Early stopping is stated! | T_time: 00:00:00, T_speed: 0.003\n",
      "[Epoch   2] T_loss: 0.05143, V_loss: 1.78813, Early stopping counter: 1 out of 5 | T_time: 00:00:00, T_speed: 0.004\n",
      "[Epoch   3] T_loss: 0.03782, V_loss: 0.86087, V_loss decreased (1.63254 --> 0.86087). Saving model... | T_time: 00:00:00, T_speed: 0.004\n",
      "[Epoch   4] T_loss: 0.03518, V_loss: 0.85138, V_loss decreased (0.86087 --> 0.85138). Saving model... | T_time: 00:00:00, T_speed: 0.004\n",
      "[Epoch   5] T_loss: 0.02939, V_loss: 0.76669, V_loss decreased (0.85138 --> 0.76669). Saving model... | T_time: 00:00:01, T_speed: 0.024\n",
      "[Epoch   6] T_loss: 0.02597, V_loss: 0.63942, V_loss decreased (0.76669 --> 0.63942). Saving model... | T_time: 00:00:01, T_speed: 0.014\n",
      "[Epoch   7] T_loss: 0.02391, V_loss: 0.62323, V_loss decreased (0.63942 --> 0.62323). Saving model... | T_time: 00:00:01, T_speed: 0.010\n",
      "[Epoch   8] T_loss: 0.02232, V_loss: 0.51015, V_loss decreased (0.62323 --> 0.51015). Saving model... | T_time: 00:00:01, T_speed: 0.009\n",
      "[Epoch   9] T_loss: 0.02191, V_loss: 0.63457, Early stopping counter: 1 out of 5 | T_time: 00:00:02, T_speed: 0.060\n",
      "[Epoch  10] T_loss: 0.02014, V_loss: 0.64014, Early stopping counter: 2 out of 5 | T_time: 00:00:02, T_speed: 0.027\n",
      "[Epoch  11] T_loss: 0.01891, V_loss: 0.65642, Early stopping counter: 3 out of 5 | T_time: 00:00:02, T_speed: 0.019\n",
      "[Epoch  12] T_loss: 0.01818, V_loss: 0.38622, V_loss decreased (0.51015 --> 0.38622). Saving model... | T_time: 00:00:02, T_speed: 0.015\n",
      "[Epoch  13] T_loss: 0.02000, V_loss: 0.47814, Early stopping counter: 1 out of 5 | T_time: 00:00:03, T_speed: 0.261\n",
      "[Epoch  14] T_loss: 0.01757, V_loss: 0.37030, V_loss decreased (0.38622 --> 0.37030). Saving model... | T_time: 00:00:03, T_speed: 0.051\n",
      "[Epoch  15] T_loss: 0.01781, V_loss: 0.35925, V_loss decreased (0.37030 --> 0.35925). Saving model... | T_time: 00:00:03, T_speed: 0.030\n",
      "[Epoch  16] T_loss: 0.01892, V_loss: 0.36205, Early stopping counter: 1 out of 5 | T_time: 00:00:03, T_speed: 0.022\n",
      "[Epoch  17] T_loss: 0.01720, V_loss: 0.56274, Early stopping counter: 2 out of 5 | T_time: 00:00:03, T_speed: 0.018\n",
      "[Epoch  18] T_loss: 0.01578, V_loss: 0.32347, V_loss decreased (0.35925 --> 0.32347). Saving model... | T_time: 00:00:04, T_speed: 0.086\n",
      "[Epoch  19] T_loss: 0.01910, V_loss: 0.38671, Early stopping counter: 1 out of 5 | T_time: 00:00:04, T_speed: 0.041\n",
      "[Epoch  20] T_loss: 0.01576, V_loss: 0.29070, V_loss decreased (0.32347 --> 0.29070). Saving model... | T_time: 00:00:04, T_speed: 0.028\n",
      "[Epoch  21] T_loss: 0.01475, V_loss: 0.31020, Early stopping counter: 1 out of 5 | T_time: 00:00:04, T_speed: 0.022\n",
      "[Epoch  22] T_loss: 0.01703, V_loss: 0.28319, V_loss decreased (0.29070 --> 0.28319). Saving model... | T_time: 00:00:05, T_speed: 0.124\n",
      "[Epoch  23] T_loss: 0.01748, V_loss: 0.65208, Early stopping counter: 1 out of 5 | T_time: 00:00:05, T_speed: 0.053\n",
      "[Epoch  24] T_loss: 0.01780, V_loss: 0.30262, Early stopping counter: 2 out of 5 | T_time: 00:00:05, T_speed: 0.036\n",
      "[Epoch  25] T_loss: 0.01567, V_loss: 0.31316, Early stopping counter: 3 out of 5 | T_time: 00:00:05, T_speed: 0.028\n",
      "[Epoch  26] T_loss: 0.01775, V_loss: 0.37439, Early stopping counter: 4 out of 5 | T_time: 00:00:06, T_speed: 0.181\n",
      "[Epoch  27] T_loss: 0.01493, V_loss: 0.34908, Early stopping counter: 5 out of 5 *** TRAIN EARLY STOPPED! *** | T_time: 00:00:06, T_speed: 0.074\n",
      "Final training time: 00:00:06\n"
     ]
    },
    {
     "data": {
      "text/html": [
       "<style>\n",
       "    table.wandb td:nth-child(1) { padding: 0 10px; text-align: left ; width: auto;} td:nth-child(2) {text-align: left ; width: 100%}\n",
       "    .wandb-row { display: flex; flex-direction: row; flex-wrap: wrap; justify-content: flex-start; width: 100% }\n",
       "    .wandb-col { display: flex; flex-direction: column; flex-basis: 100%; flex: 1; padding: 10px; }\n",
       "    </style>\n",
       "<div class=\"wandb-row\"><div class=\"wandb-col\"><h3>Run history:</h3><br/><table class=\"wandb\"><tr><td>Epoch</td><td>▁▁▂▂▂▂▃▃▃▃▄▄▄▅▅▅▅▆▆▆▆▇▇▇▇██</td></tr><tr><td>Training loss</td><td>█▁▁▁▁▁▁▁▁▁▁▁▁▁▁▁▁▁▁▁▁▁▁▁▁▁▁</td></tr><tr><td>Training speed (epochs/sec.)</td><td>▁▁▁▁▂▁▁▁▃▂▁▁█▂▂▂▁▃▂▂▂▄▂▂▂▆▃</td></tr><tr><td>Validation loss</td><td>▇█▄▄▃▃▃▂▃▃▃▁▂▁▁▁▂▁▁▁▁▁▃▁▁▁▁</td></tr></table><br/></div><div class=\"wandb-col\"><h3>Run summary:</h3><br/><table class=\"wandb\"><tr><td>Epoch</td><td>27</td></tr><tr><td>Training loss</td><td>0.01493</td></tr><tr><td>Training speed (epochs/sec.)</td><td>0.07359</td></tr><tr><td>Validation loss</td><td>0.34908</td></tr></table><br/></div></div>"
      ],
      "text/plain": [
       "<IPython.core.display.HTML object>"
      ]
     },
     "metadata": {},
     "output_type": "display_data"
    },
    {
     "data": {
      "text/html": [
       " View run <strong style=\"color:#cdcd00\">2024-12-07_07-31-32</strong> at: <a href='https://wandb.ai/jaeminyu2356-korea-university-of-technology-and-education/lstm_regression_btc_krw/runs/fp1mmbbr' target=\"_blank\">https://wandb.ai/jaeminyu2356-korea-university-of-technology-and-education/lstm_regression_btc_krw/runs/fp1mmbbr</a><br/> View project at: <a href='https://wandb.ai/jaeminyu2356-korea-university-of-technology-and-education/lstm_regression_btc_krw' target=\"_blank\">https://wandb.ai/jaeminyu2356-korea-university-of-technology-and-education/lstm_regression_btc_krw</a><br/>Synced 5 W&B file(s), 0 media file(s), 2 artifact file(s) and 0 other file(s)"
      ],
      "text/plain": [
       "<IPython.core.display.HTML object>"
      ]
     },
     "metadata": {},
     "output_type": "display_data"
    },
    {
     "data": {
      "text/html": [
       "Find logs at: <code>./wandb/run-20241207_073132-fp1mmbbr/logs</code>"
      ],
      "text/plain": [
       "<IPython.core.display.HTML object>"
      ]
     },
     "metadata": {},
     "output_type": "display_data"
    }
   ],
   "source": [
    "if __name__ == \"__main__\":\n",
    "    import sys\n",
    "    if 'ipykernel' in sys.modules:  # Jupyter Notebook에서 실행 중인지 확인\n",
    "        # Jupyter에서 실행할 때는 기본값 사용\n",
    "        class Args:\n",
    "            def __init__(self):\n",
    "                self.wandb = True\n",
    "                self.batch_size = 32\n",
    "                self.epochs = 100\n",
    "                self.learning_rate = 0.001\n",
    "                self.weight_decay = 0.0001\n",
    "                self.validation_intervals = 1\n",
    "                self.early_stop_patience = 5\n",
    "                self.early_stop_delta = 0.001\n",
    "        args = Args()\n",
    "    else:\n",
    "        # 일반 Python 스크립트로 실행할 때는 argparse 사용\n",
    "        parser = get_parser()\n",
    "        args = parser.parse_args()\n",
    "    \n",
    "    main(args)"
   ]
  },
  {
   "cell_type": "code",
   "execution_count": null,
   "metadata": {},
   "outputs": [],
   "source": []
  }
 ],
 "metadata": {
  "kernelspec": {
   "display_name": "base",
   "language": "python",
   "name": "python3"
  },
  "language_info": {
   "codemirror_mode": {
    "name": "ipython",
    "version": 3
   },
   "file_extension": ".py",
   "mimetype": "text/x-python",
   "name": "python",
   "nbconvert_exporter": "python",
   "pygments_lexer": "ipython3",
   "version": "3.11.9"
  }
 },
 "nbformat": 4,
 "nbformat_minor": 2
}
