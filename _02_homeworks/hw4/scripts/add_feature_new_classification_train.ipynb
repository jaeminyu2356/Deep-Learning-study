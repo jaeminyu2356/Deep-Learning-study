{
 "cells": [
  {
   "cell_type": "code",
   "execution_count": 1,
   "metadata": {},
   "outputs": [],
   "source": [
    "import torch\n",
    "from torch import nn, optim\n",
    "from torch.utils.data import Dataset, DataLoader\n",
    "from datetime import datetime\n",
    "import os\n",
    "import wandb\n",
    "from pathlib import Path\n",
    "\n",
    "# 본 과제 제출자는 현재 우분투 도커 환경에서 작업중이므로 다음과 같이 경로 설정\n",
    "BASE_PATH=\"/home/Deep-Learning-study\"\n",
    "import sys\n",
    "sys.path.append(BASE_PATH)\n",
    "\n",
    "CURRENT_FILE_PATH = os.getcwd()\n",
    "CHECKPOINT_FILE_PATH = os.path.join(CURRENT_FILE_PATH, \"checkpoints\")\n",
    "\n",
    "if not os.path.isdir(CHECKPOINT_FILE_PATH):\n",
    "  os.makedirs(os.path.join(CURRENT_FILE_PATH, \"checkpoints\"))"
   ]
  },
  {
   "cell_type": "code",
   "execution_count": 2,
   "metadata": {},
   "outputs": [],
   "source": [
    "from _01_code._08_fcn_best_practice.c_trainer import ClassificationTrainer\n",
    "from _01_code._15_lstm_and_its_application.f_arg_parser import get_parser\n",
    "#from _01_code._15_lstm_and_its_application.g_crypto_currency_regression_train_lstm import get_btc_krw_data"
   ]
  },
  {
   "cell_type": "code",
   "execution_count": 3,
   "metadata": {},
   "outputs": [],
   "source": [
    "class CryptoCurrencyDataset(Dataset):\n",
    "  def __init__(self, X, y, is_regression=True):\n",
    "    self.X = X\n",
    "    self.y = y\n",
    "\n",
    "    assert len(self.X) == len(self.y)\n",
    "\n",
    "  def __len__(self):\n",
    "    return len(self.X)\n",
    "\n",
    "  def __getitem__(self, idx):\n",
    "    X = self.X[idx]\n",
    "    y = self.y[idx]\n",
    "    return X, y\n",
    "\n",
    "  def __str__(self):\n",
    "    str = \"Data Size: {0}, Input Shape: {1}, Target Shape: {2}\".format(\n",
    "      len(self.X), self.X.shape, self.y.shape\n",
    "    )\n",
    "    return str"
   ]
  },
  {
   "cell_type": "code",
   "execution_count": 4,
   "metadata": {},
   "outputs": [],
   "source": [
    "import pandas as pd\n",
    "\n",
    "def get_cryptocurrency_data(\n",
    "    sequence_size=10, validation_size=100, test_size=10, \n",
    "    target_column='Close', y_normalizer=1.0e7, \n",
    "    is_regression=True, use_next_open=True\n",
    "):\n",
    "    btc_krw_path = os.path.join(BASE_PATH, \"_00_data\", \"k_cryptocurrency\", \"BTC_KRW.csv\")\n",
    "    df = pd.read_csv(btc_krw_path)\n",
    "    row_size = len(df)\n",
    "    date_list = df['Date']\n",
    "\n",
    "    # Next_Open 컬럼 추가\n",
    "    if use_next_open:\n",
    "        df['Next_Open'] = df['Open'].shift(-1)\n",
    "        \n",
    "    df = df.drop(columns=['Date'])\n",
    "    \n",
    "    # Next_Open이 NaN인 마지막 행 제거\n",
    "    if use_next_open:\n",
    "        df = df.dropna()\n",
    "        row_size = len(df)\n",
    "\n",
    "    data_size = row_size - sequence_size\n",
    "    train_size = data_size - (validation_size + test_size)\n",
    "    #################################################################################################\n",
    "\n",
    "    row_cursor = 0\n",
    "\n",
    "    X_train_list = []\n",
    "    y_train_regression_list = []\n",
    "    y_train_classification_list = []\n",
    "    y_train_date = []\n",
    "    for idx in range(0, train_size):\n",
    "        sequence_data = df.iloc[idx: idx + sequence_size].values  # sequence_data.shape: (sequence_size, 6)\n",
    "        X_train_list.append(torch.from_numpy(sequence_data))\n",
    "        y_train_regression_list.append(df.iloc[idx + sequence_size][target_column])\n",
    "        y_train_classification_list.append(\n",
    "            1 if df.iloc[idx + sequence_size][target_column] >= df.iloc[idx + sequence_size - 1][target_column] else 0\n",
    "        )\n",
    "        y_train_date.append(date_list[idx + sequence_size])\n",
    "        row_cursor += 1\n",
    "\n",
    "    X_train = torch.stack(X_train_list, dim=0).to(torch.float)\n",
    "    y_train_regression = torch.tensor(y_train_regression_list, dtype=torch.float32) / y_normalizer\n",
    "    y_train_classification = torch.tensor(y_train_classification_list, dtype=torch.int64)\n",
    "\n",
    "    m = X_train.mean(dim=0, keepdim=True)\n",
    "    s = X_train.std(dim=0, keepdim=True)\n",
    "    X_train = (X_train - m) / s\n",
    "\n",
    "    #################################################################################################\n",
    "\n",
    "    X_validation_list = []\n",
    "    y_validation_regression_list = []\n",
    "    y_validation_classification_list = []\n",
    "    y_validation_date = []\n",
    "    for idx in range(row_cursor, row_cursor + validation_size):\n",
    "        sequence_data = df.iloc[idx: idx + sequence_size].values  # sequence_data.shape: (sequence_size, 6)\n",
    "        X_validation_list.append(torch.from_numpy(sequence_data))\n",
    "        y_validation_regression_list.append(df.iloc[idx + sequence_size][target_column])\n",
    "        y_validation_classification_list.append(\n",
    "            1 if df.iloc[idx + sequence_size][target_column] >= df.iloc[idx + sequence_size - 1][target_column] else 0\n",
    "        )\n",
    "        y_validation_date.append(date_list[idx + sequence_size])\n",
    "        row_cursor += 1\n",
    "\n",
    "    X_validation = torch.stack(X_validation_list, dim=0).to(torch.float)\n",
    "    y_validation_regression = torch.tensor(y_validation_regression_list, dtype=torch.float32) / y_normalizer\n",
    "    y_validation_classification = torch.tensor(y_validation_classification_list, dtype=torch.int64)\n",
    "\n",
    "    X_validation = (X_validation - m) / s\n",
    "    #################################################################################################\n",
    "\n",
    "    X_test_list = []\n",
    "    y_test_regression_list = []\n",
    "    y_test_classification_list = []\n",
    "    y_test_date = []\n",
    "    for idx in range(row_cursor, row_cursor + test_size):\n",
    "        sequence_data = df.iloc[idx: idx + sequence_size].values  # sequence_data.shape: (sequence_size, 6)\n",
    "        X_test_list.append(torch.from_numpy(sequence_data))\n",
    "        y_test_regression_list.append(df.iloc[idx + sequence_size][target_column])\n",
    "        y_test_classification_list.append(\n",
    "            1 if df.iloc[idx + sequence_size][target_column] > df.iloc[idx + sequence_size - 1][target_column] else 0\n",
    "        )\n",
    "        y_test_date.append(date_list[idx + sequence_size])\n",
    "        row_cursor += 1\n",
    "\n",
    "    X_test = torch.stack(X_test_list, dim=0).to(torch.float)\n",
    "    y_test_regression = torch.tensor(y_test_regression_list, dtype=torch.float32) / y_normalizer\n",
    "    y_test_classification = torch.tensor(y_test_classification_list, dtype=torch.int64)\n",
    "\n",
    "    X_test = (X_test - m) / s\n",
    "\n",
    "    if is_regression:\n",
    "        return (\n",
    "            X_train, X_validation, X_test,\n",
    "            y_train_regression, y_validation_regression, y_test_regression,\n",
    "            y_train_date, y_validation_date, y_test_date\n",
    "        )\n",
    "    else:\n",
    "        return (\n",
    "            X_train, X_validation, X_test,\n",
    "            y_train_classification, y_validation_classification, y_test_classification,\n",
    "            y_train_date, y_validation_date, y_test_date\n",
    "        )"
   ]
  },
  {
   "cell_type": "code",
   "execution_count": 5,
   "metadata": {},
   "outputs": [],
   "source": [
    "def get_btc_krw_data(sequence_size=21, validation_size=150, test_size=30, is_regression=True, use_next_open=True):\n",
    "    # use_next_open 파라미터 추가\n",
    "    X_train, X_validation, X_test, y_train, y_validation, y_test, y_train_date, y_validation_date, y_test_date \\\n",
    "        = get_cryptocurrency_data(\n",
    "            sequence_size=sequence_size,\n",
    "            validation_size=validation_size,\n",
    "            test_size=test_size,\n",
    "            target_column='Close',\n",
    "            y_normalizer=1.0e7,\n",
    "            is_regression=is_regression,\n",
    "            use_next_open=use_next_open  # Next_Open feature 사용 여부\n",
    "        )\n",
    "\n",
    "    # PyTorch Dataset 객체 생성\n",
    "    train_crypto_currency_dataset = CryptoCurrencyDataset(X=X_train, y=y_train)\n",
    "    validation_crypto_currency_dataset = CryptoCurrencyDataset(X=X_validation, y=y_validation)\n",
    "    test_crypto_currency_dataset = CryptoCurrencyDataset(X=X_test, y=y_test)\n",
    "\n",
    "    # DataLoader 생성\n",
    "    train_data_loader = DataLoader(\n",
    "        dataset=train_crypto_currency_dataset,\n",
    "        batch_size=wandb.config.batch_size,\n",
    "        shuffle=True\n",
    "    )\n",
    "    \n",
    "    validation_data_loader = DataLoader(\n",
    "        dataset=validation_crypto_currency_dataset,\n",
    "        batch_size=wandb.config.batch_size,\n",
    "        shuffle=True\n",
    "    )\n",
    "    \n",
    "    test_data_loader = DataLoader(\n",
    "        dataset=test_crypto_currency_dataset,\n",
    "        batch_size=len(test_crypto_currency_dataset),\n",
    "        shuffle=True\n",
    "    )\n",
    "\n",
    "    return train_data_loader, validation_data_loader, test_data_loader"
   ]
  },
  {
   "cell_type": "code",
   "execution_count": 6,
   "metadata": {},
   "outputs": [],
   "source": [
    "def get_model():\n",
    "    class MyModel(nn.Module):\n",
    "        def __init__(self, n_input=6, n_output=2):  # n_input을 6으로 변경 (Next_Open 포함)\n",
    "            super().__init__()\n",
    "            \n",
    "            #메인 LSTM 레이어\n",
    "            self.lstm = nn.LSTM(\n",
    "                input_size=n_input,\n",
    "                hidden_size=1024,  # hidden size 증가\n",
    "                num_layers=3,      # 3개의 layer\n",
    "                dropout=0.1,       # dropout 추가\n",
    "                batch_first=True,\n",
    "                bidirectional=True # 양방향 LSTM\n",
    "            )\n",
    "            \n",
    "            # 분류를 위한 FC 레이어\n",
    "            self.fc_layers = nn.Sequential(\n",
    "                nn.LayerNorm(2048),  # bidirectional이므로 hidden_size * 2\n",
    "                nn.Linear(2048, 512),\n",
    "                nn.GELU(),\n",
    "                nn.Dropout(0.1),\n",
    "                \n",
    "                nn.LayerNorm(512),\n",
    "                nn.Linear(512, 128),\n",
    "                nn.GELU(),\n",
    "                nn.Dropout(0.1),\n",
    "                \n",
    "                nn.LayerNorm(128),\n",
    "                nn.Linear(128, n_output),  # n_output=2 for binary classification\n",
    "            )\n",
    "            \n",
    "        def forward(self, x):\n",
    "            self.lstm.flatten_parameters()  # CUDA 성능 최적화\n",
    "            x, _ = self.lstm(x)\n",
    "            x = x[:, -1, :]  # 마지막 시퀀스의 출력만 사용\n",
    "            x = self.fc_layers(x)\n",
    "            return x  # CrossEntropyLoss를 사용할 것이므로 softmax는 여기서 적용하지 않음\n",
    "\n",
    "    my_model = MyModel(n_input=6, n_output=2)\n",
    "    return my_model\n",
    "\n",
    "# Args 클래스도 classification task에 맞게 수정\n",
    "class Args:\n",
    "    def __init__(self):\n",
    "        self.wandb = True\n",
    "        self.batch_size = 32       # classification은 regression보다 큰 배치 사이즈가 효과적일 수 있음\n",
    "        self.epochs = 300\n",
    "        self.learning_rate = 1e-3  # classification은 보통 더 큰 학습률 사용\n",
    "        self.weight_decay = 1e-4\n",
    "        self.validation_intervals = 1\n",
    "        self.early_stop_patience = 30\n",
    "        self.early_stop_delta = 1e-4"
   ]
  },
  {
   "cell_type": "code",
   "execution_count": 7,
   "metadata": {},
   "outputs": [],
   "source": [
    "def main(args):\n",
    "  run_time_str = datetime.now().astimezone().strftime('%Y-%m-%d_%H-%M-%S')\n",
    "\n",
    "  config = {\n",
    "    'epochs': args.epochs,\n",
    "    'batch_size': args.batch_size,\n",
    "    'validation_intervals': args.validation_intervals,\n",
    "    'learning_rate': args.learning_rate,\n",
    "    'early_stop_patience': args.early_stop_patience,\n",
    "    'early_stop_delta': args.early_stop_delta,\n",
    "    'weight_decay': args.weight_decay\n",
    "  }\n",
    "\n",
    "  project_name = \"lstm_classification_btc_krw_next_open\"\n",
    "  wandb.init(\n",
    "    mode=\"online\" if args.wandb else \"disabled\",\n",
    "    project=project_name,\n",
    "    notes=\"btc_krw experiment with lstm\",\n",
    "    tags=[\"lstm\", \"classification\", \"btc_krw\"],\n",
    "    name=run_time_str,\n",
    "    config=config\n",
    "  )\n",
    "  print(args)\n",
    "  print(wandb.config)\n",
    "\n",
    "  train_data_loader, validation_data_loader, _ = get_btc_krw_data(is_regression=False)\n",
    "  device = torch.device(\"cuda:0\" if torch.cuda.is_available() else \"cpu\")\n",
    "  print(f\"Training on device {device}.\")\n",
    "\n",
    "  model = get_model()\n",
    "  model.to(device)\n",
    "\n",
    "  optimizer = optim.Adam(model.parameters(), lr=wandb.config.learning_rate, weight_decay=wandb.config.weight_decay)\n",
    "\n",
    "  classification_trainer = ClassificationTrainer(\n",
    "    project_name, model, optimizer, train_data_loader, validation_data_loader, None,\n",
    "    run_time_str, wandb, device, CHECKPOINT_FILE_PATH\n",
    "  )\n",
    "  classification_trainer.train_loop()\n",
    "\n",
    "  wandb.finish()"
   ]
  },
  {
   "cell_type": "code",
   "execution_count": 8,
   "metadata": {},
   "outputs": [
    {
     "name": "stderr",
     "output_type": "stream",
     "text": [
      "\u001b[34m\u001b[1mwandb\u001b[0m: Using wandb-core as the SDK backend. Please refer to https://wandb.me/wandb-core for more information.\n"
     ]
    },
    {
     "name": "stderr",
     "output_type": "stream",
     "text": [
      "\u001b[34m\u001b[1mwandb\u001b[0m: Currently logged in as: \u001b[33mjaeminyu2356\u001b[0m (\u001b[33mjaeminyu2356-korea-university-of-technology-and-education\u001b[0m). Use \u001b[1m`wandb login --relogin`\u001b[0m to force relogin\n"
     ]
    },
    {
     "data": {
      "text/html": [
       "Tracking run with wandb version 0.18.5"
      ],
      "text/plain": [
       "<IPython.core.display.HTML object>"
      ]
     },
     "metadata": {},
     "output_type": "display_data"
    },
    {
     "data": {
      "text/html": [
       "Run data is saved locally in <code>/home/Deep-Learning-study/_02_homeworks/hw4/wandb/run-20241212_171345-e2gx0gv7</code>"
      ],
      "text/plain": [
       "<IPython.core.display.HTML object>"
      ]
     },
     "metadata": {},
     "output_type": "display_data"
    },
    {
     "data": {
      "text/html": [
       "Syncing run <strong><a href='https://wandb.ai/jaeminyu2356-korea-university-of-technology-and-education/lstm_classification_btc_krw_next_open/runs/e2gx0gv7' target=\"_blank\">2024-12-12_17-13-45</a></strong> to <a href='https://wandb.ai/jaeminyu2356-korea-university-of-technology-and-education/lstm_classification_btc_krw_next_open' target=\"_blank\">Weights & Biases</a> (<a href='https://wandb.me/run' target=\"_blank\">docs</a>)<br/>"
      ],
      "text/plain": [
       "<IPython.core.display.HTML object>"
      ]
     },
     "metadata": {},
     "output_type": "display_data"
    },
    {
     "data": {
      "text/html": [
       " View project at <a href='https://wandb.ai/jaeminyu2356-korea-university-of-technology-and-education/lstm_classification_btc_krw_next_open' target=\"_blank\">https://wandb.ai/jaeminyu2356-korea-university-of-technology-and-education/lstm_classification_btc_krw_next_open</a>"
      ],
      "text/plain": [
       "<IPython.core.display.HTML object>"
      ]
     },
     "metadata": {},
     "output_type": "display_data"
    },
    {
     "data": {
      "text/html": [
       " View run at <a href='https://wandb.ai/jaeminyu2356-korea-university-of-technology-and-education/lstm_classification_btc_krw_next_open/runs/e2gx0gv7' target=\"_blank\">https://wandb.ai/jaeminyu2356-korea-university-of-technology-and-education/lstm_classification_btc_krw_next_open/runs/e2gx0gv7</a>"
      ],
      "text/plain": [
       "<IPython.core.display.HTML object>"
      ]
     },
     "metadata": {},
     "output_type": "display_data"
    },
    {
     "name": "stdout",
     "output_type": "stream",
     "text": [
      "<__main__.Args object at 0x7453d6110050>\n",
      "{'epochs': 300, 'batch_size': 32, 'validation_intervals': 1, 'learning_rate': 0.001, 'early_stop_patience': 30, 'early_stop_delta': 0.0001, 'weight_decay': 0.0001}\n",
      "Training on device cuda:0.\n",
      "[Epoch   1] T_loss: 0.72054, T_accuracy: 51.6166 | V_loss: 0.69097, V_accuracy: 53.3333 | Early stopping is stated! | T_time: 00:00:07, T_speed: 0.143\n",
      "[Epoch   2] T_loss: 0.69753, T_accuracy: 50.7941 | V_loss: 0.69073, V_accuracy: 53.3333 | V_loss decreased (0.69097 --> 0.69073). Saving model... | T_time: 00:00:14, T_speed: 0.143\n",
      "[Epoch   3] T_loss: 0.69445, T_accuracy: 52.1838 | V_loss: 0.69206, V_accuracy: 53.3333 | Early stopping counter: 1 out of 30 | T_time: 00:00:23, T_speed: 0.130\n",
      "[Epoch   4] T_loss: 0.69486, T_accuracy: 50.7374 | V_loss: 0.69307, V_accuracy: 53.3333 | Early stopping counter: 2 out of 30 | T_time: 00:00:30, T_speed: 0.133\n",
      "[Epoch   5] T_loss: 0.69352, T_accuracy: 51.4464 | V_loss: 0.69168, V_accuracy: 53.3333 | Early stopping counter: 3 out of 30 | T_time: 00:00:37, T_speed: 0.135\n",
      "[Epoch   6] T_loss: 0.69260, T_accuracy: 52.5241 | V_loss: 0.69451, V_accuracy: 53.3333 | Early stopping counter: 4 out of 30 | T_time: 00:00:44, T_speed: 0.136\n",
      "[Epoch   7] T_loss: 0.69384, T_accuracy: 52.6375 | V_loss: 0.69311, V_accuracy: 53.3333 | Early stopping counter: 5 out of 30 | T_time: 00:00:52, T_speed: 0.135\n",
      "[Epoch   8] T_loss: 0.69395, T_accuracy: 50.9359 | V_loss: 0.69347, V_accuracy: 53.3333 | Early stopping counter: 6 out of 30 | T_time: 00:00:59, T_speed: 0.136\n",
      "[Epoch   9] T_loss: 0.69254, T_accuracy: 52.8644 | V_loss: 0.69296, V_accuracy: 53.3333 | Early stopping counter: 7 out of 30 | T_time: 00:01:06, T_speed: 0.136\n",
      "[Epoch  10] T_loss: 0.69374, T_accuracy: 50.9075 | V_loss: 0.69347, V_accuracy: 46.6667 | Early stopping counter: 8 out of 30 | T_time: 00:01:13, T_speed: 0.137\n",
      "[Epoch  11] T_loss: 0.69265, T_accuracy: 52.0420 | V_loss: 0.69289, V_accuracy: 53.3333 | Early stopping counter: 9 out of 30 | T_time: 00:01:19, T_speed: 0.139\n",
      "[Epoch  12] T_loss: 0.69245, T_accuracy: 52.5808 | V_loss: 0.69140, V_accuracy: 53.3333 | Early stopping counter: 10 out of 30 | T_time: 00:01:26, T_speed: 0.140\n",
      "[Epoch  13] T_loss: 0.69254, T_accuracy: 52.8644 | V_loss: 0.68974, V_accuracy: 53.3333 | V_loss decreased (0.69073 --> 0.68974). Saving model... | T_time: 00:01:33, T_speed: 0.140\n",
      "[Epoch  14] T_loss: 0.69271, T_accuracy: 52.0987 | V_loss: 0.69100, V_accuracy: 53.3333 | Early stopping counter: 1 out of 30 | T_time: 00:01:43, T_speed: 0.136\n",
      "[Epoch  15] T_loss: 0.69298, T_accuracy: 52.6659 | V_loss: 0.69053, V_accuracy: 53.3333 | Early stopping counter: 2 out of 30 | T_time: 00:01:49, T_speed: 0.138\n",
      "[Epoch  16] T_loss: 0.69313, T_accuracy: 51.9853 | V_loss: 0.69005, V_accuracy: 53.3333 | Early stopping counter: 3 out of 30 | T_time: 00:01:56, T_speed: 0.138\n",
      "[Epoch  17] T_loss: 0.69215, T_accuracy: 52.6375 | V_loss: 0.68919, V_accuracy: 53.3333 | V_loss decreased (0.68974 --> 0.68919). Saving model... | T_time: 00:02:03, T_speed: 0.138\n",
      "[Epoch  18] T_loss: 0.69311, T_accuracy: 52.8644 | V_loss: 0.69156, V_accuracy: 53.3333 | Early stopping counter: 1 out of 30 | T_time: 00:02:14, T_speed: 0.134\n",
      "[Epoch  19] T_loss: 0.69168, T_accuracy: 52.9779 | V_loss: 0.69446, V_accuracy: 46.6667 | Early stopping counter: 2 out of 30 | T_time: 00:02:20, T_speed: 0.136\n",
      "[Epoch  20] T_loss: 0.69238, T_accuracy: 52.3256 | V_loss: 0.68854, V_accuracy: 53.3333 | V_loss decreased (0.68919 --> 0.68854). Saving model... | T_time: 00:02:27, T_speed: 0.136\n",
      "[Epoch  21] T_loss: 0.69317, T_accuracy: 52.9495 | V_loss: 0.69234, V_accuracy: 53.3333 | Early stopping counter: 1 out of 30 | T_time: 00:02:38, T_speed: 0.133\n",
      "[Epoch  22] T_loss: 0.69010, T_accuracy: 52.6375 | V_loss: 0.69809, V_accuracy: 53.3333 | Early stopping counter: 2 out of 30 | T_time: 00:02:45, T_speed: 0.133\n",
      "[Epoch  23] T_loss: 0.69362, T_accuracy: 52.9495 | V_loss: 0.69043, V_accuracy: 53.3333 | Early stopping counter: 3 out of 30 | T_time: 00:02:53, T_speed: 0.133\n",
      "[Epoch  24] T_loss: 0.69271, T_accuracy: 53.2048 | V_loss: 0.69212, V_accuracy: 53.3333 | Early stopping counter: 4 out of 30 | T_time: 00:03:00, T_speed: 0.133\n",
      "[Epoch  25] T_loss: 0.69237, T_accuracy: 52.6943 | V_loss: 0.69165, V_accuracy: 53.3333 | Early stopping counter: 5 out of 30 | T_time: 00:03:07, T_speed: 0.134\n",
      "[Epoch  26] T_loss: 0.69285, T_accuracy: 51.3897 | V_loss: 0.69042, V_accuracy: 53.3333 | Early stopping counter: 6 out of 30 | T_time: 00:03:14, T_speed: 0.134\n",
      "[Epoch  27] T_loss: 0.69254, T_accuracy: 52.8077 | V_loss: 0.69236, V_accuracy: 53.3333 | Early stopping counter: 7 out of 30 | T_time: 00:03:21, T_speed: 0.134\n",
      "[Epoch  28] T_loss: 0.69255, T_accuracy: 52.2121 | V_loss: 0.69376, V_accuracy: 53.3333 | Early stopping counter: 8 out of 30 | T_time: 00:03:28, T_speed: 0.135\n",
      "[Epoch  29] T_loss: 0.69284, T_accuracy: 52.2689 | V_loss: 0.69307, V_accuracy: 53.3333 | Early stopping counter: 9 out of 30 | T_time: 00:03:35, T_speed: 0.135\n",
      "[Epoch  30] T_loss: 0.69183, T_accuracy: 52.8361 | V_loss: 0.69226, V_accuracy: 53.3333 | Early stopping counter: 10 out of 30 | T_time: 00:03:42, T_speed: 0.135\n",
      "[Epoch  31] T_loss: 0.69266, T_accuracy: 52.7794 | V_loss: 0.69088, V_accuracy: 53.3333 | Early stopping counter: 11 out of 30 | T_time: 00:03:49, T_speed: 0.135\n",
      "[Epoch  32] T_loss: 0.69310, T_accuracy: 52.6659 | V_loss: 0.69083, V_accuracy: 53.3333 | Early stopping counter: 12 out of 30 | T_time: 00:03:56, T_speed: 0.136\n",
      "[Epoch  33] T_loss: 0.69222, T_accuracy: 52.6092 | V_loss: 0.69123, V_accuracy: 53.3333 | Early stopping counter: 13 out of 30 | T_time: 00:04:03, T_speed: 0.136\n",
      "[Epoch  34] T_loss: 0.69200, T_accuracy: 52.8928 | V_loss: 0.69249, V_accuracy: 53.3333 | Early stopping counter: 14 out of 30 | T_time: 00:04:10, T_speed: 0.136\n",
      "[Epoch  35] T_loss: 0.69277, T_accuracy: 52.0420 | V_loss: 0.69189, V_accuracy: 53.3333 | Early stopping counter: 15 out of 30 | T_time: 00:04:17, T_speed: 0.136\n",
      "[Epoch  36] T_loss: 0.69235, T_accuracy: 52.8928 | V_loss: 0.69090, V_accuracy: 53.3333 | Early stopping counter: 16 out of 30 | T_time: 00:04:24, T_speed: 0.136\n",
      "[Epoch  37] T_loss: 0.69249, T_accuracy: 52.9212 | V_loss: 0.69068, V_accuracy: 53.3333 | Early stopping counter: 17 out of 30 | T_time: 00:04:32, T_speed: 0.136\n",
      "[Epoch  38] T_loss: 0.69254, T_accuracy: 52.9212 | V_loss: 0.69051, V_accuracy: 53.3333 | Early stopping counter: 18 out of 30 | T_time: 00:04:38, T_speed: 0.137\n",
      "[Epoch  39] T_loss: 0.69251, T_accuracy: 52.8928 | V_loss: 0.68996, V_accuracy: 53.3333 | Early stopping counter: 19 out of 30 | T_time: 00:04:45, T_speed: 0.137\n",
      "[Epoch  40] T_loss: 0.69214, T_accuracy: 52.9495 | V_loss: 0.69206, V_accuracy: 53.3333 | Early stopping counter: 20 out of 30 | T_time: 00:04:52, T_speed: 0.137\n",
      "[Epoch  41] T_loss: 0.69226, T_accuracy: 53.0913 | V_loss: 0.69148, V_accuracy: 53.3333 | Early stopping counter: 21 out of 30 | T_time: 00:04:59, T_speed: 0.137\n",
      "[Epoch  42] T_loss: 0.69187, T_accuracy: 52.9495 | V_loss: 0.69090, V_accuracy: 53.3333 | Early stopping counter: 22 out of 30 | T_time: 00:05:06, T_speed: 0.137\n",
      "[Epoch  43] T_loss: 0.69239, T_accuracy: 52.9212 | V_loss: 0.69214, V_accuracy: 53.3333 | Early stopping counter: 23 out of 30 | T_time: 00:05:13, T_speed: 0.137\n",
      "[Epoch  44] T_loss: 0.69150, T_accuracy: 52.9495 | V_loss: 0.69120, V_accuracy: 53.3333 | Early stopping counter: 24 out of 30 | T_time: 00:05:20, T_speed: 0.138\n",
      "[Epoch  45] T_loss: 0.69213, T_accuracy: 52.3256 | V_loss: 0.69058, V_accuracy: 53.3333 | Early stopping counter: 25 out of 30 | T_time: 00:05:28, T_speed: 0.137\n",
      "[Epoch  46] T_loss: 0.69263, T_accuracy: 51.8718 | V_loss: 0.69064, V_accuracy: 53.3333 | Early stopping counter: 26 out of 30 | T_time: 00:05:34, T_speed: 0.138\n",
      "[Epoch  47] T_loss: 0.69224, T_accuracy: 52.9495 | V_loss: 0.69208, V_accuracy: 53.3333 | Early stopping counter: 27 out of 30 | T_time: 00:05:41, T_speed: 0.138\n",
      "[Epoch  48] T_loss: 0.69189, T_accuracy: 52.1271 | V_loss: 0.69000, V_accuracy: 53.3333 | Early stopping counter: 28 out of 30 | T_time: 00:05:48, T_speed: 0.138\n",
      "[Epoch  49] T_loss: 0.69143, T_accuracy: 52.9779 | V_loss: 0.68964, V_accuracy: 53.3333 | Early stopping counter: 29 out of 30 | T_time: 00:05:55, T_speed: 0.138\n",
      "[Epoch  50] T_loss: 0.69217, T_accuracy: 52.9212 | V_loss: 0.69121, V_accuracy: 53.3333 | Early stopping counter: 30 out of 30 *** TRAIN EARLY STOPPED! *** | T_time: 00:06:02, T_speed: 0.138\n",
      "Final training time: 00:06:02\n"
     ]
    },
    {
     "data": {
      "text/html": [
       "<style>\n",
       "    table.wandb td:nth-child(1) { padding: 0 10px; text-align: left ; width: auto;} td:nth-child(2) {text-align: left ; width: 100%}\n",
       "    .wandb-row { display: flex; flex-direction: row; flex-wrap: wrap; justify-content: flex-start; width: 100% }\n",
       "    .wandb-col { display: flex; flex-direction: column; flex-basis: 100%; flex: 1; padding: 10px; }\n",
       "    </style>\n",
       "<div class=\"wandb-row\"><div class=\"wandb-col\"><h3>Run history:</h3><br/><table class=\"wandb\"><tr><td>Epoch</td><td>▁▁▁▁▂▂▂▂▂▂▃▃▃▃▃▄▄▄▄▄▅▅▅▅▅▆▆▆▆▆▆▇▇▇▇▇▇███</td></tr><tr><td>Training accuracy (%)</td><td>▃▁▁▃▆▂▁▅▆▇▆▅▆▇▇▇▆▇█▇▇▅▅▇▇▆▇▅▇▇▇▇█▇▇▆▄▇▅▇</td></tr><tr><td>Training loss</td><td>█▃▂▂▂▂▂▂▂▂▂▂▂▁▂▂▂▁▂▂▂▂▂▂▁▁▁▂▂▂▂▁▁▁▂▁▂▁▁▁</td></tr><tr><td>Training speed (epochs/sec.)</td><td>██▁▃▄▃▄▄▅▆▆▄▅▅▅▄▄▂▃▂▃▃▃▃▄▄▄▄▄▄▄▅▅▅▅▅▅▅▅▅</td></tr><tr><td>Validation accuracy (%)</td><td>████████▁██████▁████████████████████████</td></tr><tr><td>Validation loss</td><td>▃▃▄▄▃▄▅▄▅▄▂▃▂▂▁▅▁█▂▃▄▅▄▄▃▃▄▃▃▃▂▄▃▃▄▂▃▄▂▃</td></tr></table><br/></div><div class=\"wandb-col\"><h3>Run summary:</h3><br/><table class=\"wandb\"><tr><td>Epoch</td><td>50</td></tr><tr><td>Training accuracy (%)</td><td>52.92116</td></tr><tr><td>Training loss</td><td>0.69217</td></tr><tr><td>Training speed (epochs/sec.)</td><td>0.13812</td></tr><tr><td>Validation accuracy (%)</td><td>53.33333</td></tr><tr><td>Validation loss</td><td>0.69121</td></tr></table><br/></div></div>"
      ],
      "text/plain": [
       "<IPython.core.display.HTML object>"
      ]
     },
     "metadata": {},
     "output_type": "display_data"
    },
    {
     "data": {
      "text/html": [
       " View run <strong style=\"color:#cdcd00\">2024-12-12_17-13-45</strong> at: <a href='https://wandb.ai/jaeminyu2356-korea-university-of-technology-and-education/lstm_classification_btc_krw_next_open/runs/e2gx0gv7' target=\"_blank\">https://wandb.ai/jaeminyu2356-korea-university-of-technology-and-education/lstm_classification_btc_krw_next_open/runs/e2gx0gv7</a><br/> View project at: <a href='https://wandb.ai/jaeminyu2356-korea-university-of-technology-and-education/lstm_classification_btc_krw_next_open' target=\"_blank\">https://wandb.ai/jaeminyu2356-korea-university-of-technology-and-education/lstm_classification_btc_krw_next_open</a><br/>Synced 5 W&B file(s), 0 media file(s), 0 artifact file(s) and 0 other file(s)"
      ],
      "text/plain": [
       "<IPython.core.display.HTML object>"
      ]
     },
     "metadata": {},
     "output_type": "display_data"
    },
    {
     "data": {
      "text/html": [
       "Find logs at: <code>./wandb/run-20241212_171345-e2gx0gv7/logs</code>"
      ],
      "text/plain": [
       "<IPython.core.display.HTML object>"
      ]
     },
     "metadata": {},
     "output_type": "display_data"
    }
   ],
   "source": [
    "if __name__ == \"__main__\":\n",
    "    import sys\n",
    "    if 'ipykernel' in sys.modules:  # Jupyter Notebook에서 실행 중인지 확인\n",
    "        # Jupyter에서 실행할 때는 기본값 사용\n",
    "        args = Args()\n",
    "    else:\n",
    "        # 일반 Python 스크립트로 실행할 때는 argparse 사용\n",
    "        parser = get_parser()\n",
    "        args = parser.parse_args()\n",
    "    \n",
    "    main(args)"
   ]
  },
  {
   "cell_type": "code",
   "execution_count": null,
   "metadata": {},
   "outputs": [],
   "source": []
  }
 ],
 "metadata": {
  "kernelspec": {
   "display_name": "base",
   "language": "python",
   "name": "python3"
  },
  "language_info": {
   "codemirror_mode": {
    "name": "ipython",
    "version": 3
   },
   "file_extension": ".py",
   "mimetype": "text/x-python",
   "name": "python",
   "nbconvert_exporter": "python",
   "pygments_lexer": "ipython3",
   "version": "3.11.9"
  }
 },
 "nbformat": 4,
 "nbformat_minor": 2
}
