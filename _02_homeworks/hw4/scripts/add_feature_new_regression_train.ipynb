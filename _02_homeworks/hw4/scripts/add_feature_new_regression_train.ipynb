{
 "cells": [
  {
   "cell_type": "code",
   "execution_count": 17,
   "metadata": {},
   "outputs": [],
   "source": [
    "import torch\n",
    "from torch import nn, optim\n",
    "from torch.utils.data import DataLoader, Dataset\n",
    "from datetime import datetime\n",
    "import os\n",
    "import wandb\n",
    "from pathlib import Path\n",
    "\n",
    "# 본 과제 제출자는 현재 우분투 도커 환경에서 작업중이므로 다음과 같이 경로 설정\n",
    "BASE_PATH=\"/home/Deep-Learning-study\"\n",
    "import sys\n",
    "sys.path.append(BASE_PATH)\n",
    "\n",
    "CURRENT_FILE_PATH = os.getcwd()\n",
    "CHECKPOINT_FILE_PATH = os.path.join(CURRENT_FILE_PATH, \"checkpoints\")\n",
    "\n",
    "if not os.path.isdir(CHECKPOINT_FILE_PATH):\n",
    "  os.makedirs(os.path.join(CURRENT_FILE_PATH, \"checkpoints\"))"
   ]
  },
  {
   "cell_type": "code",
   "execution_count": 18,
   "metadata": {},
   "outputs": [],
   "source": [
    "from _01_code._15_lstm_and_its_application.f_arg_parser import get_parser\n",
    "from _01_code._14_rnn.g_rnn_trainer import RegressionTrainer\n",
    "#from _01_code._03_real_world_data_to_tensors.p_cryptocurrency_dataset_dataloader import get_cryptocurrency_data, \\\n",
    "#  CryptoCurrencyDataset"
   ]
  },
  {
   "cell_type": "code",
   "execution_count": 19,
   "metadata": {},
   "outputs": [],
   "source": [
    "class CryptoCurrencyDataset(Dataset):\n",
    "  def __init__(self, X, y, is_regression=True):\n",
    "    self.X = X\n",
    "    self.y = y\n",
    "\n",
    "    assert len(self.X) == len(self.y)\n",
    "\n",
    "  def __len__(self):\n",
    "    return len(self.X)\n",
    "\n",
    "  def __getitem__(self, idx):\n",
    "    X = self.X[idx]\n",
    "    y = self.y[idx]\n",
    "    return X, y\n",
    "\n",
    "  def __str__(self):\n",
    "    str = \"Data Size: {0}, Input Shape: {1}, Target Shape: {2}\".format(\n",
    "      len(self.X), self.X.shape, self.y.shape\n",
    "    )\n",
    "    return str"
   ]
  },
  {
   "cell_type": "code",
   "execution_count": 20,
   "metadata": {},
   "outputs": [],
   "source": [
    "import pandas as pd\n",
    "\n",
    "def get_cryptocurrency_data(\n",
    "    sequence_size=10, validation_size=100, test_size=10, \n",
    "    target_column='Close', y_normalizer=1.0e7, \n",
    "    is_regression=True, use_next_open=True\n",
    "):\n",
    "    btc_krw_path = os.path.join(BASE_PATH, \"_00_data\", \"k_cryptocurrency\", \"BTC_KRW.csv\")\n",
    "    df = pd.read_csv(btc_krw_path)\n",
    "    row_size = len(df)\n",
    "    date_list = df['Date']\n",
    "\n",
    "    # Next_Open 컬럼 추가\n",
    "    if use_next_open:\n",
    "        df['Next_Open'] = df['Open'].shift(-1)\n",
    "        \n",
    "    df = df.drop(columns=['Date'])\n",
    "    \n",
    "    # Next_Open이 NaN인 마지막 행 제거\n",
    "    if use_next_open:\n",
    "        df = df.dropna()\n",
    "        row_size = len(df)\n",
    "\n",
    "    data_size = row_size - sequence_size\n",
    "    train_size = data_size - (validation_size + test_size)\n",
    "    #################################################################################################\n",
    "\n",
    "    row_cursor = 0\n",
    "\n",
    "    X_train_list = []\n",
    "    y_train_regression_list = []\n",
    "    y_train_classification_list = []\n",
    "    y_train_date = []\n",
    "    for idx in range(0, train_size):\n",
    "        sequence_data = df.iloc[idx: idx + sequence_size].values  # sequence_data.shape: (sequence_size, 6)\n",
    "        X_train_list.append(torch.from_numpy(sequence_data))\n",
    "        y_train_regression_list.append(df.iloc[idx + sequence_size][target_column])\n",
    "        y_train_classification_list.append(\n",
    "            1 if df.iloc[idx + sequence_size][target_column] >= df.iloc[idx + sequence_size - 1][target_column] else 0\n",
    "        )\n",
    "        y_train_date.append(date_list[idx + sequence_size])\n",
    "        row_cursor += 1\n",
    "\n",
    "    X_train = torch.stack(X_train_list, dim=0).to(torch.float)\n",
    "    y_train_regression = torch.tensor(y_train_regression_list, dtype=torch.float32) / y_normalizer\n",
    "    y_train_classification = torch.tensor(y_train_classification_list, dtype=torch.int64)\n",
    "\n",
    "    m = X_train.mean(dim=0, keepdim=True)\n",
    "    s = X_train.std(dim=0, keepdim=True)\n",
    "    X_train = (X_train - m) / s\n",
    "\n",
    "    #################################################################################################\n",
    "\n",
    "    X_validation_list = []\n",
    "    y_validation_regression_list = []\n",
    "    y_validation_classification_list = []\n",
    "    y_validation_date = []\n",
    "    for idx in range(row_cursor, row_cursor + validation_size):\n",
    "        sequence_data = df.iloc[idx: idx + sequence_size].values  # sequence_data.shape: (sequence_size, 6)\n",
    "        X_validation_list.append(torch.from_numpy(sequence_data))\n",
    "        y_validation_regression_list.append(df.iloc[idx + sequence_size][target_column])\n",
    "        y_validation_classification_list.append(\n",
    "            1 if df.iloc[idx + sequence_size][target_column] >= df.iloc[idx + sequence_size - 1][target_column] else 0\n",
    "        )\n",
    "        y_validation_date.append(date_list[idx + sequence_size])\n",
    "        row_cursor += 1\n",
    "\n",
    "    X_validation = torch.stack(X_validation_list, dim=0).to(torch.float)\n",
    "    y_validation_regression = torch.tensor(y_validation_regression_list, dtype=torch.float32) / y_normalizer\n",
    "    y_validation_classification = torch.tensor(y_validation_classification_list, dtype=torch.int64)\n",
    "\n",
    "    X_validation = (X_validation - m) / s\n",
    "    #################################################################################################\n",
    "\n",
    "    X_test_list = []\n",
    "    y_test_regression_list = []\n",
    "    y_test_classification_list = []\n",
    "    y_test_date = []\n",
    "    for idx in range(row_cursor, row_cursor + test_size):\n",
    "        sequence_data = df.iloc[idx: idx + sequence_size].values  # sequence_data.shape: (sequence_size, 6)\n",
    "        X_test_list.append(torch.from_numpy(sequence_data))\n",
    "        y_test_regression_list.append(df.iloc[idx + sequence_size][target_column])\n",
    "        y_test_classification_list.append(\n",
    "            1 if df.iloc[idx + sequence_size][target_column] > df.iloc[idx + sequence_size - 1][target_column] else 0\n",
    "        )\n",
    "        y_test_date.append(date_list[idx + sequence_size])\n",
    "        row_cursor += 1\n",
    "\n",
    "    X_test = torch.stack(X_test_list, dim=0).to(torch.float)\n",
    "    y_test_regression = torch.tensor(y_test_regression_list, dtype=torch.float32) / y_normalizer\n",
    "    y_test_classification = torch.tensor(y_test_classification_list, dtype=torch.int64)\n",
    "\n",
    "    X_test = (X_test - m) / s\n",
    "\n",
    "    if is_regression:\n",
    "        return (\n",
    "            X_train, X_validation, X_test,\n",
    "            y_train_regression, y_validation_regression, y_test_regression,\n",
    "            y_train_date, y_validation_date, y_test_date\n",
    "        )\n",
    "    else:\n",
    "        return (\n",
    "            X_train, X_validation, X_test,\n",
    "            y_train_classification, y_validation_classification, y_test_classification,\n",
    "            y_train_date, y_validation_date, y_test_date\n",
    "        )"
   ]
  },
  {
   "cell_type": "code",
   "execution_count": 21,
   "metadata": {},
   "outputs": [],
   "source": [
    "def get_btc_krw_data(sequence_size=21, validation_size=150, test_size=30, is_regression=True, use_next_open=True):\n",
    "    # use_next_open 파라미터 추가\n",
    "    X_train, X_validation, X_test, y_train, y_validation, y_test, y_train_date, y_validation_date, y_test_date \\\n",
    "        = get_cryptocurrency_data(\n",
    "            sequence_size=sequence_size,\n",
    "            validation_size=validation_size,\n",
    "            test_size=test_size,\n",
    "            target_column='Close',\n",
    "            y_normalizer=1.0e7,\n",
    "            is_regression=is_regression,\n",
    "            use_next_open=use_next_open  # Next_Open feature 사용 여부\n",
    "        )\n",
    "\n",
    "    # PyTorch Dataset 객체 생성\n",
    "    train_crypto_currency_dataset = CryptoCurrencyDataset(X=X_train, y=y_train)\n",
    "    validation_crypto_currency_dataset = CryptoCurrencyDataset(X=X_validation, y=y_validation)\n",
    "    test_crypto_currency_dataset = CryptoCurrencyDataset(X=X_test, y=y_test)\n",
    "\n",
    "    # DataLoader 생성\n",
    "    train_data_loader = DataLoader(\n",
    "        dataset=train_crypto_currency_dataset,\n",
    "        batch_size=wandb.config.batch_size,\n",
    "        shuffle=True\n",
    "    )\n",
    "    \n",
    "    validation_data_loader = DataLoader(\n",
    "        dataset=validation_crypto_currency_dataset,\n",
    "        batch_size=wandb.config.batch_size,\n",
    "        shuffle=True\n",
    "    )\n",
    "    \n",
    "    test_data_loader = DataLoader(\n",
    "        dataset=test_crypto_currency_dataset,\n",
    "        batch_size=len(test_crypto_currency_dataset),\n",
    "        shuffle=True\n",
    "    )\n",
    "\n",
    "    return train_data_loader, validation_data_loader, test_data_loader"
   ]
  },
  {
   "cell_type": "code",
   "execution_count": 22,
   "metadata": {},
   "outputs": [],
   "source": [
    "def get_model():\n",
    "    class MyModel(nn.Module):\n",
    "        def __init__(self, n_input=6, n_output=1):  # regression이므로 n_output=1\n",
    "            super().__init__()\n",
    "            \n",
    "            self.lstm = nn.LSTM(\n",
    "                input_size=n_input,    # Next_Open 피처 추가로 6\n",
    "                hidden_size=1024,\n",
    "                num_layers=3,\n",
    "                dropout=0.1,\n",
    "                batch_first=True,\n",
    "                bidirectional=True\n",
    "            )\n",
    "            \n",
    "            self.fc_layers = nn.Sequential(\n",
    "                nn.LayerNorm(2048),\n",
    "                nn.Linear(2048, 512),\n",
    "                nn.GELU(),\n",
    "                nn.Dropout(0.1),\n",
    "                \n",
    "                nn.LayerNorm(512),\n",
    "                nn.Linear(512, n_output)  # regression이므로 출력 1개\n",
    "            )\n",
    "\n",
    "        def forward(self, x):\n",
    "            self.lstm.flatten_parameters()\n",
    "            x, _ = self.lstm(x)\n",
    "            x = x[:, -1, :]\n",
    "            x = self.fc_layers(x)\n",
    "            return x\n",
    "\n",
    "    my_model = MyModel(n_input=6, n_output=1)  # regression 설정\n",
    "    return my_model\n",
    "\n",
    "class Args:\n",
    "    def __init__(self):\n",
    "        self.wandb = True\n",
    "        self.batch_size = 16       # 배치 사이즈 감소\n",
    "        self.epochs = 500          # epoch 증가\n",
    "        self.learning_rate = 5e-4  # 학습률 조정\n",
    "        self.weight_decay = 1e-5   # weight decay 감소\n",
    "        self.validation_intervals = 1\n",
    "        self.early_stop_patience = 50  # patience 증가\n",
    "        self.early_stop_delta = 1e-6   # delta 감소"
   ]
  },
  {
   "cell_type": "code",
   "execution_count": 25,
   "metadata": {},
   "outputs": [],
   "source": [
    "def main(args):\n",
    "    # 현재 시간을 문자열로 변환\n",
    "    run_time_str = datetime.now().astimezone().strftime('%Y-%m-%d_%H-%M-%S')\n",
    "\n",
    "    # wandb 설정\n",
    "    config = {\n",
    "        'epochs': args.epochs,\n",
    "        'batch_size': args.batch_size,\n",
    "        'validation_intervals': args.validation_intervals,\n",
    "        'learning_rate': args.learning_rate,\n",
    "        'early_stop_patience': args.early_stop_patience,\n",
    "        'early_stop_delta': args.early_stop_delta,\n",
    "        'weight_decay': args.weight_decay\n",
    "    }\n",
    "\n",
    "    # 프로젝트 이름 변경 (regression용)\n",
    "    project_name = \"lstm_regression_btc_krw_with_next_open\"\n",
    "    wandb.init(\n",
    "        mode=\"online\" if args.wandb else \"disabled\",\n",
    "        project=project_name,\n",
    "        notes=\"btc_krw experiment with lstm and next_open feature\",\n",
    "        tags=[\"lstm\", \"regression\", \"btc_krw\", \"next_open\"],\n",
    "        name=run_time_str,\n",
    "        config=config\n",
    "    )\n",
    "\n",
    "    # regression 데이터 로더 가져오기\n",
    "    train_data_loader, validation_data_loader, _ = get_btc_krw_data(\n",
    "        is_regression=True,  # regression으로 변경\n",
    "        use_next_open=True   # Next_Open 피처 사용\n",
    "    )\n",
    "    \n",
    "    device = torch.device(\"cuda:0\" if torch.cuda.is_available() else \"cpu\")\n",
    "    print(f\"Training on device {device}.\")\n",
    "\n",
    "    model = get_model()\n",
    "    model.to(device)\n",
    "    wandb.watch(model)\n",
    "\n",
    "    optimizer = optim.Adam(\n",
    "        model.parameters(),\n",
    "        lr=wandb.config.learning_rate,\n",
    "        weight_decay=wandb.config.weight_decay\n",
    "    )\n",
    "\n",
    "    def transforms(x):\n",
    "        return x\n",
    "\n",
    "    # 체크포인트 저장 경로 확인 및 생성\n",
    "    checkpoint_path = os.path.join(CHECKPOINT_FILE_PATH, project_name, run_time_str)\n",
    "    os.makedirs(checkpoint_path, exist_ok=True)\n",
    "\n",
    "    # RegressionTrainer 사용\n",
    "    regression_trainer = RegressionTrainer(\n",
    "        project_name=project_name,\n",
    "        model=model,\n",
    "        optimizer=optimizer,\n",
    "        train_data_loader=train_data_loader,\n",
    "        validation_data_loader=validation_data_loader,\n",
    "        run_time_str=run_time_str,\n",
    "        wandb=wandb,\n",
    "        device=device,\n",
    "        checkpoint_file_path=checkpoint_path,  # 수정된 경로 사용\n",
    "        transforms=transforms\n",
    "    )\n",
    "\n",
    "    regression_trainer.train_loop()\n",
    "    wandb.finish()"
   ]
  },
  {
   "cell_type": "code",
   "execution_count": 26,
   "metadata": {},
   "outputs": [
    {
     "data": {
      "text/html": [
       "Finishing last run (ID:5pyoe3bs) before initializing another..."
      ],
      "text/plain": [
       "<IPython.core.display.HTML object>"
      ]
     },
     "metadata": {},
     "output_type": "display_data"
    },
    {
     "data": {
      "text/html": [
       "<style>\n",
       "    table.wandb td:nth-child(1) { padding: 0 10px; text-align: left ; width: auto;} td:nth-child(2) {text-align: left ; width: 100%}\n",
       "    .wandb-row { display: flex; flex-direction: row; flex-wrap: wrap; justify-content: flex-start; width: 100% }\n",
       "    .wandb-col { display: flex; flex-direction: column; flex-basis: 100%; flex: 1; padding: 10px; }\n",
       "    </style>\n",
       "<div class=\"wandb-row\"><div class=\"wandb-col\"><h3>Run history:</h3><br/><table class=\"wandb\"><tr><td>Epoch</td><td>▁▃▅▆█</td></tr><tr><td>Training loss</td><td>█▁▁▁▁</td></tr><tr><td>Training speed (epochs/sec.)</td><td>▁▂▃▄█</td></tr><tr><td>Validation loss</td><td>▁▁▄▃█</td></tr></table><br/></div><div class=\"wandb-col\"><h3>Run summary:</h3><br/><table class=\"wandb\"><tr><td>Epoch</td><td>5</td></tr><tr><td>Training loss</td><td>0.02749</td></tr><tr><td>Training speed (epochs/sec.)</td><td>0.01111</td></tr><tr><td>Validation loss</td><td>1.33968</td></tr></table><br/></div></div>"
      ],
      "text/plain": [
       "<IPython.core.display.HTML object>"
      ]
     },
     "metadata": {},
     "output_type": "display_data"
    },
    {
     "data": {
      "text/html": [
       " View run <strong style=\"color:#cdcd00\">2024-12-12_17-45-31</strong> at: <a href='https://wandb.ai/jaeminyu2356-korea-university-of-technology-and-education/lstm_regression_btc_krw_with_next_open/runs/5pyoe3bs' target=\"_blank\">https://wandb.ai/jaeminyu2356-korea-university-of-technology-and-education/lstm_regression_btc_krw_with_next_open/runs/5pyoe3bs</a><br/> View project at: <a href='https://wandb.ai/jaeminyu2356-korea-university-of-technology-and-education/lstm_regression_btc_krw_with_next_open' target=\"_blank\">https://wandb.ai/jaeminyu2356-korea-university-of-technology-and-education/lstm_regression_btc_krw_with_next_open</a><br/>Synced 5 W&B file(s), 0 media file(s), 2 artifact file(s) and 0 other file(s)"
      ],
      "text/plain": [
       "<IPython.core.display.HTML object>"
      ]
     },
     "metadata": {},
     "output_type": "display_data"
    },
    {
     "data": {
      "text/html": [
       "Find logs at: <code>./wandb/run-20241212_174531-5pyoe3bs/logs</code>"
      ],
      "text/plain": [
       "<IPython.core.display.HTML object>"
      ]
     },
     "metadata": {},
     "output_type": "display_data"
    },
    {
     "data": {
      "text/html": [
       "Successfully finished last run (ID:5pyoe3bs). Initializing new run:<br/>"
      ],
      "text/plain": [
       "<IPython.core.display.HTML object>"
      ]
     },
     "metadata": {},
     "output_type": "display_data"
    },
    {
     "data": {
      "text/html": [
       "Tracking run with wandb version 0.18.5"
      ],
      "text/plain": [
       "<IPython.core.display.HTML object>"
      ]
     },
     "metadata": {},
     "output_type": "display_data"
    },
    {
     "data": {
      "text/html": [
       "Run data is saved locally in <code>/home/Deep-Learning-study/_02_homeworks/hw4/wandb/run-20241212_174820-l9154gug</code>"
      ],
      "text/plain": [
       "<IPython.core.display.HTML object>"
      ]
     },
     "metadata": {},
     "output_type": "display_data"
    },
    {
     "data": {
      "text/html": [
       "Syncing run <strong><a href='https://wandb.ai/jaeminyu2356-korea-university-of-technology-and-education/lstm_regression_btc_krw_with_next_open/runs/l9154gug' target=\"_blank\">2024-12-12_17-48-20</a></strong> to <a href='https://wandb.ai/jaeminyu2356-korea-university-of-technology-and-education/lstm_regression_btc_krw_with_next_open' target=\"_blank\">Weights & Biases</a> (<a href='https://wandb.me/run' target=\"_blank\">docs</a>)<br/>"
      ],
      "text/plain": [
       "<IPython.core.display.HTML object>"
      ]
     },
     "metadata": {},
     "output_type": "display_data"
    },
    {
     "data": {
      "text/html": [
       " View project at <a href='https://wandb.ai/jaeminyu2356-korea-university-of-technology-and-education/lstm_regression_btc_krw_with_next_open' target=\"_blank\">https://wandb.ai/jaeminyu2356-korea-university-of-technology-and-education/lstm_regression_btc_krw_with_next_open</a>"
      ],
      "text/plain": [
       "<IPython.core.display.HTML object>"
      ]
     },
     "metadata": {},
     "output_type": "display_data"
    },
    {
     "data": {
      "text/html": [
       " View run at <a href='https://wandb.ai/jaeminyu2356-korea-university-of-technology-and-education/lstm_regression_btc_krw_with_next_open/runs/l9154gug' target=\"_blank\">https://wandb.ai/jaeminyu2356-korea-university-of-technology-and-education/lstm_regression_btc_krw_with_next_open/runs/l9154gug</a>"
      ],
      "text/plain": [
       "<IPython.core.display.HTML object>"
      ]
     },
     "metadata": {},
     "output_type": "display_data"
    },
    {
     "name": "stdout",
     "output_type": "stream",
     "text": [
      "Training on device cuda:0.\n",
      "[Epoch   1] T_loss: 0.42001, V_loss: 0.26985, Early stopping is stated! | T_time: 00:00:11, T_speed: 0.001\n",
      "[Epoch   2] T_loss: 0.04868, V_loss: 1.35451, Early stopping counter: 1 out of 50 | T_time: 00:00:23, T_speed: 0.003\n",
      "[Epoch   3] T_loss: 0.03779, V_loss: 0.84451, Early stopping counter: 2 out of 50 | T_time: 00:00:35, T_speed: 0.009\n",
      "[Epoch   4] T_loss: 0.05168, V_loss: 0.34090, Early stopping counter: 3 out of 50 | T_time: 00:00:47, T_speed: 0.097\n",
      "[Epoch   5] T_loss: 0.03451, V_loss: 1.77300, Early stopping counter: 4 out of 50 | T_time: 00:00:58, T_speed: 0.006\n",
      "[Epoch   6] T_loss: 0.02971, V_loss: 0.28165, Early stopping counter: 5 out of 50 | T_time: 00:01:10, T_speed: 0.014\n",
      "[Epoch   7] T_loss: 0.03252, V_loss: 0.72564, Early stopping counter: 6 out of 50 | T_time: 00:01:22, T_speed: 0.030\n",
      "[Epoch   8] T_loss: 0.03622, V_loss: 0.07710, V_loss decreased (0.26985 --> 0.07710). Saving model... | T_time: 00:01:33, T_speed: 0.010\n",
      "[Epoch   9] T_loss: 0.02732, V_loss: 0.89802, Early stopping counter: 1 out of 50 | T_time: 00:01:46, T_speed: 0.154\n",
      "[Epoch  10] T_loss: 0.03470, V_loss: 0.88494, Early stopping counter: 2 out of 50 | T_time: 00:01:57, T_speed: 0.013\n",
      "[Epoch  11] T_loss: 0.03186, V_loss: 0.28582, Early stopping counter: 3 out of 50 | T_time: 00:02:09, T_speed: 0.024\n",
      "[Epoch  12] T_loss: 0.02681, V_loss: 0.77469, Early stopping counter: 4 out of 50 | T_time: 00:02:21, T_speed: 0.068\n",
      "[Epoch  13] T_loss: 0.02745, V_loss: 0.68837, Early stopping counter: 5 out of 50 | T_time: 00:02:32, T_speed: 0.019\n",
      "[Epoch  14] T_loss: 0.02769, V_loss: 0.11018, Early stopping counter: 6 out of 50 | T_time: 00:02:44, T_speed: 0.029\n",
      "[Epoch  15] T_loss: 0.03522, V_loss: 0.07881, Early stopping counter: 7 out of 50 | T_time: 00:02:56, T_speed: 0.081\n",
      "[Epoch  16] T_loss: 0.03794, V_loss: 0.54690, Early stopping counter: 8 out of 50 | T_time: 00:03:07, T_speed: 0.017\n",
      "[Epoch  17] T_loss: 0.03236, V_loss: 1.15585, Early stopping counter: 9 out of 50 | T_time: 00:03:19, T_speed: 0.020\n",
      "[Epoch  18] T_loss: 0.03447, V_loss: 0.69088, Early stopping counter: 10 out of 50 | T_time: 00:03:31, T_speed: 0.031\n",
      "[Epoch  19] T_loss: 0.03148, V_loss: 0.42166, Early stopping counter: 11 out of 50 | T_time: 00:03:43, T_speed: 0.139\n",
      "[Epoch  20] T_loss: 0.02871, V_loss: 0.94909, Early stopping counter: 12 out of 50 | T_time: 00:03:54, T_speed: 0.041\n",
      "[Epoch  21] T_loss: 0.02945, V_loss: 1.27843, Early stopping counter: 13 out of 50 | T_time: 00:04:05, T_speed: 0.024\n",
      "[Epoch  22] T_loss: 0.02567, V_loss: 1.13651, Early stopping counter: 14 out of 50 | T_time: 00:04:17, T_speed: 0.058\n",
      "[Epoch  23] T_loss: 0.02598, V_loss: 0.84278, Early stopping counter: 15 out of 50 | T_time: 00:04:29, T_speed: 0.184\n",
      "[Epoch  24] T_loss: 0.02548, V_loss: 0.38083, Early stopping counter: 16 out of 50 | T_time: 00:04:40, T_speed: 0.033\n",
      "[Epoch  25] T_loss: 0.02914, V_loss: 0.23271, Early stopping counter: 17 out of 50 | T_time: 00:04:52, T_speed: 0.097\n",
      "[Epoch  26] T_loss: 0.02807, V_loss: 0.50329, Early stopping counter: 18 out of 50 | T_time: 00:05:03, T_speed: 0.032\n",
      "[Epoch  27] T_loss: 0.02688, V_loss: 0.35051, Early stopping counter: 19 out of 50 | T_time: 00:05:15, T_speed: 0.043\n",
      "[Epoch  28] T_loss: 0.02993, V_loss: 0.13453, Early stopping counter: 20 out of 50 | T_time: 00:05:27, T_speed: 0.077\n",
      "[Epoch  29] T_loss: 0.02670, V_loss: 0.65038, Early stopping counter: 21 out of 50 | T_time: 00:05:39, T_speed: 0.463\n",
      "[Epoch  30] T_loss: 0.02732, V_loss: 0.16621, Early stopping counter: 22 out of 50 | T_time: 00:05:50, T_speed: 0.043\n",
      "[Epoch  31] T_loss: 0.03104, V_loss: 0.78092, Early stopping counter: 23 out of 50 | T_time: 00:06:02, T_speed: 0.103\n",
      "[Epoch  32] T_loss: 0.02484, V_loss: 0.24710, Early stopping counter: 24 out of 50 | T_time: 00:06:13, T_speed: 0.040\n",
      "[Epoch  33] T_loss: 0.02407, V_loss: 0.32531, Early stopping counter: 25 out of 50 | T_time: 00:06:25, T_speed: 0.098\n",
      "[Epoch  34] T_loss: 0.02435, V_loss: 0.48117, Early stopping counter: 26 out of 50 | T_time: 00:06:36, T_speed: 0.039\n",
      "[Epoch  35] T_loss: 0.02294, V_loss: 0.80622, Early stopping counter: 27 out of 50 | T_time: 00:06:48, T_speed: 0.087\n",
      "[Epoch  36] T_loss: 0.02359, V_loss: 1.00940, Early stopping counter: 28 out of 50 | T_time: 00:06:59, T_speed: 0.039\n",
      "[Epoch  37] T_loss: 0.02631, V_loss: 0.75518, Early stopping counter: 29 out of 50 | T_time: 00:07:11, T_speed: 0.067\n",
      "[Epoch  38] T_loss: 0.02507, V_loss: 0.20603, Early stopping counter: 30 out of 50 | T_time: 00:07:23, T_speed: 0.223\n",
      "[Epoch  39] T_loss: 0.02327, V_loss: 0.17398, Early stopping counter: 31 out of 50 | T_time: 00:07:34, T_speed: 0.052\n",
      "[Epoch  40] T_loss: 0.05730, V_loss: 0.80848, Early stopping counter: 32 out of 50 | T_time: 00:07:46, T_speed: 0.054\n",
      "[Epoch  41] T_loss: 0.02767, V_loss: 1.42897, Early stopping counter: 33 out of 50 | T_time: 00:07:58, T_speed: 0.075\n",
      "[Epoch  42] T_loss: 0.02374, V_loss: 0.37540, Early stopping counter: 34 out of 50 | T_time: 00:08:10, T_speed: 0.293\n",
      "[Epoch  43] T_loss: 0.02389, V_loss: 0.11000, Early stopping counter: 35 out of 50 | T_time: 00:08:21, T_speed: 0.060\n",
      "[Epoch  44] T_loss: 0.02327, V_loss: 0.38594, Early stopping counter: 36 out of 50 | T_time: 00:08:33, T_speed: 0.187\n",
      "[Epoch  45] T_loss: 0.02411, V_loss: 0.59553, Early stopping counter: 37 out of 50 | T_time: 00:08:44, T_speed: 0.053\n",
      "[Epoch  46] T_loss: 0.02622, V_loss: 0.95328, Early stopping counter: 38 out of 50 | T_time: 00:08:56, T_speed: 0.116\n",
      "[Epoch  47] T_loss: 0.02344, V_loss: 0.72349, Early stopping counter: 39 out of 50 | T_time: 00:09:07, T_speed: 0.057\n",
      "[Epoch  48] T_loss: 0.02540, V_loss: 0.72473, Early stopping counter: 40 out of 50 | T_time: 00:09:19, T_speed: 0.142\n",
      "[Epoch  49] T_loss: 0.02293, V_loss: 0.18824, Early stopping counter: 41 out of 50 | T_time: 00:09:30, T_speed: 0.059\n",
      "[Epoch  50] T_loss: 0.02501, V_loss: 0.75003, Early stopping counter: 42 out of 50 | T_time: 00:09:42, T_speed: 0.096\n",
      "[Epoch  51] T_loss: 0.02337, V_loss: 0.40387, Early stopping counter: 43 out of 50 | T_time: 00:09:54, T_speed: 0.281\n",
      "[Epoch  52] T_loss: 0.02342, V_loss: 0.51046, Early stopping counter: 44 out of 50 | T_time: 00:10:05, T_speed: 0.065\n",
      "[Epoch  53] T_loss: 0.02260, V_loss: 0.34868, Early stopping counter: 45 out of 50 | T_time: 00:10:17, T_speed: 0.120\n",
      "[Epoch  54] T_loss: 0.02127, V_loss: 0.29104, Early stopping counter: 46 out of 50 | T_time: 00:10:29, T_speed: 0.675\n",
      "[Epoch  55] T_loss: 0.02478, V_loss: 0.92855, Early stopping counter: 47 out of 50 | T_time: 00:10:40, T_speed: 0.064\n",
      "[Epoch  56] T_loss: 0.02202, V_loss: 0.68578, Early stopping counter: 48 out of 50 | T_time: 00:10:52, T_speed: 0.166\n",
      "[Epoch  57] T_loss: 0.02565, V_loss: 0.70615, Early stopping counter: 49 out of 50 | T_time: 00:11:03, T_speed: 0.064\n",
      "[Epoch  58] T_loss: 0.02388, V_loss: 0.94293, Early stopping counter: 50 out of 50 *** TRAIN EARLY STOPPED! *** | T_time: 00:11:15, T_speed: 0.114\n",
      "Final training time: 00:11:15\n"
     ]
    },
    {
     "data": {
      "text/html": [
       "<style>\n",
       "    table.wandb td:nth-child(1) { padding: 0 10px; text-align: left ; width: auto;} td:nth-child(2) {text-align: left ; width: 100%}\n",
       "    .wandb-row { display: flex; flex-direction: row; flex-wrap: wrap; justify-content: flex-start; width: 100% }\n",
       "    .wandb-col { display: flex; flex-direction: column; flex-basis: 100%; flex: 1; padding: 10px; }\n",
       "    </style>\n",
       "<div class=\"wandb-row\"><div class=\"wandb-col\"><h3>Run history:</h3><br/><table class=\"wandb\"><tr><td>Epoch</td><td>▁▁▁▁▂▂▂▂▂▃▃▃▃▃▄▄▄▄▄▄▅▅▅▅▅▆▆▆▆▆▆▆▇▇▇▇▇▇██</td></tr><tr><td>Training loss</td><td>█▁▁▂▁▁▁▁▁▁▁▁▁▁▁▁▁▁▁▁▁▁▁▁▁▁▁▁▁▁▁▁▁▁▁▁▁▁▁▁</td></tr><tr><td>Training speed (epochs/sec.)</td><td>▁▁▁▁▁▁▁▂▁▁▁▁▁▂▁▃▂▁▁▂▁▂▁▂▁▂▂▂▄▂▂▂▂▂▂▄▂█▃▂</td></tr><tr><td>Validation loss</td><td>▂▆▄█▂▁▄▄▂▄▁▁▃▅▄▅▆▅▄▂▃▂▁▄▂▃▄▂▁▄▁▂▃▅▄▄▂▂▂▄</td></tr></table><br/></div><div class=\"wandb-col\"><h3>Run summary:</h3><br/><table class=\"wandb\"><tr><td>Epoch</td><td>58</td></tr><tr><td>Training loss</td><td>0.02388</td></tr><tr><td>Training speed (epochs/sec.)</td><td>0.11395</td></tr><tr><td>Validation loss</td><td>0.94293</td></tr></table><br/></div></div>"
      ],
      "text/plain": [
       "<IPython.core.display.HTML object>"
      ]
     },
     "metadata": {},
     "output_type": "display_data"
    },
    {
     "data": {
      "text/html": [
       " View run <strong style=\"color:#cdcd00\">2024-12-12_17-48-20</strong> at: <a href='https://wandb.ai/jaeminyu2356-korea-university-of-technology-and-education/lstm_regression_btc_krw_with_next_open/runs/l9154gug' target=\"_blank\">https://wandb.ai/jaeminyu2356-korea-university-of-technology-and-education/lstm_regression_btc_krw_with_next_open/runs/l9154gug</a><br/> View project at: <a href='https://wandb.ai/jaeminyu2356-korea-university-of-technology-and-education/lstm_regression_btc_krw_with_next_open' target=\"_blank\">https://wandb.ai/jaeminyu2356-korea-university-of-technology-and-education/lstm_regression_btc_krw_with_next_open</a><br/>Synced 5 W&B file(s), 0 media file(s), 2 artifact file(s) and 0 other file(s)"
      ],
      "text/plain": [
       "<IPython.core.display.HTML object>"
      ]
     },
     "metadata": {},
     "output_type": "display_data"
    },
    {
     "data": {
      "text/html": [
       "Find logs at: <code>./wandb/run-20241212_174820-l9154gug/logs</code>"
      ],
      "text/plain": [
       "<IPython.core.display.HTML object>"
      ]
     },
     "metadata": {},
     "output_type": "display_data"
    }
   ],
   "source": [
    "if __name__ == \"__main__\":\n",
    "    import sys\n",
    "    if 'ipykernel' in sys.modules:  # Jupyter Notebook에서 실행 중인지 확인\n",
    "        # Jupyter에서 실행할 때는 기본값 사용\n",
    "        args = Args()  # Args 클래스의 인스턴스 생성\n",
    "    else:\n",
    "        # 일반 Python 스크립트로 실행할 때는 argparse 사용\n",
    "        parser = get_parser()\n",
    "        args = parser.parse_args()\n",
    "    \n",
    "    main(args)  # main 함수 호출은 if 문 내부에 있어야 함"
   ]
  },
  {
   "cell_type": "code",
   "execution_count": null,
   "metadata": {},
   "outputs": [],
   "source": []
  }
 ],
 "metadata": {
  "kernelspec": {
   "display_name": "base",
   "language": "python",
   "name": "python3"
  },
  "language_info": {
   "codemirror_mode": {
    "name": "ipython",
    "version": 3
   },
   "file_extension": ".py",
   "mimetype": "text/x-python",
   "name": "python",
   "nbconvert_exporter": "python",
   "pygments_lexer": "ipython3",
   "version": "3.11.9"
  }
 },
 "nbformat": 4,
 "nbformat_minor": 2
}
