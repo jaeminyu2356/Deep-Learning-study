{
 "cells": [
  {
   "cell_type": "code",
   "execution_count": 6,
   "metadata": {},
   "outputs": [],
   "source": [
    "import torch\n",
    "from torch import nn, optim\n",
    "from torch.utils.data import DataLoader\n",
    "from datetime import datetime\n",
    "import os\n",
    "import wandb\n",
    "from pathlib import Path\n",
    "\n",
    "# 본 과제 제출자는 현재 우분투 도커 환경에서 작업중이므로 다음과 같이 경로 설정\n",
    "BASE_PATH=\"/home/Deep-Learning-study\"\n",
    "import sys\n",
    "sys.path.append(BASE_PATH)\n",
    "\n",
    "CURRENT_FILE_PATH = os.getcwd()\n",
    "CHECKPOINT_FILE_PATH = os.path.join(CURRENT_FILE_PATH, \"checkpoints\")\n",
    "\n",
    "if not os.path.isdir(CHECKPOINT_FILE_PATH):\n",
    "  os.makedirs(os.path.join(CURRENT_FILE_PATH, \"checkpoints\"))"
   ]
  },
  {
   "cell_type": "code",
   "execution_count": 7,
   "metadata": {},
   "outputs": [],
   "source": [
    "from _01_code._08_fcn_best_practice.c_trainer import ClassificationTrainer\n",
    "from _01_code._15_lstm_and_its_application.f_arg_parser import get_parser\n",
    "from _01_code._15_lstm_and_its_application.g_crypto_currency_regression_train_lstm import get_btc_krw_data"
   ]
  },
  {
   "cell_type": "code",
   "execution_count": 8,
   "metadata": {},
   "outputs": [],
   "source": [
    "def get_model():\n",
    "    class MyModel(nn.Module):\n",
    "        def __init__(self, n_input, n_output):\n",
    "            super().__init__()\n",
    "\n",
    "            # LSTM 레이어 정의\n",
    "            self.lstm = nn.LSTM(\n",
    "                input_size=n_input,      # 입력 특성의 수 (OHLCV: 5개)\n",
    "                hidden_size=256,         # LSTM의 은닉 상태 크기\n",
    "                num_layers=3,            # LSTM 레이어의 수 (3개의 층으로 구성)\n",
    "                batch_first=True         # 입력 텐서의 형태를 (batch, seq, feature)로 지정\n",
    "            )\n",
    "            \n",
    "            # 완전연결 레이어 정의\n",
    "            self.fcn = nn.Linear(\n",
    "                in_features=256,         # LSTM의 hidden_size와 동일\n",
    "                out_features=n_output    # 출력 클래스 수 (2: 상승/하락)\n",
    "            )\n",
    "\n",
    "        def forward(self, x):\n",
    "            # LSTM 레이어 통과\n",
    "            # x 입력 shape: (batch_size, sequence_length, n_input)\n",
    "            # hidden: (h_n, c_n) - LSTM의 최종 은닉 상태와 셀 상태\n",
    "            x, hidden = self.lstm(x)\n",
    "            \n",
    "            # 마지막 시퀀스의 출력만 선택\n",
    "            # x shape: (batch_size, sequence_length, hidden_size)\n",
    "            # x[:, -1, :] shape: (batch_size, hidden_size)\n",
    "            x = x[:, -1, :]\n",
    "            \n",
    "            # 선형 레이어를 통과시켜 클래스 점수 생성\n",
    "            # 출력 shape: (batch_size, n_output)\n",
    "            x = self.fcn(x)\n",
    "            return x  # CrossEntropyLoss를 사용할 것이므로 softmax는 여기서 적용하지 않음\n",
    "\n",
    "    # 모델 인스턴스 생성\n",
    "    my_model = MyModel(\n",
    "        n_input=5,    # 입력 특성 수 (OHLCV)\n",
    "        n_output=2    # 출력 클래스 수 (상승/하락)\n",
    "    )\n",
    "\n",
    "    return my_model"
   ]
  },
  {
   "cell_type": "code",
   "execution_count": 9,
   "metadata": {},
   "outputs": [],
   "source": [
    "def main(args):\n",
    "    # 현재 시간을 문자열로 변환 (실행 식별자로 사용)\n",
    "    run_time_str = datetime.now().astimezone().strftime('%Y-%m-%d_%H-%M-%S')\n",
    "\n",
    "    # wandb 설정을 위한 하이퍼파라미터 딕셔너리 생성\n",
    "    config = {\n",
    "        'epochs': args.epochs,                    # 총 학습 에폭 수\n",
    "        'batch_size': args.batch_size,           # 미니배치 크기\n",
    "        'validation_intervals': args.validation_intervals,  # 검증 수행 주기\n",
    "        'learning_rate': args.learning_rate,      # 학습률\n",
    "        'early_stop_patience': args.early_stop_patience,  # 조기 종료 인내 횟수\n",
    "        'early_stop_delta': args.early_stop_delta,  # 조기 종료 임계값\n",
    "        'weight_decay': args.weight_decay         # L2 정규화 강도\n",
    "    }\n",
    "\n",
    "    # wandb 프로젝트 초기화 (분류 태스크용)\n",
    "    project_name = \"lstm_classification_btc_krw\"\n",
    "    wandb.init(\n",
    "        mode=\"online\" if args.wandb else \"disabled\",  # wandb 활성화 여부\n",
    "        project=project_name,                         # 프로젝트 이름\n",
    "        notes=\"btc_krw experiment with lstm\",         # 실험 설명\n",
    "        tags=[\"lstm\", \"classification\", \"btc_krw\"],   # 관련 태그 (분류 태스크 명시)\n",
    "        name=run_time_str,                           # 실행 이름 (시간 기반)\n",
    "        config=config                                # 설정값들\n",
    "    )\n",
    "    # 설정값 출력\n",
    "    print(args)\n",
    "    print(wandb.config)\n",
    "\n",
    "    # 데이터 로더 생성 (분류 태스크용 데이터 준비)\n",
    "    train_data_loader, validation_data_loader, _ = get_btc_krw_data(is_regression=False)\n",
    "    \n",
    "    # GPU 사용 가능 여부 확인 및 디바이스 설정\n",
    "    device = torch.device(\"cuda:0\" if torch.cuda.is_available() else \"cpu\")\n",
    "    print(f\"Training on device {device}.\")\n",
    "\n",
    "    # 분류 모델 인스턴스 생성 및 지정된 디바이스로 이동\n",
    "    model = get_model()\n",
    "    model.to(device)\n",
    "\n",
    "    # Adam 옵티마이저 설정\n",
    "    optimizer = optim.Adam(\n",
    "        model.parameters(),\n",
    "        lr=wandb.config.learning_rate,      # 학습률\n",
    "        weight_decay=wandb.config.weight_decay  # L2 정규화\n",
    "    )\n",
    "\n",
    "    # 분류 학습 객체 생성\n",
    "    classification_trainer = ClassificationTrainer(\n",
    "        project_name=project_name,           # 프로젝트 이름\n",
    "        model=model,                         # 학습할 모델\n",
    "        optimizer=optimizer,                 # 옵티마이저\n",
    "        train_data_loader=train_data_loader,  # 학습 데이터 로더\n",
    "        validation_data_loader=validation_data_loader,  # 검증 데이터 로더\n",
    "        test_data_loader=None,              # 테스트 데이터 로더 (사용 안 함)\n",
    "        run_time_str=run_time_str,          # 실행 식별자\n",
    "        wandb=wandb,                        # wandb 객체\n",
    "        device=device,                      # 학습 디바이스\n",
    "        checkpoint_file_path=CHECKPOINT_FILE_PATH  # 모델 저장 경로\n",
    "    )\n",
    "    \n",
    "    # 학습 실행\n",
    "    classification_trainer.train_loop()\n",
    "\n",
    "    # wandb 실행 종료\n",
    "    wandb.finish()"
   ]
  },
  {
   "cell_type": "code",
   "execution_count": 12,
   "metadata": {},
   "outputs": [
    {
     "data": {
      "text/html": [
       "Tracking run with wandb version 0.18.5"
      ],
      "text/plain": [
       "<IPython.core.display.HTML object>"
      ]
     },
     "metadata": {},
     "output_type": "display_data"
    },
    {
     "data": {
      "text/html": [
       "Run data is saved locally in <code>/home/Deep-Learning-study/_02_homeworks/hw4/wandb/run-20241207_074902-zzit4s0t</code>"
      ],
      "text/plain": [
       "<IPython.core.display.HTML object>"
      ]
     },
     "metadata": {},
     "output_type": "display_data"
    },
    {
     "data": {
      "text/html": [
       "Syncing run <strong><a href='https://wandb.ai/jaeminyu2356-korea-university-of-technology-and-education/lstm_classification_btc_krw/runs/zzit4s0t' target=\"_blank\">2024-12-07_07-49-02</a></strong> to <a href='https://wandb.ai/jaeminyu2356-korea-university-of-technology-and-education/lstm_classification_btc_krw' target=\"_blank\">Weights & Biases</a> (<a href='https://wandb.me/run' target=\"_blank\">docs</a>)<br/>"
      ],
      "text/plain": [
       "<IPython.core.display.HTML object>"
      ]
     },
     "metadata": {},
     "output_type": "display_data"
    },
    {
     "data": {
      "text/html": [
       " View project at <a href='https://wandb.ai/jaeminyu2356-korea-university-of-technology-and-education/lstm_classification_btc_krw' target=\"_blank\">https://wandb.ai/jaeminyu2356-korea-university-of-technology-and-education/lstm_classification_btc_krw</a>"
      ],
      "text/plain": [
       "<IPython.core.display.HTML object>"
      ]
     },
     "metadata": {},
     "output_type": "display_data"
    },
    {
     "data": {
      "text/html": [
       " View run at <a href='https://wandb.ai/jaeminyu2356-korea-university-of-technology-and-education/lstm_classification_btc_krw/runs/zzit4s0t' target=\"_blank\">https://wandb.ai/jaeminyu2356-korea-university-of-technology-and-education/lstm_classification_btc_krw/runs/zzit4s0t</a>"
      ],
      "text/plain": [
       "<IPython.core.display.HTML object>"
      ]
     },
     "metadata": {},
     "output_type": "display_data"
    },
    {
     "name": "stdout",
     "output_type": "stream",
     "text": [
      "<__main__.Args object at 0x7744bb0ed4d0>\n",
      "{'epochs': 200, 'batch_size': 64, 'validation_intervals': 1, 'learning_rate': 0.0001, 'early_stop_patience': 10, 'early_stop_delta': 0.001, 'weight_decay': 1e-05}\n",
      "Training on device cuda:0.\n",
      "[Epoch   1] T_loss: 0.69205, T_accuracy: 51.8293 | V_loss: 0.69065, V_accuracy: 55.0000 | Early stopping is stated! | T_time: 00:00:00, T_speed: 0.000\n",
      "[Epoch   2] T_loss: 0.69105, T_accuracy: 53.6863 | V_loss: 0.69643, V_accuracy: 44.0000 | Early stopping counter: 1 out of 10 | T_time: 00:00:00, T_speed: 0.000\n",
      "[Epoch   3] T_loss: 0.69078, T_accuracy: 53.2982 | V_loss: 0.69525, V_accuracy: 44.0000 | Early stopping counter: 2 out of 10 | T_time: 00:00:00, T_speed: 0.000\n",
      "[Epoch   4] T_loss: 0.69145, T_accuracy: 53.2151 | V_loss: 0.69714, V_accuracy: 44.0000 | Early stopping counter: 3 out of 10 | T_time: 00:00:00, T_speed: 0.000\n",
      "[Epoch   5] T_loss: 0.69120, T_accuracy: 53.0488 | V_loss: 0.69689, V_accuracy: 44.0000 | Early stopping counter: 4 out of 10 | T_time: 00:00:00, T_speed: 0.000\n",
      "[Epoch   6] T_loss: 0.69104, T_accuracy: 53.3814 | V_loss: 0.69928, V_accuracy: 44.0000 | Early stopping counter: 5 out of 10 | T_time: 00:00:01, T_speed: 6.000\n",
      "[Epoch   7] T_loss: 0.69118, T_accuracy: 52.7439 | V_loss: 0.69512, V_accuracy: 44.0000 | Early stopping counter: 6 out of 10 | T_time: 00:00:01, T_speed: 7.000\n",
      "[Epoch   8] T_loss: 0.69103, T_accuracy: 53.1042 | V_loss: 0.69764, V_accuracy: 44.0000 | Early stopping counter: 7 out of 10 | T_time: 00:00:01, T_speed: 8.000\n",
      "[Epoch   9] T_loss: 0.69100, T_accuracy: 53.2982 | V_loss: 0.69642, V_accuracy: 44.0000 | Early stopping counter: 8 out of 10 | T_time: 00:00:01, T_speed: 9.000\n",
      "[Epoch  10] T_loss: 0.69094, T_accuracy: 53.2151 | V_loss: 0.69540, V_accuracy: 44.0000 | Early stopping counter: 9 out of 10 | T_time: 00:00:01, T_speed: 10.000\n",
      "[Epoch  11] T_loss: 0.69093, T_accuracy: 53.0765 | V_loss: 0.69543, V_accuracy: 44.0000 | Early stopping counter: 10 out of 10 *** TRAIN EARLY STOPPED! *** | T_time: 00:00:01, T_speed: 11.000\n",
      "Final training time: 00:00:01\n"
     ]
    },
    {
     "data": {
      "text/html": [
       "<style>\n",
       "    table.wandb td:nth-child(1) { padding: 0 10px; text-align: left ; width: auto;} td:nth-child(2) {text-align: left ; width: 100%}\n",
       "    .wandb-row { display: flex; flex-direction: row; flex-wrap: wrap; justify-content: flex-start; width: 100% }\n",
       "    .wandb-col { display: flex; flex-direction: column; flex-basis: 100%; flex: 1; padding: 10px; }\n",
       "    </style>\n",
       "<div class=\"wandb-row\"><div class=\"wandb-col\"><h3>Run history:</h3><br/><table class=\"wandb\"><tr><td>Epoch</td><td>▁▂▂▃▄▅▅▆▇▇█</td></tr><tr><td>Training accuracy (%)</td><td>▁█▇▆▆▇▄▆▇▆▆</td></tr><tr><td>Training loss</td><td>█▃▁▅▃▂▃▂▂▂▂</td></tr><tr><td>Training speed (epochs/sec.)</td><td>▁▁▁▁▁▅▅▆▇▇█</td></tr><tr><td>Validation accuracy (%)</td><td>█▁▁▁▁▁▁▁▁▁▁</td></tr><tr><td>Validation loss</td><td>▁▆▅▆▆█▅▇▆▅▅</td></tr></table><br/></div><div class=\"wandb-col\"><h3>Run summary:</h3><br/><table class=\"wandb\"><tr><td>Epoch</td><td>11</td></tr><tr><td>Training accuracy (%)</td><td>53.0765</td></tr><tr><td>Training loss</td><td>0.69093</td></tr><tr><td>Training speed (epochs/sec.)</td><td>11</td></tr><tr><td>Validation accuracy (%)</td><td>44</td></tr><tr><td>Validation loss</td><td>0.69543</td></tr></table><br/></div></div>"
      ],
      "text/plain": [
       "<IPython.core.display.HTML object>"
      ]
     },
     "metadata": {},
     "output_type": "display_data"
    },
    {
     "data": {
      "text/html": [
       " View run <strong style=\"color:#cdcd00\">2024-12-07_07-49-02</strong> at: <a href='https://wandb.ai/jaeminyu2356-korea-university-of-technology-and-education/lstm_classification_btc_krw/runs/zzit4s0t' target=\"_blank\">https://wandb.ai/jaeminyu2356-korea-university-of-technology-and-education/lstm_classification_btc_krw/runs/zzit4s0t</a><br/> View project at: <a href='https://wandb.ai/jaeminyu2356-korea-university-of-technology-and-education/lstm_classification_btc_krw' target=\"_blank\">https://wandb.ai/jaeminyu2356-korea-university-of-technology-and-education/lstm_classification_btc_krw</a><br/>Synced 5 W&B file(s), 0 media file(s), 0 artifact file(s) and 0 other file(s)"
      ],
      "text/plain": [
       "<IPython.core.display.HTML object>"
      ]
     },
     "metadata": {},
     "output_type": "display_data"
    },
    {
     "data": {
      "text/html": [
       "Find logs at: <code>./wandb/run-20241207_074902-zzit4s0t/logs</code>"
      ],
      "text/plain": [
       "<IPython.core.display.HTML object>"
      ]
     },
     "metadata": {},
     "output_type": "display_data"
    }
   ],
   "source": [
    "if __name__ == \"__main__\":\n",
    "    import sys\n",
    "    if 'ipykernel' in sys.modules:  # Jupyter Notebook에서 실행 중인지 확인\n",
    "        # Jupyter에서 실행할 때는 기본값 사용\n",
    "        class Args:\n",
    "            def __init__(self):\n",
    "                self.wandb = True\n",
    "                self.batch_size = 64\n",
    "                self.epochs = 200\n",
    "                self.learning_rate = 0.0001\n",
    "                self.weight_decay = 0.00001\n",
    "                self.validation_intervals = 1\n",
    "                self.early_stop_patience = 10\n",
    "                self.early_stop_delta = 0.001\n",
    "        args = Args()\n",
    "    else:\n",
    "        # 일반 Python 스크립트로 실행할 때는 argparse 사용\n",
    "        parser = get_parser()\n",
    "        args = parser.parse_args()\n",
    "    \n",
    "    main(args)"
   ]
  },
  {
   "cell_type": "code",
   "execution_count": null,
   "metadata": {},
   "outputs": [],
   "source": []
  }
 ],
 "metadata": {
  "kernelspec": {
   "display_name": "base",
   "language": "python",
   "name": "python3"
  },
  "language_info": {
   "codemirror_mode": {
    "name": "ipython",
    "version": 3
   },
   "file_extension": ".py",
   "mimetype": "text/x-python",
   "name": "python",
   "nbconvert_exporter": "python",
   "pygments_lexer": "ipython3",
   "version": "3.11.9"
  }
 },
 "nbformat": 4,
 "nbformat_minor": 2
}
