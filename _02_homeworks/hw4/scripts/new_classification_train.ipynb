{
 "cells": [
  {
   "cell_type": "code",
   "execution_count": 12,
   "metadata": {},
   "outputs": [],
   "source": [
    "import torch\n",
    "from torch import nn, optim\n",
    "from torch.utils.data import DataLoader\n",
    "from datetime import datetime\n",
    "import os\n",
    "import wandb\n",
    "from pathlib import Path\n",
    "\n",
    "# 본 과제 제출자는 현재 우분투 도커 환경에서 작업중이므로 다음과 같이 경로 설정\n",
    "BASE_PATH=\"/home/Deep-Learning-study\"\n",
    "import sys\n",
    "sys.path.append(BASE_PATH)\n",
    "\n",
    "CURRENT_FILE_PATH = os.getcwd()\n",
    "CHECKPOINT_FILE_PATH = os.path.join(CURRENT_FILE_PATH, \"checkpoints\")\n",
    "\n",
    "if not os.path.isdir(CHECKPOINT_FILE_PATH):\n",
    "  os.makedirs(os.path.join(CURRENT_FILE_PATH, \"checkpoints\"))"
   ]
  },
  {
   "cell_type": "code",
   "execution_count": 13,
   "metadata": {},
   "outputs": [],
   "source": [
    "from _01_code._08_fcn_best_practice.c_trainer import ClassificationTrainer\n",
    "from _01_code._15_lstm_and_its_application.f_arg_parser import get_parser\n",
    "from _01_code._15_lstm_and_its_application.g_crypto_currency_regression_train_lstm import get_btc_krw_data"
   ]
  },
  {
   "cell_type": "code",
   "execution_count": 14,
   "metadata": {},
   "outputs": [],
   "source": [
    "def get_model():\n",
    "    class MyModel(nn.Module):\n",
    "        def __init__(self, n_input, n_output):\n",
    "            super().__init__()\n",
    "            \n",
    "            # 메인 LSTM 레이어\n",
    "            self.lstm = nn.LSTM(\n",
    "                input_size=n_input,\n",
    "                hidden_size=1024,  # hidden size 증가\n",
    "                num_layers=3,      # 3개의 layer\n",
    "                dropout=0.1,       # dropout 추가\n",
    "                batch_first=True,\n",
    "                bidirectional=True # 양방향 LSTM\n",
    "            )\n",
    "            \n",
    "            # 분류를 위한 FC 레이어\n",
    "            self.fc_layers = nn.Sequential(\n",
    "                nn.LayerNorm(2048),  # bidirectional이므로 hidden_size * 2\n",
    "                nn.Linear(2048, 512),\n",
    "                nn.GELU(),\n",
    "                nn.Dropout(0.1),\n",
    "                \n",
    "                nn.LayerNorm(512),\n",
    "                nn.Linear(512, 128),\n",
    "                nn.GELU(),\n",
    "                nn.Dropout(0.1),\n",
    "                \n",
    "                nn.LayerNorm(128),\n",
    "                nn.Linear(128, n_output),  # n_output=2 for binary classification\n",
    "            )\n",
    "\n",
    "        def forward(self, x):\n",
    "            self.lstm.flatten_parameters()  # CUDA 성능 최적화\n",
    "            x, _ = self.lstm(x)\n",
    "            x = x[:, -1, :]  # 마지막 시퀀스의 출력만 사용\n",
    "            x = self.fc_layers(x)\n",
    "            return x  # CrossEntropyLoss를 사용할 것이므로 softmax는 여기서 적용하지 않음\n",
    "\n",
    "    my_model = MyModel(n_input=5, n_output=2)\n",
    "    return my_model\n",
    "\n",
    "# Args 클래스도 classification task에 맞게 수정\n",
    "class Args:\n",
    "    def __init__(self):\n",
    "        self.wandb = True\n",
    "        self.batch_size = 32       # classification은 regression보다 큰 배치 사이즈가 효과적일 수 있음\n",
    "        self.epochs = 300\n",
    "        self.learning_rate = 1e-3  # classification은 보통 더 큰 학습률 사용\n",
    "        self.weight_decay = 1e-4\n",
    "        self.validation_intervals = 1\n",
    "        self.early_stop_patience = 30\n",
    "        self.early_stop_delta = 1e-4"
   ]
  },
  {
   "cell_type": "code",
   "execution_count": 15,
   "metadata": {},
   "outputs": [],
   "source": [
    "def main(args):\n",
    "  run_time_str = datetime.now().astimezone().strftime('%Y-%m-%d_%H-%M-%S')\n",
    "\n",
    "  config = {\n",
    "    'epochs': args.epochs,\n",
    "    'batch_size': args.batch_size,\n",
    "    'validation_intervals': args.validation_intervals,\n",
    "    'learning_rate': args.learning_rate,\n",
    "    'early_stop_patience': args.early_stop_patience,\n",
    "    'early_stop_delta': args.early_stop_delta,\n",
    "    'weight_decay': args.weight_decay\n",
    "  }\n",
    "\n",
    "  project_name = \"lstm_classification_btc_krw\"\n",
    "  wandb.init(\n",
    "    mode=\"online\" if args.wandb else \"disabled\",\n",
    "    project=project_name,\n",
    "    notes=\"btc_krw experiment with lstm\",\n",
    "    tags=[\"lstm\", \"classification\", \"btc_krw\"],\n",
    "    name=run_time_str,\n",
    "    config=config\n",
    "  )\n",
    "  print(args)\n",
    "  print(wandb.config)\n",
    "\n",
    "  train_data_loader, validation_data_loader, _ = get_btc_krw_data(is_regression=False)\n",
    "  device = torch.device(\"cuda:0\" if torch.cuda.is_available() else \"cpu\")\n",
    "  print(f\"Training on device {device}.\")\n",
    "\n",
    "  model = get_model()\n",
    "  model.to(device)\n",
    "\n",
    "  optimizer = optim.Adam(model.parameters(), lr=wandb.config.learning_rate, weight_decay=wandb.config.weight_decay)\n",
    "\n",
    "  classification_trainer = ClassificationTrainer(\n",
    "    project_name, model, optimizer, train_data_loader, validation_data_loader, None,\n",
    "    run_time_str, wandb, device, CHECKPOINT_FILE_PATH\n",
    "  )\n",
    "  classification_trainer.train_loop()\n",
    "\n",
    "  wandb.finish()"
   ]
  },
  {
   "cell_type": "code",
   "execution_count": 16,
   "metadata": {},
   "outputs": [
    {
     "data": {
      "text/html": [
       "Tracking run with wandb version 0.18.5"
      ],
      "text/plain": [
       "<IPython.core.display.HTML object>"
      ]
     },
     "metadata": {},
     "output_type": "display_data"
    },
    {
     "data": {
      "text/html": [
       "Run data is saved locally in <code>/home/Deep-Learning-study/_02_homeworks/hw4/wandb/run-20241212_154114-nwj631jn</code>"
      ],
      "text/plain": [
       "<IPython.core.display.HTML object>"
      ]
     },
     "metadata": {},
     "output_type": "display_data"
    },
    {
     "data": {
      "text/html": [
       "Syncing run <strong><a href='https://wandb.ai/jaeminyu2356-korea-university-of-technology-and-education/lstm_classification_btc_krw/runs/nwj631jn' target=\"_blank\">2024-12-12_15-41-14</a></strong> to <a href='https://wandb.ai/jaeminyu2356-korea-university-of-technology-and-education/lstm_classification_btc_krw' target=\"_blank\">Weights & Biases</a> (<a href='https://wandb.me/run' target=\"_blank\">docs</a>)<br/>"
      ],
      "text/plain": [
       "<IPython.core.display.HTML object>"
      ]
     },
     "metadata": {},
     "output_type": "display_data"
    },
    {
     "data": {
      "text/html": [
       " View project at <a href='https://wandb.ai/jaeminyu2356-korea-university-of-technology-and-education/lstm_classification_btc_krw' target=\"_blank\">https://wandb.ai/jaeminyu2356-korea-university-of-technology-and-education/lstm_classification_btc_krw</a>"
      ],
      "text/plain": [
       "<IPython.core.display.HTML object>"
      ]
     },
     "metadata": {},
     "output_type": "display_data"
    },
    {
     "data": {
      "text/html": [
       " View run at <a href='https://wandb.ai/jaeminyu2356-korea-university-of-technology-and-education/lstm_classification_btc_krw/runs/nwj631jn' target=\"_blank\">https://wandb.ai/jaeminyu2356-korea-university-of-technology-and-education/lstm_classification_btc_krw/runs/nwj631jn</a>"
      ],
      "text/plain": [
       "<IPython.core.display.HTML object>"
      ]
     },
     "metadata": {},
     "output_type": "display_data"
    },
    {
     "name": "stdout",
     "output_type": "stream",
     "text": [
      "<__main__.Args object at 0x73eff099a0d0>\n",
      "{'epochs': 300, 'batch_size': 32, 'validation_intervals': 1, 'learning_rate': 0.001, 'early_stop_patience': 30, 'early_stop_delta': 0.0001, 'weight_decay': 0.0001}\n",
      "Training on device cuda:0.\n",
      "[Epoch   1] T_loss: 0.72452, T_accuracy: 49.6674 | V_loss: 0.68978, V_accuracy: 56.0000 | Early stopping is stated! | T_time: 00:00:05, T_speed: 0.200\n",
      "[Epoch   2] T_loss: 0.69513, T_accuracy: 52.6330 | V_loss: 0.68879, V_accuracy: 56.0000 | V_loss decreased (0.68978 --> 0.68879). Saving model... | T_time: 00:00:10, T_speed: 0.200\n",
      "[Epoch   3] T_loss: 0.69390, T_accuracy: 51.4412 | V_loss: 0.69987, V_accuracy: 56.0000 | Early stopping counter: 1 out of 30 | T_time: 00:00:18, T_speed: 0.167\n",
      "[Epoch   4] T_loss: 0.69859, T_accuracy: 50.5820 | V_loss: 0.69315, V_accuracy: 44.0000 | Early stopping counter: 2 out of 30 | T_time: 00:00:23, T_speed: 0.174\n",
      "[Epoch   5] T_loss: 0.69406, T_accuracy: 51.3581 | V_loss: 0.68454, V_accuracy: 56.0000 | V_loss decreased (0.68879 --> 0.68454). Saving model... | T_time: 00:00:28, T_speed: 0.179\n",
      "[Epoch   6] T_loss: 0.69691, T_accuracy: 51.3304 | V_loss: 0.71235, V_accuracy: 44.0000 | Early stopping counter: 1 out of 30 | T_time: 00:00:37, T_speed: 0.162\n",
      "[Epoch   7] T_loss: 0.69623, T_accuracy: 51.6353 | V_loss: 0.69674, V_accuracy: 44.0000 | Early stopping counter: 2 out of 30 | T_time: 00:00:42, T_speed: 0.167\n",
      "[Epoch   8] T_loss: 0.69829, T_accuracy: 52.3282 | V_loss: 0.69820, V_accuracy: 56.0000 | Early stopping counter: 3 out of 30 | T_time: 00:00:48, T_speed: 0.167\n",
      "[Epoch   9] T_loss: 0.69338, T_accuracy: 51.6907 | V_loss: 0.68878, V_accuracy: 56.0000 | Early stopping counter: 4 out of 30 | T_time: 00:00:53, T_speed: 0.170\n",
      "[Epoch  10] T_loss: 0.69269, T_accuracy: 51.1086 | V_loss: 0.69622, V_accuracy: 56.0000 | Early stopping counter: 5 out of 30 | T_time: 00:00:58, T_speed: 0.172\n",
      "[Epoch  11] T_loss: 0.69324, T_accuracy: 51.6907 | V_loss: 0.69317, V_accuracy: 56.0000 | Early stopping counter: 6 out of 30 | T_time: 00:01:04, T_speed: 0.172\n",
      "[Epoch  12] T_loss: 0.69317, T_accuracy: 51.3581 | V_loss: 0.70298, V_accuracy: 56.0000 | Early stopping counter: 7 out of 30 | T_time: 00:01:09, T_speed: 0.174\n",
      "[Epoch  13] T_loss: 0.69262, T_accuracy: 51.9124 | V_loss: 0.71330, V_accuracy: 56.0000 | Early stopping counter: 8 out of 30 | T_time: 00:01:15, T_speed: 0.173\n",
      "[Epoch  14] T_loss: 0.69263, T_accuracy: 52.4945 | V_loss: 0.67574, V_accuracy: 56.0000 | V_loss decreased (0.68454 --> 0.67574). Saving model... | T_time: 00:01:20, T_speed: 0.175\n",
      "[Epoch  15] T_loss: 0.69363, T_accuracy: 51.6353 | V_loss: 0.70138, V_accuracy: 44.0000 | Early stopping counter: 1 out of 30 | T_time: 00:01:29, T_speed: 0.169\n",
      "[Epoch  16] T_loss: 0.69685, T_accuracy: 50.4435 | V_loss: 0.68885, V_accuracy: 56.0000 | Early stopping counter: 2 out of 30 | T_time: 00:01:34, T_speed: 0.170\n",
      "[Epoch  17] T_loss: 0.69314, T_accuracy: 52.5776 | V_loss: 0.69876, V_accuracy: 56.0000 | Early stopping counter: 3 out of 30 | T_time: 00:01:40, T_speed: 0.170\n",
      "[Epoch  18] T_loss: 0.69410, T_accuracy: 52.0510 | V_loss: 0.69265, V_accuracy: 56.0000 | Early stopping counter: 4 out of 30 | T_time: 00:01:45, T_speed: 0.171\n",
      "[Epoch  19] T_loss: 0.69270, T_accuracy: 51.7738 | V_loss: 0.69490, V_accuracy: 44.0000 | Early stopping counter: 5 out of 30 | T_time: 00:01:51, T_speed: 0.171\n",
      "[Epoch  20] T_loss: 0.69227, T_accuracy: 51.8016 | V_loss: 0.69123, V_accuracy: 56.0000 | Early stopping counter: 6 out of 30 | T_time: 00:01:56, T_speed: 0.172\n",
      "[Epoch  21] T_loss: 0.69353, T_accuracy: 50.9701 | V_loss: 0.68893, V_accuracy: 56.0000 | Early stopping counter: 7 out of 30 | T_time: 00:02:02, T_speed: 0.172\n",
      "[Epoch  22] T_loss: 0.69200, T_accuracy: 52.6608 | V_loss: 0.69011, V_accuracy: 56.0000 | Early stopping counter: 8 out of 30 | T_time: 00:02:07, T_speed: 0.173\n",
      "[Epoch  23] T_loss: 0.69323, T_accuracy: 51.5244 | V_loss: 0.69174, V_accuracy: 56.0000 | Early stopping counter: 9 out of 30 | T_time: 00:02:12, T_speed: 0.174\n",
      "[Epoch  24] T_loss: 0.69238, T_accuracy: 52.4667 | V_loss: 0.69073, V_accuracy: 56.0000 | Early stopping counter: 10 out of 30 | T_time: 00:02:18, T_speed: 0.174\n",
      "[Epoch  25] T_loss: 0.69348, T_accuracy: 52.0510 | V_loss: 0.69035, V_accuracy: 56.0000 | Early stopping counter: 11 out of 30 | T_time: 00:02:23, T_speed: 0.175\n",
      "[Epoch  26] T_loss: 0.69281, T_accuracy: 52.2450 | V_loss: 0.69643, V_accuracy: 56.0000 | Early stopping counter: 12 out of 30 | T_time: 00:02:28, T_speed: 0.176\n",
      "[Epoch  27] T_loss: 0.69206, T_accuracy: 51.8570 | V_loss: 0.67674, V_accuracy: 56.0000 | Early stopping counter: 13 out of 30 | T_time: 00:02:34, T_speed: 0.175\n",
      "[Epoch  28] T_loss: 0.69263, T_accuracy: 52.6608 | V_loss: 0.68916, V_accuracy: 56.0000 | Early stopping counter: 14 out of 30 | T_time: 00:02:39, T_speed: 0.176\n",
      "[Epoch  29] T_loss: 0.69259, T_accuracy: 52.5222 | V_loss: 0.69516, V_accuracy: 56.0000 | Early stopping counter: 15 out of 30 | T_time: 00:02:44, T_speed: 0.177\n",
      "[Epoch  30] T_loss: 0.69223, T_accuracy: 52.6885 | V_loss: 0.68876, V_accuracy: 56.0000 | Early stopping counter: 16 out of 30 | T_time: 00:02:50, T_speed: 0.176\n",
      "[Epoch  31] T_loss: 0.69283, T_accuracy: 52.7993 | V_loss: 0.68277, V_accuracy: 56.0000 | Early stopping counter: 17 out of 30 | T_time: 00:02:55, T_speed: 0.177\n",
      "[Epoch  32] T_loss: 0.69133, T_accuracy: 52.5499 | V_loss: 0.67759, V_accuracy: 56.0000 | Early stopping counter: 18 out of 30 | T_time: 00:03:00, T_speed: 0.178\n",
      "[Epoch  33] T_loss: 0.69237, T_accuracy: 52.8271 | V_loss: 0.68933, V_accuracy: 56.0000 | Early stopping counter: 19 out of 30 | T_time: 00:03:06, T_speed: 0.177\n",
      "[Epoch  34] T_loss: 0.69250, T_accuracy: 52.7993 | V_loss: 0.69025, V_accuracy: 56.0000 | Early stopping counter: 20 out of 30 | T_time: 00:03:11, T_speed: 0.178\n",
      "[Epoch  35] T_loss: 0.69221, T_accuracy: 52.6330 | V_loss: 0.69688, V_accuracy: 56.0000 | Early stopping counter: 21 out of 30 | T_time: 00:03:16, T_speed: 0.179\n",
      "[Epoch  36] T_loss: 0.69215, T_accuracy: 52.4945 | V_loss: 0.68650, V_accuracy: 56.0000 | Early stopping counter: 22 out of 30 | T_time: 00:03:22, T_speed: 0.178\n",
      "[Epoch  37] T_loss: 0.69225, T_accuracy: 52.7993 | V_loss: 0.70104, V_accuracy: 56.0000 | Early stopping counter: 23 out of 30 | T_time: 00:03:27, T_speed: 0.179\n",
      "[Epoch  38] T_loss: 0.69241, T_accuracy: 52.8271 | V_loss: 0.68100, V_accuracy: 56.0000 | Early stopping counter: 24 out of 30 | T_time: 00:03:33, T_speed: 0.178\n",
      "[Epoch  39] T_loss: 0.69242, T_accuracy: 52.6053 | V_loss: 0.68791, V_accuracy: 56.0000 | Early stopping counter: 25 out of 30 | T_time: 00:03:38, T_speed: 0.179\n",
      "[Epoch  40] T_loss: 0.69203, T_accuracy: 52.7993 | V_loss: 0.68937, V_accuracy: 56.0000 | Early stopping counter: 26 out of 30 | T_time: 00:03:44, T_speed: 0.179\n",
      "[Epoch  41] T_loss: 0.69217, T_accuracy: 52.2173 | V_loss: 0.69100, V_accuracy: 56.0000 | Early stopping counter: 27 out of 30 | T_time: 00:03:49, T_speed: 0.179\n",
      "[Epoch  42] T_loss: 0.69195, T_accuracy: 52.7439 | V_loss: 0.70449, V_accuracy: 56.0000 | Early stopping counter: 28 out of 30 | T_time: 00:03:54, T_speed: 0.179\n",
      "[Epoch  43] T_loss: 0.69211, T_accuracy: 52.5776 | V_loss: 0.68652, V_accuracy: 56.0000 | Early stopping counter: 29 out of 30 | T_time: 00:04:00, T_speed: 0.179\n",
      "[Epoch  44] T_loss: 0.69238, T_accuracy: 52.7716 | V_loss: 0.68135, V_accuracy: 56.0000 | Early stopping counter: 30 out of 30 *** TRAIN EARLY STOPPED! *** | T_time: 00:04:05, T_speed: 0.180\n",
      "Final training time: 00:04:05\n"
     ]
    },
    {
     "data": {
      "text/html": [
       "<style>\n",
       "    table.wandb td:nth-child(1) { padding: 0 10px; text-align: left ; width: auto;} td:nth-child(2) {text-align: left ; width: 100%}\n",
       "    .wandb-row { display: flex; flex-direction: row; flex-wrap: wrap; justify-content: flex-start; width: 100% }\n",
       "    .wandb-col { display: flex; flex-direction: column; flex-basis: 100%; flex: 1; padding: 10px; }\n",
       "    </style>\n",
       "<div class=\"wandb-row\"><div class=\"wandb-col\"><h3>Run history:</h3><br/><table class=\"wandb\"><tr><td>Epoch</td><td>▁▁▁▁▂▂▂▂▂▂▃▃▃▃▃▄▄▄▄▄▅▅▅▅▅▅▆▆▆▆▆▇▇▇▇▇▇███</td></tr><tr><td>Training accuracy (%)</td><td>▁█▅▃▅▅▅▇▅▄▅▆▇▅▃▇▆▆▆▄▅▇▆▇▆█▇██▇██▇████▇██</td></tr><tr><td>Training loss</td><td>█▂▂▃▂▂▂▂▁▁▁▁▁▁▂▁▂▁▁▁▁▁▁▁▁▁▁▁▁▁▁▁▁▁▁▁▁▁▁▁</td></tr><tr><td>Training speed (epochs/sec.)</td><td>██▂▃▄▁▂▂▂▃▃▃▃▂▂▂▃▃▃▃▃▃▃▄▃▄▄▄▄▄▄▄▄▄▄▄▄▄▄▄</td></tr><tr><td>Validation accuracy (%)</td><td>███▁█▁▁██████▁███▁██████████████████████</td></tr><tr><td>Validation loss</td><td>▄▃▅▄▃█▅▅▃▅▆█▁▆▃▅▄▅▄▃▄▄▄▅▁▃▅▃▂▁▄▅▃▆▂▃▄▄▆▂</td></tr></table><br/></div><div class=\"wandb-col\"><h3>Run summary:</h3><br/><table class=\"wandb\"><tr><td>Epoch</td><td>44</td></tr><tr><td>Training accuracy (%)</td><td>52.77162</td></tr><tr><td>Training loss</td><td>0.69238</td></tr><tr><td>Training speed (epochs/sec.)</td><td>0.17959</td></tr><tr><td>Validation accuracy (%)</td><td>56</td></tr><tr><td>Validation loss</td><td>0.68135</td></tr></table><br/></div></div>"
      ],
      "text/plain": [
       "<IPython.core.display.HTML object>"
      ]
     },
     "metadata": {},
     "output_type": "display_data"
    },
    {
     "data": {
      "text/html": [
       " View run <strong style=\"color:#cdcd00\">2024-12-12_15-41-14</strong> at: <a href='https://wandb.ai/jaeminyu2356-korea-university-of-technology-and-education/lstm_classification_btc_krw/runs/nwj631jn' target=\"_blank\">https://wandb.ai/jaeminyu2356-korea-university-of-technology-and-education/lstm_classification_btc_krw/runs/nwj631jn</a><br/> View project at: <a href='https://wandb.ai/jaeminyu2356-korea-university-of-technology-and-education/lstm_classification_btc_krw' target=\"_blank\">https://wandb.ai/jaeminyu2356-korea-university-of-technology-and-education/lstm_classification_btc_krw</a><br/>Synced 5 W&B file(s), 0 media file(s), 0 artifact file(s) and 0 other file(s)"
      ],
      "text/plain": [
       "<IPython.core.display.HTML object>"
      ]
     },
     "metadata": {},
     "output_type": "display_data"
    },
    {
     "data": {
      "text/html": [
       "Find logs at: <code>./wandb/run-20241212_154114-nwj631jn/logs</code>"
      ],
      "text/plain": [
       "<IPython.core.display.HTML object>"
      ]
     },
     "metadata": {},
     "output_type": "display_data"
    }
   ],
   "source": [
    "if __name__ == \"__main__\":\n",
    "    import sys\n",
    "    if 'ipykernel' in sys.modules:  # Jupyter Notebook에서 실행 중인지 확인\n",
    "        # Jupyter에서 실행할 때는 기본값 사용\n",
    "        args = Args()\n",
    "    else:\n",
    "        # 일반 Python 스크립트로 실행할 때는 argparse 사용\n",
    "        parser = get_parser()\n",
    "        args = parser.parse_args()\n",
    "    \n",
    "    main(args)"
   ]
  },
  {
   "cell_type": "code",
   "execution_count": null,
   "metadata": {},
   "outputs": [],
   "source": []
  }
 ],
 "metadata": {
  "kernelspec": {
   "display_name": "base",
   "language": "python",
   "name": "python3"
  },
  "language_info": {
   "codemirror_mode": {
    "name": "ipython",
    "version": 3
   },
   "file_extension": ".py",
   "mimetype": "text/x-python",
   "name": "python",
   "nbconvert_exporter": "python",
   "pygments_lexer": "ipython3",
   "version": "3.11.9"
  }
 },
 "nbformat": 4,
 "nbformat_minor": 2
}
