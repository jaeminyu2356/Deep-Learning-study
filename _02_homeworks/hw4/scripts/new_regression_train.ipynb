{
 "cells": [
  {
   "cell_type": "code",
   "execution_count": 22,
   "metadata": {},
   "outputs": [],
   "source": [
    "import torch\n",
    "from torch import nn, optim\n",
    "from torch.utils.data import DataLoader\n",
    "from datetime import datetime\n",
    "import os\n",
    "import wandb\n",
    "from pathlib import Path\n",
    "\n",
    "# 본 과제 제출자는 현재 우분투 도커 환경에서 작업중이므로 다음과 같이 경로 설정\n",
    "BASE_PATH=\"/home/Deep-Learning-study\"\n",
    "import sys\n",
    "sys.path.append(BASE_PATH)\n",
    "\n",
    "CURRENT_FILE_PATH = os.getcwd()\n",
    "CHECKPOINT_FILE_PATH = os.path.join(CURRENT_FILE_PATH, \"checkpoints\")\n",
    "\n",
    "if not os.path.isdir(CHECKPOINT_FILE_PATH):\n",
    "  os.makedirs(os.path.join(CURRENT_FILE_PATH, \"checkpoints\"))"
   ]
  },
  {
   "cell_type": "code",
   "execution_count": 23,
   "metadata": {},
   "outputs": [],
   "source": [
    "from _01_code._15_lstm_and_its_application.f_arg_parser import get_parser\n",
    "from _01_code._14_rnn.g_rnn_trainer import RegressionTrainer\n",
    "from _01_code._03_real_world_data_to_tensors.p_cryptocurrency_dataset_dataloader import get_cryptocurrency_data, \\\n",
    "  CryptoCurrencyDataset"
   ]
  },
  {
   "cell_type": "code",
   "execution_count": 24,
   "metadata": {},
   "outputs": [],
   "source": [
    "def get_btc_krw_data(sequence_size=10, validation_size=100, test_size=10, is_regression=True):\n",
    "    # 비트코인 데이터 로드 및 전처리\n",
    "    # X: 입력 특성 (OHLCV), y: 타겟값 (다음 날 종가), date: 날짜 정보\n",
    "    X_train, X_validation, X_test, y_train, y_validation, y_test, y_train_date, y_validation_date, y_test_date \\\n",
    "        = get_cryptocurrency_data(\n",
    "            sequence_size=sequence_size,        # LSTM에 입력될 시퀀스 길이\n",
    "            validation_size=validation_size,    # 검증 데이터셋 크기\n",
    "            test_size=test_size,               # 테스트 데이터셋 크기\n",
    "            target_column='Close',             # 예측할 대상 컬럼 (종가)\n",
    "            y_normalizer=1.0e7,                # 타겟값 정규화를 위한 스케일링 계수\n",
    "            is_regression=is_regression         # True: 회귀, False: 분류\n",
    "        )\n",
    "\n",
    "    # PyTorch Dataset 객체 생성\n",
    "    # 각 데이터셋을 PyTorch에서 사용할 수 있는 형태로 변환\n",
    "    train_crypto_currency_dataset = CryptoCurrencyDataset(X=X_train, y=y_train)\n",
    "    validation_crypto_currency_dataset = CryptoCurrencyDataset(X=X_validation, y=y_validation)\n",
    "    test_crypto_currency_dataset = CryptoCurrencyDataset(X=X_test, y=y_test)\n",
    "\n",
    "    # DataLoader 생성\n",
    "    # 학습 데이터 로더: 미니배치 단위로 데이터를 제공\n",
    "    train_data_loader = DataLoader(\n",
    "        dataset=train_crypto_currency_dataset, \n",
    "        batch_size=wandb.config.batch_size,    # wandb에 설정된 배치 크기 사용\n",
    "        shuffle=True                           # 에폭마다 데이터 순서를 섞음\n",
    "    )\n",
    "    \n",
    "    # 검증 데이터 로더: 모델 성능 평가용\n",
    "    validation_data_loader = DataLoader(\n",
    "        dataset=validation_crypto_currency_dataset, \n",
    "        batch_size=wandb.config.batch_size,    # 학습과 동일한 배치 크기 사용\n",
    "        shuffle=True                           # 검증 데이터도 섞어서 사용\n",
    "    )\n",
    "    \n",
    "    # 테스트 데이터 로더: 최종 성능 평가용\n",
    "    test_data_loader = DataLoader(\n",
    "        dataset=test_crypto_currency_dataset,\n",
    "        batch_size=len(test_crypto_currency_dataset),  # 테스트는 전체 데이터를 한 번에 처리\n",
    "        shuffle=True                                   # 테스트 데이터도 섞어서 사용\n",
    "    )\n",
    "\n",
    "    return train_data_loader, validation_data_loader, test_data_loader"
   ]
  },
  {
   "cell_type": "code",
   "execution_count": 31,
   "metadata": {},
   "outputs": [],
   "source": [
    "def get_model():\n",
    "    class MyModel(nn.Module):\n",
    "        def __init__(self, n_input, n_output):\n",
    "            super().__init__()\n",
    "            \n",
    "            # 단일 LSTM으로 변경하고 hidden size 증가\n",
    "            self.lstm = nn.LSTM(\n",
    "                input_size=n_input,\n",
    "                hidden_size=1024,  # hidden size 대폭 증가\n",
    "                num_layers=3,      # layer 수 증가\n",
    "                dropout=0.1,       # dropout 감소\n",
    "                batch_first=True,\n",
    "                bidirectional=True # 양방향 LSTM 사용\n",
    "            )\n",
    "            \n",
    "            # FC 레이어 단순화\n",
    "            self.fc_layers = nn.Sequential(\n",
    "                nn.LayerNorm(2048),  # bidirectional이므로 hidden_size * 2\n",
    "                nn.Linear(2048, 512),\n",
    "                nn.GELU(),           # GELU 활성화 함수 사용\n",
    "                nn.Dropout(0.1),\n",
    "                \n",
    "                nn.LayerNorm(512),\n",
    "                nn.Linear(512, n_output)\n",
    "            )\n",
    "\n",
    "        def forward(self, x):\n",
    "            self.lstm.flatten_parameters()  # CUDA 성능 최적화\n",
    "            x, _ = self.lstm(x)\n",
    "            x = x[:, -1, :]  # 마지막 시퀀스의 출력만 사용\n",
    "            x = self.fc_layers(x)\n",
    "            return x\n",
    "\n",
    "    my_model = MyModel(n_input=5, n_output=1)\n",
    "    return my_model\n",
    "\n",
    "class Args:\n",
    "    def __init__(self):\n",
    "        self.wandb = True\n",
    "        self.batch_size = 16       # 배치 사이즈 감소\n",
    "        self.epochs = 500          # epoch 증가\n",
    "        self.learning_rate = 5e-4  # 학습률 조정\n",
    "        self.weight_decay = 1e-5   # weight decay 감소\n",
    "        self.validation_intervals = 1\n",
    "        self.early_stop_patience = 50  # patience 증가\n",
    "        self.early_stop_delta = 1e-6   # delta 감소"
   ]
  },
  {
   "cell_type": "code",
   "execution_count": 32,
   "metadata": {},
   "outputs": [],
   "source": [
    "def main(args):\n",
    "    # 현재 시간을 문자열로 변환 (실행 식별자로 사용)\n",
    "    run_time_str = datetime.now().astimezone().strftime('%Y-%m-%d_%H-%M-%S')\n",
    "\n",
    "    # wandb 설정을 위한 하이퍼파라미터 딕셔너리 생성\n",
    "    config = {\n",
    "        'epochs': args.epochs,                    # 총 학습 에폭 수\n",
    "        'batch_size': args.batch_size,           # 미니배치 크기\n",
    "        'validation_intervals': args.validation_intervals,  # 검증 수행 주기\n",
    "        'learning_rate': args.learning_rate,      # 학습률\n",
    "        'early_stop_patience': args.early_stop_patience,  # 조기 종료 인내 횟수\n",
    "        'early_stop_delta': args.early_stop_delta,  # 조기 종료 임계값\n",
    "        'weight_decay': args.weight_decay         # L2 정규화 강도\n",
    "    }\n",
    "\n",
    "    # wandb 프로젝트 초기화\n",
    "    project_name = \"lstm_regression_btc_krw\"\n",
    "    wandb.init(\n",
    "        mode=\"online\" if args.wandb else \"disabled\",  # wandb 활성화 여부\n",
    "        project=project_name,                         # 프로젝트 이름\n",
    "        notes=\"btc_krw experiment with lstm\",         # 실험 설명\n",
    "        tags=[\"lstm\", \"regression\", \"btc_krw\"],       # 관련 태그\n",
    "        name=run_time_str,                           # 실행 이름 (시간 기반)\n",
    "        config=config                                # 설정값들\n",
    "    )\n",
    "    # 설정값 출력\n",
    "    print(args)\n",
    "    print(wandb.config)\n",
    "\n",
    "    # 데이터 로더 생성 (테스트 데이터 로더는 현재 사용하지 않음)\n",
    "    train_data_loader, validation_data_loader, _ = get_btc_krw_data()\n",
    "    \n",
    "    # GPU 사용 가능 여부 확인 및 디바이스 설정\n",
    "    device = torch.device(\"cuda:0\" if torch.cuda.is_available() else \"cpu\")\n",
    "    print(f\"Training on device {device}.\")\n",
    "\n",
    "    # 모델 인스턴스 생성 및 지정된 디바이스로 이동\n",
    "    model = get_model()\n",
    "    model.to(device)\n",
    "    wandb.watch(model)  # wandb로 모델 가중치와 그래디언트 모니터링 시작\n",
    "\n",
    "    # Adam 옵티마이저 설정\n",
    "    optimizer = optim.Adam(\n",
    "        model.parameters(),\n",
    "        lr=wandb.config.learning_rate,      # 학습률\n",
    "        weight_decay=wandb.config.weight_decay  # L2 정규화\n",
    "    )\n",
    "\n",
    "    # 학습 객체 생성\n",
    "    regression_trainer = RegressionTrainer(\n",
    "        project_name=project_name,           # 프로젝트 이름\n",
    "        model=model,                         # 학습할 모델\n",
    "        optimizer=optimizer,                 # 옵티마이저\n",
    "        train_data_loader=train_data_loader,  # 학습 데이터 로더\n",
    "        validation_data_loader=validation_data_loader,  # 검증 데이터 로더\n",
    "        test_data_loader=None,              # 테스트 데이터 로더 (사용 안 함)\n",
    "        run_time_str=run_time_str,          # 실행 식별자\n",
    "        wandb=wandb,                        # wandb 객체\n",
    "        device=device,                      # 학습 디바이스\n",
    "        checkpoint_file_path=CHECKPOINT_FILE_PATH  # 모델 저장 경로\n",
    "    )\n",
    "    \n",
    "    # 학습 실행\n",
    "    regression_trainer.train_loop()\n",
    "\n",
    "    # wandb 실행 종료\n",
    "    wandb.finish()"
   ]
  },
  {
   "cell_type": "code",
   "execution_count": 33,
   "metadata": {},
   "outputs": [
    {
     "data": {
      "text/html": [
       "Tracking run with wandb version 0.18.5"
      ],
      "text/plain": [
       "<IPython.core.display.HTML object>"
      ]
     },
     "metadata": {},
     "output_type": "display_data"
    },
    {
     "data": {
      "text/html": [
       "Run data is saved locally in <code>/home/Deep-Learning-study/_02_homeworks/hw4/wandb/run-20241212_143425-6tz1p1xz</code>"
      ],
      "text/plain": [
       "<IPython.core.display.HTML object>"
      ]
     },
     "metadata": {},
     "output_type": "display_data"
    },
    {
     "data": {
      "text/html": [
       "Syncing run <strong><a href='https://wandb.ai/jaeminyu2356-korea-university-of-technology-and-education/lstm_regression_btc_krw/runs/6tz1p1xz' target=\"_blank\">2024-12-12_14-34-25</a></strong> to <a href='https://wandb.ai/jaeminyu2356-korea-university-of-technology-and-education/lstm_regression_btc_krw' target=\"_blank\">Weights & Biases</a> (<a href='https://wandb.me/run' target=\"_blank\">docs</a>)<br/>"
      ],
      "text/plain": [
       "<IPython.core.display.HTML object>"
      ]
     },
     "metadata": {},
     "output_type": "display_data"
    },
    {
     "data": {
      "text/html": [
       " View project at <a href='https://wandb.ai/jaeminyu2356-korea-university-of-technology-and-education/lstm_regression_btc_krw' target=\"_blank\">https://wandb.ai/jaeminyu2356-korea-university-of-technology-and-education/lstm_regression_btc_krw</a>"
      ],
      "text/plain": [
       "<IPython.core.display.HTML object>"
      ]
     },
     "metadata": {},
     "output_type": "display_data"
    },
    {
     "data": {
      "text/html": [
       " View run at <a href='https://wandb.ai/jaeminyu2356-korea-university-of-technology-and-education/lstm_regression_btc_krw/runs/6tz1p1xz' target=\"_blank\">https://wandb.ai/jaeminyu2356-korea-university-of-technology-and-education/lstm_regression_btc_krw/runs/6tz1p1xz</a>"
      ],
      "text/plain": [
       "<IPython.core.display.HTML object>"
      ]
     },
     "metadata": {},
     "output_type": "display_data"
    },
    {
     "name": "stdout",
     "output_type": "stream",
     "text": [
      "<__main__.Args object at 0x73b13dba0a10>\n",
      "{'epochs': 500, 'batch_size': 16, 'validation_intervals': 1, 'learning_rate': 0.0005, 'early_stop_patience': 50, 'early_stop_delta': 1e-06, 'weight_decay': 1e-05}\n",
      "Training on device cuda:0.\n",
      "[Epoch   1] T_loss: 0.62965, V_loss: 1.25612, Early stopping is stated! | T_time: 00:00:08, T_speed: 0.001\n",
      "[Epoch   2] T_loss: 0.04792, V_loss: 1.90025, Early stopping counter: 1 out of 50 | T_time: 00:00:17, T_speed: 0.006\n",
      "[Epoch   3] T_loss: 0.04721, V_loss: 0.73700, V_loss decreased (1.25612 --> 0.73700). Saving model... | T_time: 00:00:26, T_speed: 0.014\n",
      "[Epoch   4] T_loss: 0.03728, V_loss: 1.70437, Early stopping counter: 1 out of 50 | T_time: 00:00:36, T_speed: 0.007\n",
      "[Epoch   5] T_loss: 0.04079, V_loss: 0.77563, Early stopping counter: 2 out of 50 | T_time: 00:00:45, T_speed: 0.009\n",
      "[Epoch   6] T_loss: 0.03659, V_loss: 0.94905, Early stopping counter: 3 out of 50 | T_time: 00:00:54, T_speed: 0.013\n",
      "[Epoch   7] T_loss: 0.03573, V_loss: 2.12736, Early stopping counter: 4 out of 50 | T_time: 00:01:03, T_speed: 0.023\n",
      "[Epoch   8] T_loss: 0.03076, V_loss: 2.16355, Early stopping counter: 5 out of 50 | T_time: 00:01:12, T_speed: 0.039\n",
      "[Epoch   9] T_loss: 0.03772, V_loss: 0.85270, Early stopping counter: 6 out of 50 | T_time: 00:01:21, T_speed: 0.037\n",
      "[Epoch  10] T_loss: 0.03782, V_loss: 0.96901, Early stopping counter: 7 out of 50 | T_time: 00:01:30, T_speed: 0.069\n",
      "[Epoch  11] T_loss: 0.03427, V_loss: 0.89209, Early stopping counter: 8 out of 50 | T_time: 00:01:39, T_speed: 0.399\n",
      "[Epoch  12] T_loss: 0.03224, V_loss: 1.21512, Early stopping counter: 9 out of 50 | T_time: 00:01:48, T_speed: 1.682\n",
      "[Epoch  13] T_loss: 0.03106, V_loss: 0.86021, Early stopping counter: 10 out of 50 | T_time: 00:01:56, T_speed: 0.014\n",
      "[Epoch  14] T_loss: 0.03055, V_loss: 1.04528, Early stopping counter: 11 out of 50 | T_time: 00:02:05, T_speed: 0.015\n",
      "[Epoch  15] T_loss: 0.03062, V_loss: 1.12677, Early stopping counter: 12 out of 50 | T_time: 00:02:14, T_speed: 0.016\n",
      "[Epoch  16] T_loss: 0.03323, V_loss: 0.77512, Early stopping counter: 13 out of 50 | T_time: 00:02:23, T_speed: 0.019\n",
      "[Epoch  17] T_loss: 0.03451, V_loss: 0.87684, Early stopping counter: 14 out of 50 | T_time: 00:02:32, T_speed: 0.022\n",
      "[Epoch  18] T_loss: 0.03349, V_loss: 0.64776, V_loss decreased (0.73700 --> 0.64776). Saving model... | T_time: 00:02:41, T_speed: 0.024\n",
      "[Epoch  19] T_loss: 0.03056, V_loss: 0.66730, Early stopping counter: 1 out of 50 | T_time: 00:02:54, T_speed: 0.028\n",
      "[Epoch  20] T_loss: 0.03669, V_loss: 1.43436, Early stopping counter: 2 out of 50 | T_time: 00:03:03, T_speed: 0.030\n",
      "[Epoch  21] T_loss: 0.03492, V_loss: 1.32451, Early stopping counter: 3 out of 50 | T_time: 00:03:12, T_speed: 0.040\n",
      "[Epoch  22] T_loss: 0.03094, V_loss: 1.64521, Early stopping counter: 4 out of 50 | T_time: 00:03:21, T_speed: 0.056\n",
      "[Epoch  23] T_loss: 0.02980, V_loss: 0.81769, Early stopping counter: 5 out of 50 | T_time: 00:03:30, T_speed: 0.063\n",
      "[Epoch  24] T_loss: 0.03049, V_loss: 0.97007, Early stopping counter: 6 out of 50 | T_time: 00:03:39, T_speed: 0.110\n",
      "[Epoch  25] T_loss: 0.03639, V_loss: 0.92792, Early stopping counter: 7 out of 50 | T_time: 00:03:48, T_speed: 0.109\n",
      "[Epoch  26] T_loss: 0.02735, V_loss: 0.65778, Early stopping counter: 8 out of 50 | T_time: 00:03:57, T_speed: 0.152\n",
      "[Epoch  27] T_loss: 0.03134, V_loss: 0.67925, Early stopping counter: 9 out of 50 | T_time: 00:04:06, T_speed: 0.265\n",
      "[Epoch  28] T_loss: 0.03087, V_loss: 1.31107, Early stopping counter: 10 out of 50 | T_time: 00:04:15, T_speed: 0.940\n",
      "[Epoch  29] T_loss: 0.03223, V_loss: 1.37216, Early stopping counter: 11 out of 50 | T_time: 00:04:23, T_speed: 0.032\n",
      "[Epoch  30] T_loss: 0.02853, V_loss: 0.80793, Early stopping counter: 12 out of 50 | T_time: 00:04:32, T_speed: 0.041\n",
      "[Epoch  31] T_loss: 0.02803, V_loss: 1.28412, Early stopping counter: 13 out of 50 | T_time: 00:04:41, T_speed: 0.048\n",
      "[Epoch  32] T_loss: 0.03166, V_loss: 0.78031, Early stopping counter: 14 out of 50 | T_time: 00:04:50, T_speed: 0.063\n",
      "[Epoch  33] T_loss: 0.02899, V_loss: 0.95653, Early stopping counter: 15 out of 50 | T_time: 00:04:59, T_speed: 0.106\n",
      "[Epoch  34] T_loss: 0.03020, V_loss: 0.77298, Early stopping counter: 16 out of 50 | T_time: 00:05:08, T_speed: 0.245\n",
      "[Epoch  35] T_loss: 0.02875, V_loss: 0.55262, V_loss decreased (0.64776 --> 0.55262). Saving model... | T_time: 00:05:16, T_speed: 0.036\n",
      "[Epoch  36] T_loss: 0.02872, V_loss: 1.35860, Early stopping counter: 1 out of 50 | T_time: 00:05:33, T_speed: 0.061\n",
      "[Epoch  37] T_loss: 0.03036, V_loss: 1.35365, Early stopping counter: 2 out of 50 | T_time: 00:05:42, T_speed: 1.140\n",
      "[Epoch  38] T_loss: 0.02979, V_loss: 1.32120, Early stopping counter: 3 out of 50 | T_time: 00:05:50, T_speed: 0.057\n",
      "[Epoch  39] T_loss: 0.02915, V_loss: 1.36020, Early stopping counter: 4 out of 50 | T_time: 00:05:59, T_speed: 0.069\n",
      "[Epoch  40] T_loss: 0.02596, V_loss: 0.93781, Early stopping counter: 5 out of 50 | T_time: 00:06:08, T_speed: 0.083\n",
      "[Epoch  41] T_loss: 0.02773, V_loss: 0.87932, Early stopping counter: 6 out of 50 | T_time: 00:06:17, T_speed: 0.145\n",
      "[Epoch  42] T_loss: 0.02329, V_loss: 0.66959, Early stopping counter: 7 out of 50 | T_time: 00:06:26, T_speed: 0.330\n",
      "[Epoch  43] T_loss: 0.02636, V_loss: 0.55614, Early stopping counter: 8 out of 50 | T_time: 00:06:34, T_speed: 0.043\n",
      "[Epoch  44] T_loss: 0.02556, V_loss: 0.90754, Early stopping counter: 9 out of 50 | T_time: 00:06:43, T_speed: 0.051\n",
      "[Epoch  45] T_loss: 0.02797, V_loss: 1.58852, Early stopping counter: 10 out of 50 | T_time: 00:06:52, T_speed: 0.061\n",
      "[Epoch  46] T_loss: 0.02805, V_loss: 1.06172, Early stopping counter: 11 out of 50 | T_time: 00:07:01, T_speed: 0.080\n",
      "[Epoch  47] T_loss: 0.02699, V_loss: 0.62489, Early stopping counter: 12 out of 50 | T_time: 00:07:10, T_speed: 0.090\n",
      "[Epoch  48] T_loss: 0.02709, V_loss: 0.91674, Early stopping counter: 13 out of 50 | T_time: 00:07:19, T_speed: 0.129\n",
      "[Epoch  49] T_loss: 0.02355, V_loss: 1.01199, Early stopping counter: 14 out of 50 | T_time: 00:07:28, T_speed: 0.185\n",
      "[Epoch  50] T_loss: 0.02555, V_loss: 1.08967, Early stopping counter: 15 out of 50 | T_time: 00:07:37, T_speed: 0.323\n",
      "[Epoch  51] T_loss: 0.02555, V_loss: 0.99963, Early stopping counter: 16 out of 50 | T_time: 00:07:46, T_speed: 1.034\n",
      "[Epoch  52] T_loss: 0.02774, V_loss: 0.80939, Early stopping counter: 17 out of 50 | T_time: 00:07:54, T_speed: 0.058\n",
      "[Epoch  53] T_loss: 0.02430, V_loss: 0.84375, Early stopping counter: 18 out of 50 | T_time: 00:08:03, T_speed: 0.071\n",
      "[Epoch  54] T_loss: 0.02331, V_loss: 0.78356, Early stopping counter: 19 out of 50 | T_time: 00:08:12, T_speed: 0.070\n",
      "[Epoch  55] T_loss: 0.02267, V_loss: 1.58077, Early stopping counter: 20 out of 50 | T_time: 00:08:21, T_speed: 0.087\n",
      "[Epoch  56] T_loss: 0.02737, V_loss: 0.61771, Early stopping counter: 21 out of 50 | T_time: 00:08:30, T_speed: 0.124\n",
      "[Epoch  57] T_loss: 0.02445, V_loss: 0.80973, Early stopping counter: 22 out of 50 | T_time: 00:08:39, T_speed: 1.253\n",
      "[Epoch  58] T_loss: 0.02414, V_loss: 0.97157, Early stopping counter: 23 out of 50 | T_time: 00:08:47, T_speed: 0.089\n",
      "[Epoch  59] T_loss: 0.02425, V_loss: 0.55384, Early stopping counter: 24 out of 50 | T_time: 00:08:56, T_speed: 0.270\n",
      "[Epoch  60] T_loss: 0.02578, V_loss: 0.94043, Early stopping counter: 25 out of 50 | T_time: 00:09:04, T_speed: 0.072\n",
      "[Epoch  61] T_loss: 0.02477, V_loss: 0.94485, Early stopping counter: 26 out of 50 | T_time: 00:09:13, T_speed: 0.097\n",
      "[Epoch  62] T_loss: 0.02511, V_loss: 0.78336, Early stopping counter: 27 out of 50 | T_time: 00:09:22, T_speed: 0.164\n",
      "[Epoch  63] T_loss: 0.02443, V_loss: 0.77243, Early stopping counter: 28 out of 50 | T_time: 00:09:31, T_speed: 0.379\n",
      "[Epoch  64] T_loss: 0.03263, V_loss: 0.52657, V_loss decreased (0.55262 --> 0.52657). Saving model... | T_time: 00:09:39, T_speed: 0.067\n",
      "[Epoch  65] T_loss: 0.02509, V_loss: 0.83696, Early stopping counter: 1 out of 50 | T_time: 00:09:51, T_speed: 0.128\n",
      "[Epoch  66] T_loss: 0.02270, V_loss: 0.86359, Early stopping counter: 2 out of 50 | T_time: 00:10:00, T_speed: 0.160\n",
      "[Epoch  67] T_loss: 0.02399, V_loss: 0.59506, Early stopping counter: 3 out of 50 | T_time: 00:10:09, T_speed: 0.165\n",
      "[Epoch  68] T_loss: 0.02384, V_loss: 1.05131, Early stopping counter: 4 out of 50 | T_time: 00:10:18, T_speed: 0.242\n",
      "[Epoch  69] T_loss: 0.02398, V_loss: 0.95669, Early stopping counter: 5 out of 50 | T_time: 00:10:27, T_speed: 0.325\n",
      "[Epoch  70] T_loss: 0.02250, V_loss: 0.73036, Early stopping counter: 6 out of 50 | T_time: 00:10:36, T_speed: 0.414\n",
      "[Epoch  71] T_loss: 0.02357, V_loss: 0.87625, Early stopping counter: 7 out of 50 | T_time: 00:10:45, T_speed: 0.414\n",
      "[Epoch  72] T_loss: 0.02135, V_loss: 0.94560, Early stopping counter: 8 out of 50 | T_time: 00:10:54, T_speed: 0.381\n",
      "[Epoch  73] T_loss: 0.02216, V_loss: 0.82040, Early stopping counter: 9 out of 50 | T_time: 00:11:03, T_speed: 0.278\n",
      "[Epoch  74] T_loss: 0.02363, V_loss: 0.46319, V_loss decreased (0.52657 --> 0.46319). Saving model... | T_time: 00:11:11, T_speed: 0.088\n",
      "[Epoch  75] T_loss: 0.02324, V_loss: 0.69470, Early stopping counter: 1 out of 50 | T_time: 00:11:26, T_speed: 0.136\n",
      "[Epoch  76] T_loss: 0.03110, V_loss: 1.04124, Early stopping counter: 2 out of 50 | T_time: 00:11:34, T_speed: 0.077\n",
      "[Epoch  77] T_loss: 0.02451, V_loss: 0.95071, Early stopping counter: 3 out of 50 | T_time: 00:11:43, T_speed: 0.207\n",
      "[Epoch  78] T_loss: 0.02102, V_loss: 0.59953, Early stopping counter: 4 out of 50 | T_time: 00:11:51, T_speed: 0.121\n",
      "[Epoch  79] T_loss: 0.02320, V_loss: 0.77810, Early stopping counter: 5 out of 50 | T_time: 00:12:00, T_speed: 3.105\n",
      "[Epoch  80] T_loss: 0.02146, V_loss: 0.75825, Early stopping counter: 6 out of 50 | T_time: 00:12:08, T_speed: 0.191\n",
      "[Epoch  81] T_loss: 0.02522, V_loss: 0.70560, Early stopping counter: 7 out of 50 | T_time: 00:12:17, T_speed: 0.660\n",
      "[Epoch  82] T_loss: 0.02466, V_loss: 0.97397, Early stopping counter: 8 out of 50 | T_time: 00:12:25, T_speed: 0.088\n",
      "[Epoch  83] T_loss: 0.02428, V_loss: 0.53519, Early stopping counter: 9 out of 50 | T_time: 00:12:34, T_speed: 0.090\n",
      "[Epoch  84] T_loss: 0.02411, V_loss: 0.74917, Early stopping counter: 10 out of 50 | T_time: 00:12:43, T_speed: 0.134\n",
      "[Epoch  85] T_loss: 0.02135, V_loss: 0.70749, Early stopping counter: 11 out of 50 | T_time: 00:12:52, T_speed: 0.158\n",
      "[Epoch  86] T_loss: 0.02245, V_loss: 1.00267, Early stopping counter: 12 out of 50 | T_time: 00:13:01, T_speed: 1.111\n",
      "[Epoch  87] T_loss: 0.02328, V_loss: 1.07475, Early stopping counter: 13 out of 50 | T_time: 00:13:09, T_speed: 0.113\n",
      "[Epoch  88] T_loss: 0.02352, V_loss: 0.78134, Early stopping counter: 14 out of 50 | T_time: 00:13:18, T_speed: 0.213\n",
      "[Epoch  89] T_loss: 0.02197, V_loss: 0.83994, Early stopping counter: 15 out of 50 | T_time: 00:13:26, T_speed: 0.095\n",
      "[Epoch  90] T_loss: 0.02200, V_loss: 0.62950, Early stopping counter: 16 out of 50 | T_time: 00:13:35, T_speed: 0.365\n",
      "[Epoch  91] T_loss: 0.02178, V_loss: 0.66501, Early stopping counter: 17 out of 50 | T_time: 00:13:43, T_speed: 0.105\n",
      "[Epoch  92] T_loss: 0.03120, V_loss: 0.70265, Early stopping counter: 18 out of 50 | T_time: 00:13:52, T_speed: 0.327\n",
      "[Epoch  93] T_loss: 0.02298, V_loss: 1.23718, Early stopping counter: 19 out of 50 | T_time: 00:14:00, T_speed: 0.111\n",
      "[Epoch  94] T_loss: 0.02407, V_loss: 0.84999, Early stopping counter: 20 out of 50 | T_time: 00:14:09, T_speed: 0.269\n",
      "[Epoch  95] T_loss: 0.02178, V_loss: 0.84838, Early stopping counter: 21 out of 50 | T_time: 00:14:17, T_speed: 0.105\n",
      "[Epoch  96] T_loss: 0.02284, V_loss: 0.81459, Early stopping counter: 22 out of 50 | T_time: 00:14:26, T_speed: 0.361\n",
      "[Epoch  97] T_loss: 0.02176, V_loss: 0.69959, Early stopping counter: 23 out of 50 | T_time: 00:14:34, T_speed: 0.144\n",
      "[Epoch  98] T_loss: 0.02234, V_loss: 0.73623, Early stopping counter: 24 out of 50 | T_time: 00:14:43, T_speed: 0.389\n",
      "[Epoch  99] T_loss: 0.02218, V_loss: 0.84175, Early stopping counter: 25 out of 50 | T_time: 00:14:51, T_speed: 0.130\n",
      "[Epoch 100] T_loss: 0.02096, V_loss: 0.75084, Early stopping counter: 26 out of 50 | T_time: 00:15:00, T_speed: 0.278\n",
      "[Epoch 101] T_loss: 0.02146, V_loss: 0.59834, Early stopping counter: 27 out of 50 | T_time: 00:15:09, T_speed: 0.651\n",
      "[Epoch 102] T_loss: 0.02284, V_loss: 0.83460, Early stopping counter: 28 out of 50 | T_time: 00:15:17, T_speed: 0.102\n",
      "[Epoch 103] T_loss: 0.02355, V_loss: 0.44246, V_loss decreased (0.46319 --> 0.44246). Saving model... | T_time: 00:15:26, T_speed: 0.158\n",
      "[Epoch 104] T_loss: 0.02186, V_loss: 0.58848, Early stopping counter: 1 out of 50 | T_time: 00:15:38, T_speed: 0.682\n",
      "[Epoch 105] T_loss: 0.02198, V_loss: 0.71787, Early stopping counter: 2 out of 50 | T_time: 00:15:46, T_speed: 0.132\n",
      "[Epoch 106] T_loss: 0.02196, V_loss: 0.71109, Early stopping counter: 3 out of 50 | T_time: 00:15:55, T_speed: 0.215\n",
      "[Epoch 107] T_loss: 0.02037, V_loss: 0.79311, Early stopping counter: 4 out of 50 | T_time: 00:16:04, T_speed: 0.357\n",
      "[Epoch 108] T_loss: 0.02221, V_loss: 1.30155, Early stopping counter: 5 out of 50 | T_time: 00:16:13, T_speed: 0.404\n",
      "[Epoch 109] T_loss: 0.02112, V_loss: 0.69960, Early stopping counter: 6 out of 50 | T_time: 00:16:25, T_speed: 0.148\n",
      "[Epoch 110] T_loss: 0.02237, V_loss: 0.85787, Early stopping counter: 7 out of 50 | T_time: 00:16:42, T_speed: 0.189\n",
      "[Epoch 111] T_loss: 0.02001, V_loss: 0.47487, Early stopping counter: 8 out of 50 | T_time: 00:16:59, T_speed: 0.145\n",
      "[Epoch 112] T_loss: 0.02187, V_loss: 0.58939, Early stopping counter: 9 out of 50 | T_time: 00:17:16, T_speed: 0.205\n",
      "[Epoch 113] T_loss: 0.02111, V_loss: 0.68461, Early stopping counter: 10 out of 50 | T_time: 00:17:33, T_speed: 0.703\n",
      "[Epoch 114] T_loss: 0.02221, V_loss: 0.75627, Early stopping counter: 11 out of 50 | T_time: 00:17:49, T_speed: 0.125\n",
      "[Epoch 115] T_loss: 0.02220, V_loss: 1.02873, Early stopping counter: 12 out of 50 | T_time: 00:18:06, T_speed: 0.250\n",
      "[Epoch 116] T_loss: 0.02334, V_loss: 0.70889, Early stopping counter: 13 out of 50 | T_time: 00:18:23, T_speed: 0.388\n",
      "[Epoch 117] T_loss: 0.02022, V_loss: 0.60045, Early stopping counter: 14 out of 50 | T_time: 00:18:40, T_speed: 0.597\n",
      "[Epoch 118] T_loss: 0.02115, V_loss: 0.63184, Early stopping counter: 15 out of 50 | T_time: 00:18:57, T_speed: 0.588\n",
      "[Epoch 119] T_loss: 0.02263, V_loss: 0.58483, Early stopping counter: 16 out of 50 | T_time: 00:19:14, T_speed: 1.182\n",
      "[Epoch 120] T_loss: 0.02010, V_loss: 0.69896, Early stopping counter: 17 out of 50 | T_time: 00:19:31, T_speed: 0.450\n",
      "[Epoch 121] T_loss: 0.02228, V_loss: 0.52853, Early stopping counter: 18 out of 50 | T_time: 00:19:48, T_speed: 4.591\n",
      "[Epoch 122] T_loss: 0.01948, V_loss: 0.91350, Early stopping counter: 19 out of 50 | T_time: 00:20:04, T_speed: 0.137\n",
      "[Epoch 123] T_loss: 0.02039, V_loss: 0.61385, Early stopping counter: 20 out of 50 | T_time: 00:20:21, T_speed: 0.165\n",
      "[Epoch 124] T_loss: 0.01981, V_loss: 0.67522, Early stopping counter: 21 out of 50 | T_time: 00:20:38, T_speed: 0.131\n",
      "[Epoch 125] T_loss: 0.02355, V_loss: 1.01380, Early stopping counter: 22 out of 50 | T_time: 00:20:55, T_speed: 0.973\n",
      "[Epoch 126] T_loss: 0.02389, V_loss: 1.09078, Early stopping counter: 23 out of 50 | T_time: 00:21:12, T_speed: 0.402\n",
      "[Epoch 127] T_loss: 0.02275, V_loss: 0.69726, Early stopping counter: 24 out of 50 | T_time: 00:21:24, T_speed: 0.295\n",
      "[Epoch 128] T_loss: 0.02086, V_loss: 0.64383, Early stopping counter: 25 out of 50 | T_time: 00:21:33, T_speed: 0.305\n",
      "[Epoch 129] T_loss: 0.01906, V_loss: 0.55778, Early stopping counter: 26 out of 50 | T_time: 00:21:42, T_speed: 0.423\n",
      "[Epoch 130] T_loss: 0.02005, V_loss: 0.73519, Early stopping counter: 27 out of 50 | T_time: 00:21:51, T_speed: 0.940\n",
      "[Epoch 131] T_loss: 0.01994, V_loss: 0.86350, Early stopping counter: 28 out of 50 | T_time: 00:21:59, T_speed: 0.138\n",
      "[Epoch 132] T_loss: 0.02131, V_loss: 0.65644, Early stopping counter: 29 out of 50 | T_time: 00:22:08, T_speed: 0.155\n",
      "[Epoch 133] T_loss: 0.02174, V_loss: 0.80729, Early stopping counter: 30 out of 50 | T_time: 00:22:17, T_speed: 0.183\n",
      "[Epoch 134] T_loss: 0.01997, V_loss: 0.61251, Early stopping counter: 31 out of 50 | T_time: 00:22:26, T_speed: 0.245\n",
      "[Epoch 135] T_loss: 0.01981, V_loss: 0.76070, Early stopping counter: 32 out of 50 | T_time: 00:22:35, T_speed: 0.668\n",
      "[Epoch 136] T_loss: 0.02193, V_loss: 0.81727, Early stopping counter: 33 out of 50 | T_time: 00:22:44, T_speed: 2.006\n",
      "[Epoch 137] T_loss: 0.01959, V_loss: 0.83128, Early stopping counter: 34 out of 50 | T_time: 00:22:52, T_speed: 0.154\n",
      "[Epoch 138] T_loss: 0.02170, V_loss: 1.09129, Early stopping counter: 35 out of 50 | T_time: 00:23:01, T_speed: 0.209\n",
      "[Epoch 139] T_loss: 0.02085, V_loss: 0.93146, Early stopping counter: 36 out of 50 | T_time: 00:23:10, T_speed: 0.362\n",
      "[Epoch 140] T_loss: 0.02189, V_loss: 0.63060, Early stopping counter: 37 out of 50 | T_time: 00:23:19, T_speed: 0.351\n",
      "[Epoch 141] T_loss: 0.01890, V_loss: 0.55070, Early stopping counter: 38 out of 50 | T_time: 00:23:28, T_speed: 0.339\n",
      "[Epoch 142] T_loss: 0.02042, V_loss: 0.78684, Early stopping counter: 39 out of 50 | T_time: 00:23:37, T_speed: 0.297\n",
      "[Epoch 143] T_loss: 0.02280, V_loss: 1.00496, Early stopping counter: 40 out of 50 | T_time: 00:23:46, T_speed: 0.269\n",
      "[Epoch 144] T_loss: 0.02028, V_loss: 0.76097, Early stopping counter: 41 out of 50 | T_time: 00:23:55, T_speed: 0.210\n",
      "[Epoch 145] T_loss: 0.03145, V_loss: 0.90237, Early stopping counter: 42 out of 50 | T_time: 00:24:04, T_speed: 0.206\n",
      "[Epoch 146] T_loss: 0.02207, V_loss: 0.59615, Early stopping counter: 43 out of 50 | T_time: 00:24:13, T_speed: 0.197\n",
      "[Epoch 147] T_loss: 0.02038, V_loss: 0.54804, Early stopping counter: 44 out of 50 | T_time: 00:24:22, T_speed: 0.165\n",
      "[Epoch 148] T_loss: 0.02327, V_loss: 0.92246, Early stopping counter: 45 out of 50 | T_time: 00:24:32, T_speed: 12.918\n",
      "[Epoch 149] T_loss: 0.02059, V_loss: 0.57974, Early stopping counter: 46 out of 50 | T_time: 00:24:41, T_speed: 2.233\n",
      "[Epoch 150] T_loss: 0.02134, V_loss: 0.81761, Early stopping counter: 47 out of 50 | T_time: 00:24:50, T_speed: 1.099\n",
      "[Epoch 151] T_loss: 0.02221, V_loss: 1.07211, Early stopping counter: 48 out of 50 | T_time: 00:24:59, T_speed: 0.701\n",
      "[Epoch 152] T_loss: 0.02542, V_loss: 0.53079, Early stopping counter: 49 out of 50 | T_time: 00:25:08, T_speed: 0.688\n",
      "[Epoch 153] T_loss: 0.02202, V_loss: 0.61033, Early stopping counter: 50 out of 50 *** TRAIN EARLY STOPPED! *** | T_time: 00:25:17, T_speed: 0.686\n",
      "Final training time: 00:25:17\n"
     ]
    },
    {
     "data": {
      "text/html": [
       "<style>\n",
       "    table.wandb td:nth-child(1) { padding: 0 10px; text-align: left ; width: auto;} td:nth-child(2) {text-align: left ; width: 100%}\n",
       "    .wandb-row { display: flex; flex-direction: row; flex-wrap: wrap; justify-content: flex-start; width: 100% }\n",
       "    .wandb-col { display: flex; flex-direction: column; flex-basis: 100%; flex: 1; padding: 10px; }\n",
       "    </style>\n",
       "<div class=\"wandb-row\"><div class=\"wandb-col\"><h3>Run history:</h3><br/><table class=\"wandb\"><tr><td>Epoch</td><td>▁▁▂▂▂▂▂▂▃▃▃▄▄▄▄▄▄▄▅▅▅▅▅▅▅▅▆▆▆▆▆▆▆▆▇▇▇▇██</td></tr><tr><td>Training loss</td><td>▅█▇▅▇▅▅▇▄▅▅▃▃▄▃▃▃▂▃▂▂▃▂▂▂▂▂▂▁▂▁▂▂▁▂▂▂▂▂▃</td></tr><tr><td>Training speed (epochs/sec.)</td><td>▁▁▁▁█▁▁▁▁▁▁▁▆▁▁▂▃▃▂▁▁▁▂▆▁▂▁▄▂▄▃▃▃▁▂▂▂▂▂▄</td></tr><tr><td>Validation loss</td><td>▅█▄▃▅▃▂▄▂▆▄▂▄▄▅▂▄▃▃▃▃▁▂▃▂▅▃▃▂▂▂▂▂▄▂▄▄▃▄▄</td></tr></table><br/></div><div class=\"wandb-col\"><h3>Run summary:</h3><br/><table class=\"wandb\"><tr><td>Epoch</td><td>153</td></tr><tr><td>Training loss</td><td>0.02202</td></tr><tr><td>Training speed (epochs/sec.)</td><td>0.68604</td></tr><tr><td>Validation loss</td><td>0.61033</td></tr></table><br/></div></div>"
      ],
      "text/plain": [
       "<IPython.core.display.HTML object>"
      ]
     },
     "metadata": {},
     "output_type": "display_data"
    },
    {
     "data": {
      "text/html": [
       " View run <strong style=\"color:#cdcd00\">2024-12-12_14-34-25</strong> at: <a href='https://wandb.ai/jaeminyu2356-korea-university-of-technology-and-education/lstm_regression_btc_krw/runs/6tz1p1xz' target=\"_blank\">https://wandb.ai/jaeminyu2356-korea-university-of-technology-and-education/lstm_regression_btc_krw/runs/6tz1p1xz</a><br/> View project at: <a href='https://wandb.ai/jaeminyu2356-korea-university-of-technology-and-education/lstm_regression_btc_krw' target=\"_blank\">https://wandb.ai/jaeminyu2356-korea-university-of-technology-and-education/lstm_regression_btc_krw</a><br/>Synced 5 W&B file(s), 0 media file(s), 2 artifact file(s) and 0 other file(s)"
      ],
      "text/plain": [
       "<IPython.core.display.HTML object>"
      ]
     },
     "metadata": {},
     "output_type": "display_data"
    },
    {
     "data": {
      "text/html": [
       "Find logs at: <code>./wandb/run-20241212_143425-6tz1p1xz/logs</code>"
      ],
      "text/plain": [
       "<IPython.core.display.HTML object>"
      ]
     },
     "metadata": {},
     "output_type": "display_data"
    }
   ],
   "source": [
    "if __name__ == \"__main__\":\n",
    "    import sys\n",
    "    if 'ipykernel' in sys.modules:  # Jupyter Notebook에서 실행 중인지 확인\n",
    "        # Jupyter에서 실행할 때는 기본값 사용\n",
    "        args = Args()  # Args 클래스의 인스턴스 생성\n",
    "    else:\n",
    "        # 일반 Python 스크립트로 실행할 때는 argparse 사용\n",
    "        parser = get_parser()\n",
    "        args = parser.parse_args()\n",
    "    \n",
    "    main(args)  # main 함수 호출은 if 문 내부에 있어야 함"
   ]
  },
  {
   "cell_type": "code",
   "execution_count": null,
   "metadata": {},
   "outputs": [],
   "source": []
  }
 ],
 "metadata": {
  "kernelspec": {
   "display_name": "base",
   "language": "python",
   "name": "python3"
  },
  "language_info": {
   "codemirror_mode": {
    "name": "ipython",
    "version": 3
   },
   "file_extension": ".py",
   "mimetype": "text/x-python",
   "name": "python",
   "nbconvert_exporter": "python",
   "pygments_lexer": "ipython3",
   "version": "3.11.9"
  }
 },
 "nbformat": 4,
 "nbformat_minor": 2
}
