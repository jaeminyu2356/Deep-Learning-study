{
 "cells": [
  {
   "cell_type": "code",
   "execution_count": 13,
   "metadata": {},
   "outputs": [],
   "source": [
    "import torch\n",
    "from torch import nn, optim\n",
    "from torch.utils.data import DataLoader\n",
    "from datetime import datetime\n",
    "import os\n",
    "import wandb\n",
    "from pathlib import Path\n",
    "\n",
    "# 본 과제 제출자는 현재 우분투 도커 환경에서 작업중이므로 다음과 같이 경로 설정\n",
    "BASE_PATH=\"/home/Deep-Learning-study\"\n",
    "import sys\n",
    "sys.path.append(BASE_PATH)\n",
    "\n",
    "CURRENT_FILE_PATH = os.getcwd()\n",
    "CHECKPOINT_FILE_PATH = os.path.join(CURRENT_FILE_PATH, \"checkpoints\")\n",
    "\n",
    "if not os.path.isdir(CHECKPOINT_FILE_PATH):\n",
    "  os.makedirs(os.path.join(CURRENT_FILE_PATH, \"checkpoints\"))"
   ]
  },
  {
   "cell_type": "code",
   "execution_count": 14,
   "metadata": {},
   "outputs": [],
   "source": [
    "from _01_code._15_lstm_and_its_application.f_arg_parser import get_parser\n",
    "from _01_code._14_rnn.g_rnn_trainer import RegressionTrainer\n",
    "from _01_code._03_real_world_data_to_tensors.p_cryptocurrency_dataset_dataloader import get_cryptocurrency_data, \\\n",
    "  CryptoCurrencyDataset"
   ]
  },
  {
   "cell_type": "code",
   "execution_count": 15,
   "metadata": {},
   "outputs": [],
   "source": [
    "def get_btc_krw_data(sequence_size=10, validation_size=100, test_size=10, is_regression=True):\n",
    "    # 비트코인 데이터 로드 및 전처리\n",
    "    X_train, X_validation, X_test, y_train, y_validation, y_test, y_train_date, y_validation_date, y_test_date \\\n",
    "        = get_cryptocurrency_data(\n",
    "            sequence_size=sequence_size,        # 시계열 데이터의 시퀀스 길이\n",
    "            validation_size=validation_size,    # 검증 데이터셋 크기\n",
    "            test_size=test_size,               # 테스트 데이터셋 크기\n",
    "            target_column='Close',             # 예측할 대상 컬럼 (종가)\n",
    "            y_normalizer=1.0e7,                # 타겟값 정규화를 위한 스케일링 factor\n",
    "            is_regression=is_regression         # 회귀/분류 태스크 구분 플래그\n",
    "        )\n",
    "\n",
    "    # PyTorch Dataset 객체 생성\n",
    "    train_crypto_currency_dataset = CryptoCurrencyDataset(X=X_train, y=y_train)\n",
    "    validation_crypto_currency_dataset = CryptoCurrencyDataset(X=X_validation, y=y_validation)\n",
    "    test_crypto_currency_dataset = CryptoCurrencyDataset(X=X_test, y=y_test)\n",
    "\n",
    "    # DataLoader 생성\n",
    "    # 학습 데이터 로더: 배치 크기만큼 데이터를 랜덤하게 샘플링\n",
    "    train_data_loader = DataLoader(\n",
    "        dataset=train_crypto_currency_dataset, \n",
    "        batch_size=wandb.config.batch_size,    # wandb에 설정된 배치 크기 사용\n",
    "        shuffle=True                           # 데이터 섞기 활성화\n",
    "    )\n",
    "    \n",
    "    # 검증 데이터 로더: 학습과 동일한 배치 크기 사용\n",
    "    validation_data_loader = DataLoader(\n",
    "        dataset=validation_crypto_currency_dataset, \n",
    "        batch_size=wandb.config.batch_size,\n",
    "        shuffle=True\n",
    "    )\n",
    "    \n",
    "    # 테스트 데이터 로더: 전체 테스트 데이터를 한 번에 처리\n",
    "    test_data_loader = DataLoader(\n",
    "        dataset=test_crypto_currency_dataset,\n",
    "        batch_size=len(test_crypto_currency_dataset),  # 전체 테스트 데이터를 하나의 배치로\n",
    "        shuffle=True\n",
    "    )\n",
    "\n",
    "    # 생성된 데이터 로더들 반환\n",
    "    return train_data_loader, validation_data_loader, test_data_loader"
   ]
  },
  {
   "cell_type": "code",
   "execution_count": 16,
   "metadata": {},
   "outputs": [],
   "source": [
    "def get_model():\n",
    "    class MyModel(nn.Module):\n",
    "        def __init__(self, n_input, n_output):\n",
    "            super().__init__()\n",
    "\n",
    "            # LSTM 레이어 정의\n",
    "            self.lstm = nn.LSTM(\n",
    "                input_size=n_input,     # 입력 특성의 개수 (5: Open, High, Low, Close, Volume)\n",
    "                hidden_size=128,        # LSTM의 은닉 상태 크기\n",
    "                num_layers=2,           # LSTM 레이어의 개수\n",
    "                batch_first=True        # 입력 텐서의 형태를 (batch, seq, feature)로 지정\n",
    "            )\n",
    "            \n",
    "            # 완전연결 레이어 정의\n",
    "            self.fcn = nn.Linear(\n",
    "                in_features=128,        # LSTM의 hidden_size와 동일\n",
    "                out_features=n_output   # 출력값의 개수 (1: 다음 날의 종가)\n",
    "            )\n",
    "\n",
    "        def forward(self, x):\n",
    "            # LSTM 레이어 통과\n",
    "            # x 입력 shape: (batch_size, sequence_length, n_input)\n",
    "            # hidden: (h_n, c_n) - LSTM의 최종 은닉 상태와 셀 상태\n",
    "            x, hidden = self.lstm(x)\n",
    "            \n",
    "            # 마지막 시퀀스의 출력만 선택\n",
    "            # x shape: (batch_size, sequence_length, hidden_size)\n",
    "            # x[:, -1, :] shape: (batch_size, hidden_size)\n",
    "            x = x[:, -1, :]\n",
    "            \n",
    "            # 선형 레이어를 통과시켜 최종 예측값 생성\n",
    "            # 출력 shape: (batch_size, n_output)\n",
    "            x = self.fcn(x)\n",
    "            return x\n",
    "\n",
    "    # 모델 인스턴스 생성\n",
    "    my_model = MyModel(\n",
    "        n_input=5,    # 입력 특성 수 (OHLCV)\n",
    "        n_output=1    # 출력 특성 수 (다음 날 종가)\n",
    "    )\n",
    "\n",
    "    return my_model"
   ]
  },
  {
   "cell_type": "code",
   "execution_count": 17,
   "metadata": {},
   "outputs": [],
   "source": [
    "def main(args):\n",
    "    # 현재 시간을 문자열로 변환 (실행 식별자로 사용)\n",
    "    run_time_str = datetime.now().astimezone().strftime('%Y-%m-%d_%H-%M-%S')\n",
    "\n",
    "    # wandb 설정을 위한 하이퍼파라미터 딕셔너리 생성\n",
    "    config = {\n",
    "        'epochs': args.epochs,                    # 총 학습 에폭 수\n",
    "        'batch_size': args.batch_size,           # 배치 크기\n",
    "        'validation_intervals': args.validation_intervals,  # 검증 주기\n",
    "        'learning_rate': args.learning_rate,      # 학습률\n",
    "        'early_stop_patience': args.early_stop_patience,  # 조기 종료 인내 횟수\n",
    "        'early_stop_delta': args.early_stop_delta,  # 조기 종료 임계값\n",
    "        'weight_decay': args.weight_decay         # L2 정규화 계수\n",
    "    }\n",
    "\n",
    "    # wandb 프로젝트 초기화\n",
    "    project_name = \"lstm_regression_btc_krw\"\n",
    "    wandb.init(\n",
    "        mode=\"online\" if args.wandb else \"disabled\",  # wandb 사용 여부\n",
    "        project=project_name,                         # 프로젝트 이름\n",
    "        notes=\"btc_krw experiment with lstm\",         # 실험 노트\n",
    "        tags=[\"lstm\", \"regression\", \"btc_krw\"],       # 태그\n",
    "        name=run_time_str,                           # 실행 이름\n",
    "        config=config                                # 설정값\n",
    "    )\n",
    "    # 설정값 출력\n",
    "    print(args)\n",
    "    print(wandb.config)\n",
    "\n",
    "    # 데이터 로더 생성 (테스트 데이터 로더는 사용하지 않음)\n",
    "    train_data_loader, validation_data_loader, _ = get_btc_krw_data()\n",
    "    \n",
    "    # GPU 사용 가능 여부 확인 및 디바이스 설정\n",
    "    device = torch.device(\"cuda:0\" if torch.cuda.is_available() else \"cpu\")\n",
    "    print(f\"Training on device {device}.\")\n",
    "\n",
    "    # 모델 생성 및 지정된 디바이스로 이동\n",
    "    model = get_model()\n",
    "    model.to(device)\n",
    "    wandb.watch(model)  # wandb로 모델 모니터링 시작\n",
    "\n",
    "    # 옵티마이저 설정 (Adam)\n",
    "    optimizer = optim.Adam(\n",
    "        model.parameters(),\n",
    "        lr=wandb.config.learning_rate,\n",
    "        weight_decay=wandb.config.weight_decay\n",
    "    )\n",
    "\n",
    "    # 학습 객체 생성\n",
    "    regression_trainer = RegressionTrainer(\n",
    "        project_name=project_name,           # 프로젝트 이름\n",
    "        model=model,                         # 학습할 모델\n",
    "        optimizer=optimizer,                 # 옵티마이저\n",
    "        train_data_loader=train_data_loader,  # 학습 데이터 로더\n",
    "        validation_data_loader=validation_data_loader,  # 검증 데이터 로더\n",
    "        test_data_loader=None,              # 테스트 데이터 로더 (사용하지 않음)\n",
    "        run_time_str=run_time_str,          # 실행 식별자\n",
    "        wandb=wandb,                        # wandb 객체\n",
    "        device=device,                      # 학습 디바이스\n",
    "        checkpoint_file_path=CHECKPOINT_FILE_PATH  # 체크포인트 저장 경로\n",
    "    )\n",
    "    \n",
    "    # 학습 실행\n",
    "    regression_trainer.train_loop()\n",
    "\n",
    "    # wandb 실행 종료\n",
    "    wandb.finish()"
   ]
  },
  {
   "cell_type": "code",
   "execution_count": 18,
   "metadata": {},
   "outputs": [
    {
     "data": {
      "text/html": [
       "Tracking run with wandb version 0.18.5"
      ],
      "text/plain": [
       "<IPython.core.display.HTML object>"
      ]
     },
     "metadata": {},
     "output_type": "display_data"
    },
    {
     "data": {
      "text/html": [
       "Run data is saved locally in <code>/home/Deep-Learning-study/_02_homeworks/hw4/wandb/run-20241207_073132-fp1mmbbr</code>"
      ],
      "text/plain": [
       "<IPython.core.display.HTML object>"
      ]
     },
     "metadata": {},
     "output_type": "display_data"
    },
    {
     "data": {
      "text/html": [
       "Syncing run <strong><a href='https://wandb.ai/jaeminyu2356-korea-university-of-technology-and-education/lstm_regression_btc_krw/runs/fp1mmbbr' target=\"_blank\">2024-12-07_07-31-32</a></strong> to <a href='https://wandb.ai/jaeminyu2356-korea-university-of-technology-and-education/lstm_regression_btc_krw' target=\"_blank\">Weights & Biases</a> (<a href='https://wandb.me/run' target=\"_blank\">docs</a>)<br/>"
      ],
      "text/plain": [
       "<IPython.core.display.HTML object>"
      ]
     },
     "metadata": {},
     "output_type": "display_data"
    },
    {
     "data": {
      "text/html": [
       " View project at <a href='https://wandb.ai/jaeminyu2356-korea-university-of-technology-and-education/lstm_regression_btc_krw' target=\"_blank\">https://wandb.ai/jaeminyu2356-korea-university-of-technology-and-education/lstm_regression_btc_krw</a>"
      ],
      "text/plain": [
       "<IPython.core.display.HTML object>"
      ]
     },
     "metadata": {},
     "output_type": "display_data"
    },
    {
     "data": {
      "text/html": [
       " View run at <a href='https://wandb.ai/jaeminyu2356-korea-university-of-technology-and-education/lstm_regression_btc_krw/runs/fp1mmbbr' target=\"_blank\">https://wandb.ai/jaeminyu2356-korea-university-of-technology-and-education/lstm_regression_btc_krw/runs/fp1mmbbr</a>"
      ],
      "text/plain": [
       "<IPython.core.display.HTML object>"
      ]
     },
     "metadata": {},
     "output_type": "display_data"
    },
    {
     "name": "stdout",
     "output_type": "stream",
     "text": [
      "<__main__.Args object at 0x7755e8f37910>\n",
      "{'epochs': 100, 'batch_size': 32, 'validation_intervals': 1, 'learning_rate': 0.001, 'early_stop_patience': 5, 'early_stop_delta': 0.001, 'weight_decay': 0.0001}\n",
      "Training on device cuda:0.\n",
      "[Epoch   1] T_loss: 1.40876, V_loss: 1.63254, Early stopping is stated! | T_time: 00:00:00, T_speed: 0.003\n",
      "[Epoch   2] T_loss: 0.05143, V_loss: 1.78813, Early stopping counter: 1 out of 5 | T_time: 00:00:00, T_speed: 0.004\n",
      "[Epoch   3] T_loss: 0.03782, V_loss: 0.86087, V_loss decreased (1.63254 --> 0.86087). Saving model... | T_time: 00:00:00, T_speed: 0.004\n",
      "[Epoch   4] T_loss: 0.03518, V_loss: 0.85138, V_loss decreased (0.86087 --> 0.85138). Saving model... | T_time: 00:00:00, T_speed: 0.004\n",
      "[Epoch   5] T_loss: 0.02939, V_loss: 0.76669, V_loss decreased (0.85138 --> 0.76669). Saving model... | T_time: 00:00:01, T_speed: 0.024\n",
      "[Epoch   6] T_loss: 0.02597, V_loss: 0.63942, V_loss decreased (0.76669 --> 0.63942). Saving model... | T_time: 00:00:01, T_speed: 0.014\n",
      "[Epoch   7] T_loss: 0.02391, V_loss: 0.62323, V_loss decreased (0.63942 --> 0.62323). Saving model... | T_time: 00:00:01, T_speed: 0.010\n",
      "[Epoch   8] T_loss: 0.02232, V_loss: 0.51015, V_loss decreased (0.62323 --> 0.51015). Saving model... | T_time: 00:00:01, T_speed: 0.009\n",
      "[Epoch   9] T_loss: 0.02191, V_loss: 0.63457, Early stopping counter: 1 out of 5 | T_time: 00:00:02, T_speed: 0.060\n",
      "[Epoch  10] T_loss: 0.02014, V_loss: 0.64014, Early stopping counter: 2 out of 5 | T_time: 00:00:02, T_speed: 0.027\n",
      "[Epoch  11] T_loss: 0.01891, V_loss: 0.65642, Early stopping counter: 3 out of 5 | T_time: 00:00:02, T_speed: 0.019\n",
      "[Epoch  12] T_loss: 0.01818, V_loss: 0.38622, V_loss decreased (0.51015 --> 0.38622). Saving model... | T_time: 00:00:02, T_speed: 0.015\n",
      "[Epoch  13] T_loss: 0.02000, V_loss: 0.47814, Early stopping counter: 1 out of 5 | T_time: 00:00:03, T_speed: 0.261\n",
      "[Epoch  14] T_loss: 0.01757, V_loss: 0.37030, V_loss decreased (0.38622 --> 0.37030). Saving model... | T_time: 00:00:03, T_speed: 0.051\n",
      "[Epoch  15] T_loss: 0.01781, V_loss: 0.35925, V_loss decreased (0.37030 --> 0.35925). Saving model... | T_time: 00:00:03, T_speed: 0.030\n",
      "[Epoch  16] T_loss: 0.01892, V_loss: 0.36205, Early stopping counter: 1 out of 5 | T_time: 00:00:03, T_speed: 0.022\n",
      "[Epoch  17] T_loss: 0.01720, V_loss: 0.56274, Early stopping counter: 2 out of 5 | T_time: 00:00:03, T_speed: 0.018\n",
      "[Epoch  18] T_loss: 0.01578, V_loss: 0.32347, V_loss decreased (0.35925 --> 0.32347). Saving model... | T_time: 00:00:04, T_speed: 0.086\n",
      "[Epoch  19] T_loss: 0.01910, V_loss: 0.38671, Early stopping counter: 1 out of 5 | T_time: 00:00:04, T_speed: 0.041\n",
      "[Epoch  20] T_loss: 0.01576, V_loss: 0.29070, V_loss decreased (0.32347 --> 0.29070). Saving model... | T_time: 00:00:04, T_speed: 0.028\n",
      "[Epoch  21] T_loss: 0.01475, V_loss: 0.31020, Early stopping counter: 1 out of 5 | T_time: 00:00:04, T_speed: 0.022\n",
      "[Epoch  22] T_loss: 0.01703, V_loss: 0.28319, V_loss decreased (0.29070 --> 0.28319). Saving model... | T_time: 00:00:05, T_speed: 0.124\n",
      "[Epoch  23] T_loss: 0.01748, V_loss: 0.65208, Early stopping counter: 1 out of 5 | T_time: 00:00:05, T_speed: 0.053\n",
      "[Epoch  24] T_loss: 0.01780, V_loss: 0.30262, Early stopping counter: 2 out of 5 | T_time: 00:00:05, T_speed: 0.036\n",
      "[Epoch  25] T_loss: 0.01567, V_loss: 0.31316, Early stopping counter: 3 out of 5 | T_time: 00:00:05, T_speed: 0.028\n",
      "[Epoch  26] T_loss: 0.01775, V_loss: 0.37439, Early stopping counter: 4 out of 5 | T_time: 00:00:06, T_speed: 0.181\n",
      "[Epoch  27] T_loss: 0.01493, V_loss: 0.34908, Early stopping counter: 5 out of 5 *** TRAIN EARLY STOPPED! *** | T_time: 00:00:06, T_speed: 0.074\n",
      "Final training time: 00:00:06\n"
     ]
    },
    {
     "data": {
      "text/html": [
       "<style>\n",
       "    table.wandb td:nth-child(1) { padding: 0 10px; text-align: left ; width: auto;} td:nth-child(2) {text-align: left ; width: 100%}\n",
       "    .wandb-row { display: flex; flex-direction: row; flex-wrap: wrap; justify-content: flex-start; width: 100% }\n",
       "    .wandb-col { display: flex; flex-direction: column; flex-basis: 100%; flex: 1; padding: 10px; }\n",
       "    </style>\n",
       "<div class=\"wandb-row\"><div class=\"wandb-col\"><h3>Run history:</h3><br/><table class=\"wandb\"><tr><td>Epoch</td><td>▁▁▂▂▂▂▃▃▃▃▄▄▄▅▅▅▅▆▆▆▆▇▇▇▇██</td></tr><tr><td>Training loss</td><td>█▁▁▁▁▁▁▁▁▁▁▁▁▁▁▁▁▁▁▁▁▁▁▁▁▁▁</td></tr><tr><td>Training speed (epochs/sec.)</td><td>▁▁▁▁▂▁▁▁▃▂▁▁█▂▂▂▁▃▂▂▂▄▂▂▂▆▃</td></tr><tr><td>Validation loss</td><td>▇█▄▄▃▃▃▂▃▃▃▁▂▁▁▁▂▁▁▁▁▁▃▁▁▁▁</td></tr></table><br/></div><div class=\"wandb-col\"><h3>Run summary:</h3><br/><table class=\"wandb\"><tr><td>Epoch</td><td>27</td></tr><tr><td>Training loss</td><td>0.01493</td></tr><tr><td>Training speed (epochs/sec.)</td><td>0.07359</td></tr><tr><td>Validation loss</td><td>0.34908</td></tr></table><br/></div></div>"
      ],
      "text/plain": [
       "<IPython.core.display.HTML object>"
      ]
     },
     "metadata": {},
     "output_type": "display_data"
    },
    {
     "data": {
      "text/html": [
       " View run <strong style=\"color:#cdcd00\">2024-12-07_07-31-32</strong> at: <a href='https://wandb.ai/jaeminyu2356-korea-university-of-technology-and-education/lstm_regression_btc_krw/runs/fp1mmbbr' target=\"_blank\">https://wandb.ai/jaeminyu2356-korea-university-of-technology-and-education/lstm_regression_btc_krw/runs/fp1mmbbr</a><br/> View project at: <a href='https://wandb.ai/jaeminyu2356-korea-university-of-technology-and-education/lstm_regression_btc_krw' target=\"_blank\">https://wandb.ai/jaeminyu2356-korea-university-of-technology-and-education/lstm_regression_btc_krw</a><br/>Synced 5 W&B file(s), 0 media file(s), 2 artifact file(s) and 0 other file(s)"
      ],
      "text/plain": [
       "<IPython.core.display.HTML object>"
      ]
     },
     "metadata": {},
     "output_type": "display_data"
    },
    {
     "data": {
      "text/html": [
       "Find logs at: <code>./wandb/run-20241207_073132-fp1mmbbr/logs</code>"
      ],
      "text/plain": [
       "<IPython.core.display.HTML object>"
      ]
     },
     "metadata": {},
     "output_type": "display_data"
    }
   ],
   "source": [
    "if __name__ == \"__main__\":\n",
    "    import sys\n",
    "    if 'ipykernel' in sys.modules:  # Jupyter Notebook에서 실행 중인지 확인\n",
    "        # Jupyter에서 실행할 때는 기본값 사용\n",
    "        class Args:\n",
    "            def __init__(self):\n",
    "                self.wandb = True\n",
    "                self.batch_size = 32\n",
    "                self.epochs = 100\n",
    "                self.learning_rate = 0.001\n",
    "                self.weight_decay = 0.0001\n",
    "                self.validation_intervals = 1\n",
    "                self.early_stop_patience = 5\n",
    "                self.early_stop_delta = 0.001\n",
    "        args = Args()\n",
    "    else:\n",
    "        # 일반 Python 스크립트로 실행할 때는 argparse 사용\n",
    "        parser = get_parser()\n",
    "        args = parser.parse_args()\n",
    "    \n",
    "    main(args)"
   ]
  },
  {
   "cell_type": "code",
   "execution_count": null,
   "metadata": {},
   "outputs": [],
   "source": []
  }
 ],
 "metadata": {
  "kernelspec": {
   "display_name": "base",
   "language": "python",
   "name": "python3"
  },
  "language_info": {
   "codemirror_mode": {
    "name": "ipython",
    "version": 3
   },
   "file_extension": ".py",
   "mimetype": "text/x-python",
   "name": "python",
   "nbconvert_exporter": "python",
   "pygments_lexer": "ipython3",
   "version": "3.11.9"
  }
 },
 "nbformat": 4,
 "nbformat_minor": 2
}
