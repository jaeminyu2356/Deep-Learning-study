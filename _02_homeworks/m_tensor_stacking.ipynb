{
  "nbformat": 4,
  "nbformat_minor": 0,
  "metadata": {
    "colab": {
      "provenance": []
    },
    "kernelspec": {
      "name": "python3",
      "display_name": "Python 3"
    },
    "language_info": {
      "name": "python"
    }
  },
  "cells": [
    {
      "cell_type": "code",
      "execution_count": 2,
      "metadata": {
        "colab": {
          "base_uri": "https://localhost:8080/"
        },
        "id": "uArgnEisOtIA",
        "outputId": "33543090-92bf-4d7a-98ef-12578213b83f"
      },
      "outputs": [
        {
          "output_type": "stream",
          "name": "stdout",
          "text": [
            "torch.Size([2, 6, 3])\n",
            "################################################## 1\n",
            "torch.Size([8])\n",
            "tensor([0, 1, 2, 3, 4, 5, 6, 7])\n",
            "################################################## 2\n",
            "torch.Size([4, 3])\n",
            "tensor([[ 0,  1,  2],\n",
            "        [ 3,  4,  5],\n",
            "        [ 6,  7,  8],\n",
            "        [ 9, 10, 11]])\n",
            "torch.Size([2, 6])\n",
            "tensor([[ 0,  1,  2,  6,  7,  8],\n",
            "        [ 3,  4,  5,  9, 10, 11]])\n",
            "################################################## 3\n",
            "torch.Size([6, 3])\n",
            "tensor([[ 0,  1,  2],\n",
            "        [ 3,  4,  5],\n",
            "        [ 6,  7,  8],\n",
            "        [ 9, 10, 11],\n",
            "        [12, 13, 14],\n",
            "        [15, 16, 17]])\n",
            "torch.Size([2, 9])\n",
            "tensor([[ 0,  1,  2,  6,  7,  8, 12, 13, 14],\n",
            "        [ 3,  4,  5,  9, 10, 11, 15, 16, 17]])\n",
            "################################################## 4\n",
            "torch.Size([2, 2, 3])\n",
            "tensor([[[ 0,  1,  2],\n",
            "         [ 3,  4,  5]],\n",
            "\n",
            "        [[ 6,  7,  8],\n",
            "         [ 9, 10, 11]]])\n",
            "torch.Size([1, 4, 3])\n",
            "tensor([[[ 0,  1,  2],\n",
            "         [ 3,  4,  5],\n",
            "         [ 6,  7,  8],\n",
            "         [ 9, 10, 11]]])\n",
            "torch.Size([1, 2, 6])\n",
            "tensor([[[ 0,  1,  2,  6,  7,  8],\n",
            "         [ 3,  4,  5,  9, 10, 11]]])\n"
          ]
        }
      ],
      "source": [
        "import torch\n",
        "\n",
        "t1 = torch.tensor([[1, 2, 3], [4, 5, 6]])\n",
        "t2 = torch.tensor([[7, 8, 9], [10, 11, 12]])\n",
        "\n",
        "# 0번쨰 차원에서 stack\n",
        "t3 = torch.stack([t1, t2], dim=0)\n",
        "# 0번째 차원에서 unsqueeze하고 cat\n",
        "t4 = torch.cat([t1.unsqueeze(dim=0), t2.unsqueeze(dim=0)], dim=0)\n",
        "# t4와 t3 같은지 비교\n",
        "print(t3.shape, t3.equal(t4))\n",
        "\n",
        "# 1번쨰 차원에서 stack\n",
        "t5 = torch.stack([t1, t2], dim=1)\n",
        "# 1번째 차원에서 unsqueeze하고 cat\n",
        "t6 = torch.cat([t1.unsqueeze(dim=1), t2.unsqueeze(dim=1)], dim=1)\n",
        "# t6와 t5 같은지 비교\n",
        "print(t5.shape, t5.equal(t6))\n",
        "\n",
        "# 2번쨰 차원에서 stack\n",
        "t7 = torch.stack([t1, t2], dim=2)\n",
        "# 2번째 차원에서 unsqueeze하고 cat\n",
        "t8 = torch.cat([t1.unsqueeze(dim=2), t2.unsqueeze(dim=2)], dim=2)\n",
        "# t8와 t7 같은지 비교\n",
        "print(t7.shape, t7.equal(t8))\n",
        "\n",
        "print(\"#\" * 50, 1)\n",
        "\n",
        "t9 = torch.arange(0, 3)\n",
        "t10 = torch.arange(3, 6)\n",
        "\n",
        "print(t9.size(), t10.size())\n",
        "\n",
        "# 0번쨰 차원에서 stack\n",
        "t11 = torch.stack((t9, t10), dim=0)\n",
        "print(t11.size())\n",
        "print(t11)\n",
        "\n",
        "# 0차원에서 unsqueeze하고 cat\n",
        "t12 = torch.cat((t9.unsqueeze(0), t10.unsqueeze(0)), dim=0)\n",
        "# t8와 t7 같은지 비교\n",
        "print(t11.equal(t12))  # 출력: True\n",
        "\n",
        "# 1차원에서 stack\n",
        "t13 = torch.stack((t9, t10), dim=1)\n",
        "print(t13.size())\n",
        "print(t13)\n",
        "\n",
        "# 1차원에서 unzqueeze하고 cat\n",
        "t14 = torch.cat((t9.unsqueeze(1), t10.unsqueeze(1)), dim=1)\n",
        "# t14와 t13 같은지 비교\n",
        "print(t13.equal(t14))\n"
      ]
    },
    {
      "cell_type": "code",
      "source": [],
      "metadata": {
        "id": "84eoJDicQXCK"
      },
      "execution_count": null,
      "outputs": []
    }
  ]
}